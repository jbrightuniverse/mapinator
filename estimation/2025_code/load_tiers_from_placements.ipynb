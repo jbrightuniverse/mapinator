{
 "cells": [
  {
   "cell_type": "code",
   "execution_count": 1,
   "metadata": {},
   "outputs": [
    {
     "name": "stderr",
     "output_type": "stream",
     "text": [
      "\u001b[32m\u001b[1m  Activating\u001b[22m\u001b[39m project at `C:\\Users\\jbrig\\Documents\\research\\mapinator_2024\\notes\\december_presentation`\n"
     ]
    }
   ],
   "source": [
    "using Pkg\n",
    "Pkg.activate(\".\")\n",
    "# for pkg in [\"HTTP\", \"JSON\", \"Distributions\", \"Random\", \"PrettyTables\", \"JLD\"]\n",
    "#     Pkg.add(pkg)\n",
    "# end\n",
    "\n",
    "#Pkg.instantiate()"
   ]
  },
  {
   "cell_type": "code",
   "execution_count": 2,
   "metadata": {},
   "outputs": [],
   "source": [
    "using JSON, JLD"
   ]
  },
  {
   "cell_type": "code",
   "execution_count": 3,
   "metadata": {},
   "outputs": [
    {
     "data": {
      "text/plain": [
       "Main.SBM"
      ]
     },
     "execution_count": 3,
     "metadata": {},
     "output_type": "execute_result"
    }
   ],
   "source": [
    "include(\"type_allocation_base_by_applicant_893.jl\")"
   ]
  },
  {
   "cell_type": "code",
   "execution_count": 4,
   "metadata": {},
   "outputs": [
    {
     "data": {
      "text/plain": [
       "Dict{String, Any} with 24 entries:\n",
       "  \"2009\" => Dict{String, Any}(\"1886\"=>Dict{String, Any}(\"disappeared\"=>nothing,…\n",
       "  \"2018\" => Dict{String, Any}(\"37196\"=>Dict{String, Any}(\"disappeared\"=>nothing…\n",
       "  \"2014\" => Dict{String, Any}(\"55893\"=>Dict{String, Any}(\"disappeared\"=>0, \"to_…\n",
       "  \"2005\" => Dict{String, Any}(\"11382\"=>Dict{String, Any}(\"disappeared\"=>0, \"to_…\n",
       "  \"2008\" => Dict{String, Any}(\"3720\"=>Dict{String, Any}(\"disappeared\"=>0, \"to_s…\n",
       "  \"2010\" => Dict{String, Any}(\"5422\"=>Dict{String, Any}(\"disappeared\"=>nothing,…\n",
       "  \"2016\" => Dict{String, Any}(\"29795\"=>Dict{String, Any}(\"disappeared\"=>nothing…\n",
       "  \"2019\" => Dict{String, Any}(\"43054\"=>Dict{String, Any}(\"disappeared\"=>nothing…\n",
       "  \"2004\" => Dict{String, Any}(\"24943\"=>Dict{String, Any}(\"disappeared\"=>nothing…\n",
       "  \"2026\" => Dict{String, Any}(\"61387\"=>Dict{String, Any}(\"disappeared\"=>0, \"to_…\n",
       "  \"2023\" => Dict{String, Any}(\"56205\"=>Dict{String, Any}(\"disappeared\"=>0, \"to_…\n",
       "  \"2007\" => Dict{String, Any}(\"24350\"=>Dict{String, Any}(\"disappeared\"=>nothing…\n",
       "  \"2017\" => Dict{String, Any}(\"27626\"=>Dict{String, Any}(\"disappeared\"=>0, \"to_…\n",
       "  \"2022\" => Dict{String, Any}(\"55591\"=>Dict{String, Any}(\"disappeared\"=>0, \"to_…\n",
       "  \"2021\" => Dict{String, Any}(\"40960\"=>Dict{String, Any}(\"disappeared\"=>0, \"to_…\n",
       "  \"2011\" => Dict{String, Any}(\"59924\"=>Dict{String, Any}(\"disappeared\"=>0, \"to_…\n",
       "  \"2006\" => Dict{String, Any}(\"2139\"=>Dict{String, Any}(\"disappeared\"=>nothing,…\n",
       "  \"2025\" => Dict{String, Any}(\"62504\"=>Dict{String, Any}(\"disappeared\"=>0, \"to_…\n",
       "  \"2015\" => Dict{String, Any}(\"24377\"=>Dict{String, Any}(\"disappeared\"=>nothing…\n",
       "  \"2012\" => Dict{String, Any}(\"36063\"=>Dict{String, Any}(\"disappeared\"=>0, \"to_…\n",
       "  \"2013\" => Dict{String, Any}(\"16501\"=>Dict{String, Any}(\"disappeared\"=>nothing…\n",
       "  \"2024\" => Dict{String, Any}(\"62977\"=>Dict{String, Any}(\"disappeared\"=>0, \"to_…\n",
       "  \"2020\" => Dict{String, Any}(\"45907\"=>Dict{String, Any}(\"disappeared\"=>0, \"to_…\n",
       "  \"2003\" => Dict{String, Any}(\"17827\"=>Dict{String, Any}(\"disappeared\"=>nothing…"
      ]
     },
     "execution_count": 4,
     "metadata": {},
     "output_type": "execute_result"
    }
   ],
   "source": [
    "to_from_by_year_api = SBM.fetch_data(\"to_from_by_year_mapinator_api.json\")"
   ]
  },
  {
   "cell_type": "code",
   "execution_count": 5,
   "metadata": {},
   "outputs": [
    {
     "data": {
      "text/plain": [
       "Dict{String, Any} with 21 entries:\n",
       "  \"2014\" => Dict{String, Any}(\"21269\"=>Dict{String, Any}(\"disappeared\"=>0, \"to_…\n",
       "  \"2018\" => Dict{String, Any}(\"30648\"=>Dict{String, Any}(\"disappeared\"=>0, \"to_…\n",
       "  \"2005\" => Dict{String, Any}(\"52068\"=>Dict{String, Any}(\"disappeared\"=>0, \"to_…\n",
       "  \"2008\" => Dict{String, Any}(\"13775\"=>Dict{String, Any}(\"disappeared\"=>0, \"to_…\n",
       "  \"2010\" => Dict{String, Any}(\"1495\"=>Dict{String, Any}(\"disappeared\"=>0, \"to_s…\n",
       "  \"2016\" => Dict{String, Any}(\"27274\"=>Dict{String, Any}(\"disappeared\"=>0, \"to_…\n",
       "  \"2019\" => Dict{String, Any}(\"42525\"=>Dict{String, Any}(\"disappeared\"=>0, \"to_…\n",
       "  \"2007\" => Dict{String, Any}(\"32\"=>Dict{String, Any}(\"disappeared\"=>0, \"to_sho…\n",
       "  \"2023\" => Dict{String, Any}(\"41022\"=>Dict{String, Any}(\"disappeared\"=>1, \"to_…\n",
       "  \"2017\" => Dict{String, Any}(\"40521\"=>Dict{String, Any}(\"disappeared\"=>0, \"to_…\n",
       "  \"2022\" => Dict{String, Any}(\"54879\"=>Dict{String, Any}(\"disappeared\"=>0, \"to_…\n",
       "  \"2021\" => Dict{String, Any}(\"48346\"=>Dict{String, Any}(\"disappeared\"=>0, \"to_…\n",
       "  \"2001\" => Dict{String, Any}(\"52049\"=>Dict{String, Any}(\"disappeared\"=>1, \"to_…\n",
       "  \"2011\" => Dict{String, Any}(\"51564\"=>Dict{String, Any}(\"disappeared\"=>0, \"to_…\n",
       "  \"2025\" => Dict{String, Any}(\"50537\"=>Dict{String, Any}(\"disappeared\"=>1, \"to_…\n",
       "  \"2015\" => Dict{String, Any}(\"25719\"=>Dict{String, Any}(\"disappeared\"=>0, \"to_…\n",
       "  \"2012\" => Dict{String, Any}(\"31653\"=>Dict{String, Any}(\"disappeared\"=>0, \"to_…\n",
       "  \"2013\" => Dict{String, Any}(\"44385\"=>Dict{String, Any}(\"disappeared\"=>0, \"to_…\n",
       "  \"2024\" => Dict{String, Any}(\"62884\"=>Dict{String, Any}(\"disappeared\"=>0, \"to_…\n",
       "  \"2020\" => Dict{String, Any}(\"51250\"=>Dict{String, Any}(\"disappeared\"=>0, \"to_…\n",
       "  \"2009\" => Dict{String, Any}(\"8071\"=>Dict{String, Any}(\"disappeared\"=>0, \"to_s…"
      ]
     },
     "execution_count": 5,
     "metadata": {},
     "output_type": "execute_result"
    }
   ],
   "source": [
    "by_year_893 = SBM.fetch_data(\"to_from_by_year_893_mapinator_api.json\")"
   ]
  },
  {
   "cell_type": "code",
   "execution_count": 6,
   "metadata": {},
   "outputs": [
    {
     "data": {
      "text/plain": [
       "2003:2026"
      ]
     },
     "execution_count": 6,
     "metadata": {},
     "output_type": "execute_result"
    }
   ],
   "source": [
    "included_years = [parse(Int, year) for year in keys(to_from_by_year_api)]\n",
    "# auto-detect year interval; change this to select the years of data to include in the estimation\n",
    "YEAR_INTERVAL = minimum(included_years):maximum(included_years)"
   ]
  },
  {
   "cell_type": "code",
   "execution_count": 7,
   "metadata": {},
   "outputs": [
    {
     "data": {
      "text/plain": [
       "Dict{Any, Any} with 20 entries:\n",
       "  \"2014\" => Dict{String, Any}(\"21269\"=>Dict{String, Any}(\"disappeared\"=>0, \"to_…\n",
       "  \"2005\" => Dict{String, Any}(\"52068\"=>Dict{String, Any}(\"disappeared\"=>0, \"to_…\n",
       "  \"2018\" => Dict{String, Any}(\"30648\"=>Dict{String, Any}(\"disappeared\"=>0, \"to_…\n",
       "  \"2020\" => Dict{String, Any}(\"51250\"=>Dict{String, Any}(\"disappeared\"=>0, \"to_…\n",
       "  \"2010\" => Dict{String, Any}(\"1495\"=>Dict{String, Any}(\"disappeared\"=>0, \"to_s…\n",
       "  \"2016\" => Dict{String, Any}(\"27274\"=>Dict{String, Any}(\"disappeared\"=>0, \"to_…\n",
       "  \"2019\" => Dict{String, Any}(\"42525\"=>Dict{String, Any}(\"disappeared\"=>0, \"to_…\n",
       "  \"2007\" => Dict{String, Any}(\"32\"=>Dict{String, Any}(\"disappeared\"=>0, \"to_sho…\n",
       "  \"2023\" => Dict{String, Any}(\"41022\"=>Dict{String, Any}(\"disappeared\"=>1, \"to_…\n",
       "  \"2017\" => Dict{String, Any}(\"40521\"=>Dict{String, Any}(\"disappeared\"=>0, \"to_…\n",
       "  \"2022\" => Dict{String, Any}(\"54879\"=>Dict{String, Any}(\"disappeared\"=>0, \"to_…\n",
       "  \"2021\" => Dict{String, Any}(\"48346\"=>Dict{String, Any}(\"disappeared\"=>0, \"to_…\n",
       "  \"2011\" => Dict{String, Any}(\"51564\"=>Dict{String, Any}(\"disappeared\"=>0, \"to_…\n",
       "  \"2025\" => Dict{String, Any}(\"50537\"=>Dict{String, Any}(\"disappeared\"=>1, \"to_…\n",
       "  \"2015\" => Dict{String, Any}(\"25719\"=>Dict{String, Any}(\"disappeared\"=>0, \"to_…\n",
       "  \"2012\" => Dict{String, Any}(\"31653\"=>Dict{String, Any}(\"disappeared\"=>0, \"to_…\n",
       "  \"2013\" => Dict{String, Any}(\"44385\"=>Dict{String, Any}(\"disappeared\"=>0, \"to_…\n",
       "  \"2024\" => Dict{String, Any}(\"62884\"=>Dict{String, Any}(\"disappeared\"=>0, \"to_…\n",
       "  \"2009\" => Dict{String, Any}(\"8071\"=>Dict{String, Any}(\"disappeared\"=>0, \"to_s…\n",
       "  \"2008\" => Dict{String, Any}(\"13775\"=>Dict{String, Any}(\"disappeared\"=>0, \"to_…"
      ]
     },
     "execution_count": 7,
     "metadata": {},
     "output_type": "execute_result"
    }
   ],
   "source": [
    "by_year_893_api = Dict()\n",
    "for key in YEAR_INTERVAL\n",
    "    if string(key) in keys(by_year_893)\n",
    "        by_year_893_api[string(key)] = by_year_893[string(key)]\n",
    "    end\n",
    "end\n",
    "by_year_893_api"
   ]
  },
  {
   "cell_type": "code",
   "execution_count": 8,
   "metadata": {},
   "outputs": [
    {
     "data": {
      "text/plain": [
       "Dict{Any, Any} with 14742 entries:\n",
       "  \"43399\" => 2020\n",
       "  \"45445\" => 2020\n",
       "  \"48189\" => 2018\n",
       "  \"43935\" => 2014\n",
       "  \"53230\" => 2023\n",
       "  \"50675\" => 2021\n",
       "  \"42410\" => 2019\n",
       "  \"47359\" => 2019\n",
       "  \"49576\" => 2021\n",
       "  \"61935\" => 2025\n",
       "  \"48877\" => 2022\n",
       "  \"24363\" => 2003\n",
       "  \"36678\" => 2019\n",
       "  \"58038\" => 2023\n",
       "  \"57052\" => 2023\n",
       "  \"44924\" => 2020\n",
       "  \"52234\" => 2021\n",
       "  \"42792\" => 2020\n",
       "  \"46555\" => 2021\n",
       "  \"50070\" => 2021\n",
       "  \"45204\" => 2013\n",
       "  \"8603\"  => 2011\n",
       "  \"7529\"  => 2011\n",
       "  \"28215\" => 2004\n",
       "  \"30875\" => 2016\n",
       "  ⋮       => ⋮"
      ]
     },
     "execution_count": 8,
     "metadata": {},
     "output_type": "execute_result"
    }
   ],
   "source": [
    "successful_applicant_outcome_years = Dict()\n",
    "for year in keys(to_from_by_year_api)\n",
    "    if parse(Int32, year) in YEAR_INTERVAL\n",
    "        # ASSUMPTION: every applicant ID has only one placement\n",
    "        for (applicant_id, placement) in to_from_by_year_api[year]\n",
    "            if applicant_id in keys(successful_applicant_outcome_years)\n",
    "                println(\"ERROR: applicant $(applicant_id) seen multiple times in dataset\")\n",
    "            end\n",
    "            successful_applicant_outcome_years[applicant_id] = parse(Int32, year)\n",
    "        end\n",
    "    end\n",
    "end\n",
    "\n",
    "successful_applicant_outcome_years"
   ]
  },
  {
   "cell_type": "code",
   "execution_count": 9,
   "metadata": {},
   "outputs": [],
   "source": [
    "applicant_mapping, department_mapping, applicant_list, department_list, academic, academic_to, academic_builder, rough_sink_builder, department_name_mapping, reverse_mapping, applicant_department_mapping = SBM.get_builders(to_from_by_year_api, YEAR_INTERVAL);"
   ]
  },
  {
   "cell_type": "code",
   "execution_count": 10,
   "metadata": {},
   "outputs": [],
   "source": [
    "# sink of teaching universities that do not graduate PhDs\n",
    "# this must be constructed using academic placements, not pre-defined sink placements\n",
    "\n",
    "teaching_universities = Set() \n",
    "for dept_name in academic_to\n",
    "    if !(dept_name in academic)\n",
    "        # the department hired an assistant professor but never graduated anyone\n",
    "        push!(teaching_universities, dept_name)\n",
    "    end\n",
    "end"
   ]
  },
  {
   "cell_type": "code",
   "execution_count": 11,
   "metadata": {},
   "outputs": [
    {
     "name": "stdout",
     "output_type": "stream",
     "text": [
      "Including the following sinks:\n",
      " Public Sector\n",
      " Private Sector\n",
      " Other Groups\n",
      " Lecturers\n",
      " Teaching Universities\n",
      "Total 5 sinks\n",
      "1821 academic departments, 3932 total departments\n"
     ]
    }
   ],
   "source": [
    "public_sector = (\"Public Sector\", Set())\n",
    "private_sector = (\"Private Sector\", Set())\n",
    "other_groups = (\"Other Groups\", Set())\n",
    "\n",
    "postdocs = (\"Postdocs\", Set())\n",
    "lecturers = (\"Lecturers\", Set())\n",
    "other_academic = (\"Other Academic\", Set())\n",
    "\n",
    "for outcome in rough_sink_builder\n",
    "    if outcome[\"recruiter_type\"] == 5 # government institution\n",
    "        push!(public_sector[2], (string(outcome[\"to_name\"], \" ($(public_sector[1]))\"), outcome))\n",
    "    elseif outcome[\"recruiter_type\"] in [6, 7] # private sector: for and not for profit\n",
    "        push!(private_sector[2], (string(outcome[\"to_name\"], \" ($(private_sector[1]))\"), outcome))\n",
    "    elseif outcome[\"recruiter_type\"] == 8 # international organizations, think tanks, assorted\n",
    "        push!(other_groups[2], (string(outcome[\"to_name\"], \" ($(other_groups[1]))\"), outcome))\n",
    "\n",
    "    # some other examples\n",
    "    # every example here must also have a corresponding sink Set() above, \n",
    "    #     and an entry in sinks_to_include below\n",
    "   \n",
    "    elseif outcome[\"postype\"] == 6\n",
    "        # postdocs that are not in the above (i.e. academic; not public, private, or other)\n",
    "        # requires reconfiguration of the to_from_by_year loading code\n",
    "        push!(postdocs[2], (string(outcome[\"to_name\"], \" ($(postdocs[1]))\"), outcome))\n",
    "    elseif outcome[\"postype\"] in [5, 7]\n",
    "        # lecturers that are not in the above\n",
    "        # requires reconfiguration of the to_from_by_year loading code\n",
    "        push!(lecturers[2], (string(outcome[\"to_name\"], \" ($(lecturers[1]))\"), outcome))\n",
    "    else\n",
    "        # everything else including terminal academic positions\n",
    "        # this sink can only be constructed as an \"else\" statement\n",
    "        push!(other_academic[2], (string(outcome[\"to_name\"], \" ($(other_academic[1]))\"), outcome))\n",
    "    \n",
    "    end\n",
    "end\n",
    "\n",
    "# TODO: if not including a sink results in a department/applicant having zero placements, should it still be included in the adjacency matrix?\n",
    "# if we know a department exists but has no placements, is this part of the network structure? \n",
    "# removing the department means the department does not exist in the network\n",
    "\n",
    "# sort to ensure consistent ordering\n",
    "academic_list = sort(collect(academic))\n",
    "teaching_list = sort(collect(teaching_universities))\n",
    "# to be consistent with the original estimation, we only include these additional sinks:\n",
    "sinks_to_include = (public_sector, private_sector, other_groups, lecturers)#, postdocs, lecturers, other_academic)\n",
    "\n",
    "sink_mapping, sink_list, sink_builder, sinks, sink_labels = SBM.build_sinks(sinks_to_include, teaching_list)\n",
    "\n",
    "NUMBER_OF_SINKS = length(sink_labels)\n",
    "institutions = vcat(academic_list, sinks...)\n",
    "println(\"$(length(academic_list)) academic departments, $(length(institutions)) total departments\")"
   ]
  },
  {
   "cell_type": "code",
   "execution_count": 12,
   "metadata": {},
   "outputs": [
    {
     "data": {
      "text/plain": [
       "13404"
      ]
     },
     "execution_count": 12,
     "metadata": {},
     "output_type": "execute_result"
    }
   ],
   "source": [
    "length(academic_builder) + length(sink_builder)"
   ]
  },
  {
   "cell_type": "code",
   "execution_count": 13,
   "metadata": {},
   "outputs": [
    {
     "data": {
      "text/plain": [
       "1181-element Vector{Any}:\n",
       " Dict{String, Any}(\"name\" => \"Aalborg University\", \"institution_id\" => \"1272\", \"type\" => 4)\n",
       " Dict{String, Any}(\"name\" => \"Aalto University\", \"institution_id\" => \"332\", \"type\" => 3)\n",
       " Dict{String, Any}(\"name\" => \"Aarhus University\", \"institution_id\" => \"206\", \"type\" => 3)\n",
       " Dict{String, Any}(\"name\" => \"Abubakar Tafawa Balewa University\", \"institution_id\" => \"4640\", \"type\" => 5)\n",
       " Dict{String, Any}(\"name\" => \"Academy of Postgraduate Education (Академия последипломного образования)\", \"institution_id\" => \"3656\", \"type\" => 5)\n",
       " Dict{String, Any}(\"name\" => \"Accra Institute of Technology\", \"institution_id\" => \"6902\", \"type\" => 5)\n",
       " Dict{String, Any}(\"name\" => \"Acharya Nagarjuna University\", \"institution_id\" => \"4432\", \"type\" => 5)\n",
       " Dict{String, Any}(\"name\" => \"Adam Mickiewicz University, Poznań\", \"institution_id\" => \"3855\", \"type\" => 5)\n",
       " Dict{String, Any}(\"name\" => \"Adnan Menderes University\", \"institution_id\" => \"2374\", \"type\" => 5)\n",
       " Dict{String, Any}(\"name\" => \"Agricultural University of Tirana\", \"institution_id\" => \"2641\", \"type\" => 5)\n",
       " Dict{String, Any}(\"name\" => \"AgroParisTech\", \"institution_id\" => \"612\", \"type\" => 4)\n",
       " Dict{String, Any}(\"name\" => \"Ain Shams University\", \"institution_id\" => \"2445\", \"type\" => 5)\n",
       " Dict{String, Any}(\"name\" => \"Aix-Marseille Université\", \"institution_id\" => \"1335\", \"type\" => 3)\n",
       " ⋮\n",
       " Dict{String, Any}(\"name\" => \"Yokohama National University\", \"institution_id\" => \"2010\", \"type\" => 5)\n",
       " Dict{String, Any}(\"name\" => \"Yonsei University\", \"institution_id\" => \"2094\", \"type\" => 4)\n",
       " Dict{String, Any}(\"name\" => \"York University\", \"institution_id\" => \"963\", \"type\" => 3)\n",
       " Dict{String, Any}(\"name\" => \"Zhejiang Gongshang University\", \"institution_id\" => \"1119\", \"type\" => 4)\n",
       " Dict{String, Any}(\"name\" => \"Zhejiang University\", \"institution_id\" => \"3082\", \"type\" => 4)\n",
       " Dict{String, Any}(\"name\" => \"Zhongnan University of Economics and Law\", \"institution_id\" => \"2689\", \"type\" => 4)\n",
       " Dict{String, Any}(\"name\" => \"École Normale Superieure de Lyon\", \"institution_id\" => \"1591\", \"type\" => 4)\n",
       " Dict{String, Any}(\"name\" => \"École Normale Supérieure\", \"institution_id\" => \"3821\", \"type\" => 5)\n",
       " Dict{String, Any}(\"name\" => \"École Normale Supérieure Paris-Saclay\", \"institution_id\" => \"1764\", \"type\" => 5)\n",
       " Dict{String, Any}(\"name\" => \"École Polytechnique Fédérale de Lausanne\", \"institution_id\" => \"693\", \"type\" => 4)\n",
       " Dict{String, Any}(\"name\" => \"Özyeğin University\", \"institution_id\" => \"330\", \"type\" => 4)\n",
       " Dict{String, Any}(\"name\" => \"İzmir University of Economics\", \"institution_id\" => \"2017\", \"type\" => 4)"
      ]
     },
     "execution_count": 13,
     "metadata": {},
     "output_type": "execute_result"
    }
   ],
   "source": [
    "type_allocation_data = JSON.parsefile(\"id_to_type_api.json\")"
   ]
  },
  {
   "cell_type": "code",
   "execution_count": 14,
   "metadata": {},
   "outputs": [
    {
     "name": "stdout",
     "output_type": "stream",
     "text": [
      "max tier: 5\n"
     ]
    },
    {
     "data": {
      "text/plain": [
       "Dict{Any, Any} with 1181 entries:\n",
       "  \"1\"    => 2\n",
       "  \"2243\" => 5\n",
       "  \"5762\" => 5\n",
       "  \"1881\" => 5\n",
       "  \"4743\" => 5\n",
       "  \"491\"  => 3\n",
       "  \"332\"  => 3\n",
       "  \"6264\" => 5\n",
       "  \"1894\" => 4\n",
       "  \"2579\" => 5\n",
       "  \"2696\" => 5\n",
       "  \"4699\" => 5\n",
       "  \"2394\" => 5\n",
       "  \"2366\" => 4\n",
       "  \"3823\" => 5\n",
       "  \"416\"  => 4\n",
       "  \"23\"   => 3\n",
       "  \"2631\" => 5\n",
       "  \"2527\" => 5\n",
       "  \"815\"  => 4\n",
       "  \"1588\" => 4\n",
       "  \"39\"   => 4\n",
       "  \"2723\" => 5\n",
       "  \"112\"  => 4\n",
       "  \"791\"  => 4\n",
       "  ⋮      => ⋮"
      ]
     },
     "execution_count": 14,
     "metadata": {},
     "output_type": "execute_result"
    }
   ],
   "source": [
    "type_allocation_dict = Dict()\n",
    "max_tier = 0\n",
    "for entry in type_allocation_data\n",
    "    if entry[\"type\"] > max_tier\n",
    "        max_tier = entry[\"type\"]\n",
    "    end\n",
    "    type_allocation_dict[entry[\"institution_id\"]] = entry[\"type\"]\n",
    "end\n",
    "println(\"max tier: \", max_tier)\n",
    "NUMBER_OF_TYPES = max_tier\n",
    "numtotal = NUMBER_OF_TYPES + NUMBER_OF_SINKS\n",
    "type_allocation_dict"
   ]
  },
  {
   "cell_type": "code",
   "execution_count": 15,
   "metadata": {},
   "outputs": [
    {
     "data": {
      "text/plain": [
       "5-element Vector{Any}:\n",
       " \"Public Sector\"\n",
       " \"Private Sector\"\n",
       " \"Other Groups\"\n",
       " \"Lecturers\"\n",
       " \"Teaching Universities\""
      ]
     },
     "execution_count": 15,
     "metadata": {},
     "output_type": "execute_result"
    }
   ],
   "source": [
    "sink_labels"
   ]
  },
  {
   "cell_type": "code",
   "execution_count": 16,
   "metadata": {},
   "outputs": [
    {
     "name": "stdout",
     "output_type": "stream",
     "text": [
      "missing from_institution 754 Ocean and Crow Studios Inc, skipping outcome\n",
      "outcomes: 13403 13403\n"
     ]
    },
    {
     "data": {
      "text/plain": [
       "10×5 Matrix{Int64}:\n",
       " 761  115   41    8    0\n",
       " 879  569  148   48    4\n",
       " 839  993  443   60   14\n",
       " 176  306  217  140   11\n",
       "   3   14   16   15   46\n",
       " 582  596  301   79   19\n",
       " 700  438  244   68   24\n",
       " 218  187  114   39    9\n",
       " 165  244  315  201  104\n",
       " 676  967  815  309  123"
      ]
     },
     "execution_count": 16,
     "metadata": {},
     "output_type": "execute_result"
    }
   ],
   "source": [
    "outcome_counter = 0\n",
    "placement_matrix = zeros(Int64, numtotal, NUMBER_OF_TYPES)\n",
    "successful_tier_1 = 0\n",
    "successful_tier_1_range = 2018:2023\n",
    "for (applicant_id, outcome) in academic_builder\n",
    "    outcome_to_name = string(outcome[\"to_name\"], \" - \", outcome[\"to_department\"])\n",
    "    if !(string(outcome[\"from_institution_id\"]) in keys(type_allocation_dict))\n",
    "        println(\"missing from_institution \", string(outcome[\"from_institution_id\"]), \" \", outcome[\"from_institution_name\"], \", skipping outcome\")\n",
    "        continue\n",
    "    end\n",
    "    from_tier = type_allocation_dict[string(outcome[\"from_institution_id\"])]\n",
    "    if !(outcome_to_name in academic)\n",
    "        outcome_counter += 1\n",
    "        sink_tier = numtotal\n",
    "        if ((from_tier == 1) && (successful_applicant_outcome_years[applicant_id] in successful_tier_1_range))\n",
    "            successful_tier_1 += 1\n",
    "        end\n",
    "        placement_matrix[sink_tier, from_tier] += 1\n",
    "    else\n",
    "        if !(string(outcome[\"to_institution_id\"]) in keys(type_allocation_dict))\n",
    "            println(\"missing to_institution \", string(outcome[\"to_institution_id\"]), \" \", outcome_to_name, \", skipping outcome\")\n",
    "            continue\n",
    "        end\n",
    "        outcome_counter += 1\n",
    "        if ((from_tier == 1) && (successful_applicant_outcome_years[applicant_id] in successful_tier_1_range))\n",
    "            successful_tier_1 += 1\n",
    "        end\n",
    "        placement_matrix[type_allocation_dict[string(outcome[\"to_institution_id\"])], from_tier] += 1\n",
    "    end\n",
    "end\n",
    "for (outcome_to_name, outcome) in sink_builder\n",
    "    if !(string(outcome[\"from_institution_id\"]) in keys(type_allocation_dict))\n",
    "        println(\"missing from_institution \", string(outcome[\"from_institution_id\"]), \" \", outcome[\"from_institution_name\"], \", skipping outcome\")\n",
    "        continue\n",
    "    end\n",
    "    outcome_counter += 1\n",
    "    if occursin(\" (Public Sector)\", outcome_to_name)\n",
    "        sink_tier = NUMBER_OF_TYPES + 1\n",
    "    elseif occursin(\" (Private Sector)\", outcome_to_name)\n",
    "        sink_tier = NUMBER_OF_TYPES + 2\n",
    "    elseif occursin(\" (Other Groups)\", outcome_to_name)\n",
    "        sink_tier = NUMBER_OF_TYPES + 3\n",
    "    elseif occursin(\" (Lecturers)\", outcome_to_name)\n",
    "        sink_tier = NUMBER_OF_TYPES + 4\n",
    "    else\n",
    "        println(\"INVALID SINK DETECTED\")\n",
    "    end\n",
    "    from_tier = type_allocation_dict[string(outcome[\"from_institution_id\"])]\n",
    "    if ((from_tier == 1) && (successful_applicant_outcome_years[outcome[\"aid\"]] in successful_tier_1_range))\n",
    "        successful_tier_1 += 1\n",
    "    end\n",
    "    placement_matrix[sink_tier, from_tier] += 1\n",
    "end\n",
    "println(\"outcomes: \", outcome_counter, \" \", sum(placement_matrix))\n",
    "placement_matrix"
   ]
  },
  {
   "cell_type": "code",
   "execution_count": 17,
   "metadata": {},
   "outputs": [
    {
     "name": "stdout",
     "output_type": "stream",
     "text": [
      "[300, 544, 667, 364, 273]\n"
     ]
    }
   ],
   "source": [
    "unmatched = zeros(Int, NUMBER_OF_TYPES)\n",
    "\n",
    "for year in keys(by_year_893_api)\n",
    "    if parse(Int32, year) in YEAR_INTERVAL\n",
    "        # ASSUMPTION: every applicant ID has only one placement\n",
    "        for (applicant_id, outcome) in by_year_893_api[year]\n",
    "            if string(outcome[\"from_institution_id\"]) in keys(type_allocation_dict)\n",
    "                from_tier = type_allocation_dict[string(outcome[\"from_institution_id\"])]\n",
    "                unmatched[from_tier] += 1\n",
    "            end\n",
    "        end\n",
    "    end\n",
    "end\n",
    "\n",
    "println(unmatched)"
   ]
  },
  {
   "cell_type": "code",
   "execution_count": 18,
   "metadata": {},
   "outputs": [
    {
     "data": {
      "text/plain": [
       "2098"
      ]
     },
     "execution_count": 18,
     "metadata": {},
     "output_type": "execute_result"
    }
   ],
   "source": [
    "successful_tier_1"
   ]
  },
  {
   "cell_type": "markdown",
   "metadata": {},
   "source": [
    "### Compute the number of successful graduates in Tier 1 from 2018 to 2023"
   ]
  },
  {
   "cell_type": "code",
   "execution_count": 19,
   "metadata": {},
   "outputs": [],
   "source": [
    "save(\"placement_matrices.jld\", \"placement_matrix\", placement_matrix, \"unmatched\", unmatched, \"successful_tier_1\", successful_tier_1, \"successful_tier_1_range\", successful_tier_1_range)"
   ]
  }
 ],
 "metadata": {
  "kernelspec": {
   "display_name": "Julia 1.11.1",
   "language": "julia",
   "name": "julia-1.11"
  },
  "language_info": {
   "file_extension": ".jl",
   "mimetype": "application/julia",
   "name": "julia",
   "version": "1.11.1"
  },
  "widgets": {
   "application/vnd.jupyter.widget-state+json": {
    "state": {},
    "version_major": 2,
    "version_minor": 0
   }
  }
 },
 "nbformat": 4,
 "nbformat_minor": 4
}
