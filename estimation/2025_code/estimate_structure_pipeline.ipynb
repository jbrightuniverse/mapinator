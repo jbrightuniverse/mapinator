{
 "cells": [
  {
   "cell_type": "markdown",
   "id": "d9fe68d4-ec10-4003-8587-fb7d99ada989",
   "metadata": {},
   "source": [
    "# Structural Estimation of Market Parameters\n",
    "\n",
    "### Simultaneous Estimator, Truncated Normal with Variance, Optim Second Stage\n",
    "\n",
    "James Yu"
   ]
  },
  {
   "cell_type": "code",
   "execution_count": 1,
   "id": "b2dfd47a-92cf-4803-ad29-1e86305dabff",
   "metadata": {},
   "outputs": [
    {
     "name": "stderr",
     "output_type": "stream",
     "text": [
      "\u001b[32m\u001b[1m  Activating\u001b[22m\u001b[39m project at `C:\\Users\\jbrig\\Documents\\research\\mapinator_2024`\n",
      "\u001b[32m\u001b[1m    CondaPkg \u001b[22m\u001b[39m\u001b[0mFound dependencies: C:\\Users\\jbrig\\.julia\\packages\\PythonCall\\Nr75f\\CondaPkg.toml\n",
      "\u001b[32m\u001b[1m    CondaPkg \u001b[22m\u001b[39m\u001b[0mFound dependencies: C:\\Users\\jbrig\\.julia\\packages\\PythonPlot\\469aA\\CondaPkg.toml\n",
      "\u001b[32m\u001b[1m    CondaPkg \u001b[22m\u001b[39m\u001b[0mDependencies already up to date\n"
     ]
    }
   ],
   "source": [
    "using Pkg\n",
    "Pkg.activate(\".\")\n",
    "pkg_list = [\n",
    "    \"BlackBoxOptim\", \n",
    "    \"Cubature\", \n",
    "    \"Distributions\", \n",
    "    \"Integrals\", \n",
    "    \"Optim\", \n",
    "    \"Roots\", \n",
    "    \"FiniteDiff\", \n",
    "    \"PythonPlot\", \n",
    "    \"PrettyTables\", \n",
    "    \"JLD\", \n",
    "    \"StatProfilerHTML\",\n",
    "    \"SpecialFunctions\"\n",
    "]\n",
    "#for pkg in pkg_list \n",
    "#    Pkg.add(pkg)\n",
    "#end\n",
    "\n",
    "#Pkg.instantiate()\n",
    "\n",
    "using BlackBoxOptim, Cubature, Distributions, Integrals, Optim, Random, Roots, FiniteDiff, PythonPlot, PrettyTables, JLD, SpecialFunctions"
   ]
  },
  {
   "cell_type": "markdown",
   "id": "17d467bc-ef7d-480f-abde-2b48b5850633",
   "metadata": {},
   "source": [
    "# STEP 1: Get placements matrix"
   ]
  },
  {
   "cell_type": "code",
   "execution_count": 2,
   "id": "22b4d603-5695-4fb7-99dd-abbbbc31c91e",
   "metadata": {},
   "outputs": [
    {
     "name": "stdout",
     "output_type": "stream",
     "text": [
      "original dimensions: 9 by 4\n",
      "new dimensions: 6 by 4\n"
     ]
    },
    {
     "data": {
      "text/plain": [
       "4-element Vector{Float64}:\n",
       " 0.20711305886814715\n",
       " 0.26071383422527494\n",
       " 0.3301167249589145\n",
       " 0.2020563819476634"
      ]
     },
     "execution_count": 2,
     "metadata": {},
     "output_type": "execute_result"
    }
   ],
   "source": [
    "type_allocation_res = load(\"type_allocation_results_4.jld\")\n",
    "placement_rates_raw = type_allocation_res[\"placement_rates\"]\n",
    "unmatched_raw = type_allocation_res[\"unmatched\"]\n",
    "k = size(placement_rates_raw)[2]\n",
    "K = size(placement_rates_raw)[1]\n",
    "\n",
    "# conduct adjustment using the relative m_t values\n",
    "m_t_values = type_allocation_res[\"m_t_values\"]\n",
    "m_t_placements = zeros(Int, k)\n",
    "for t in 1:k\n",
    "    m_t_placements[t] = sum(placement_rates_raw[:, t]) + unmatched_raw[t]\n",
    "end\n",
    "\n",
    "placement_rates_rescaled = zeros(Int, K, k)\n",
    "for i in 1:K\n",
    "    for t in 1:k\n",
    "        placement_rates_rescaled[i, t] = round(m_t_values[t] * (placement_rates_raw[i, t] / m_t_placements[t]))\n",
    "    end\n",
    "end\n",
    "\n",
    "# collapse the last three sinks together\n",
    "println(\"original dimensions: \", K, \" by \", k)\n",
    "K -= 2\n",
    "K -= 1\n",
    "println(\"new dimensions: \", K, \" by \", k)\n",
    "\n",
    "placement_rates = zeros(Int, K, k)\n",
    "for i in 1:3 # NOTE: hardcoded\n",
    "    for t in 1:k\n",
    "        placement_rates[i, t] = placement_rates_rescaled[i, t]\n",
    "    end\n",
    "end\n",
    "\n",
    "for i in 4:7 # NOTE: hardcoded\n",
    "    for t in 1:k\n",
    "        placement_rates[i-1, t] += placement_rates_rescaled[i, t]\n",
    "    end\n",
    "end\n",
    "\n",
    "for t in 1:k\n",
    "    for original_sink_tier in [K+2, K+3] # NOTE: hardcoded\n",
    "        placement_rates[K, t] += placement_rates_rescaled[original_sink_tier, t] \n",
    "    end\n",
    "end\n",
    "\n",
    "estimated_m_val = sum(m_t_values[1:k])\n",
    "estimated_γ = m_t_values[1:k] / estimated_m_val"
   ]
  },
  {
   "cell_type": "code",
   "execution_count": 3,
   "id": "c0b0f206-6a97-46db-bfb8-b4a673c7fc54",
   "metadata": {},
   "outputs": [],
   "source": [
    "placement_rates_raw_table = zeros(Int, K, k)\n",
    "for i in 1:3 # NOTE: hardcoded\n",
    "    for t in 1:k\n",
    "        placement_rates_raw_table[i, t] = placement_rates_raw[i, t]\n",
    "    end\n",
    "end\n",
    "\n",
    "for i in 4:7 # NOTE: hardcoded\n",
    "    for t in 1:k\n",
    "        placement_rates_raw_table[i-1, t] += placement_rates_raw[i, t]\n",
    "    end\n",
    "end\n",
    "\n",
    "for t in 1:k\n",
    "    for original_sink_tier in [K+2, K+3] # NOTE: hardcoded\n",
    "        placement_rates_raw_table[K, t] += placement_rates_raw[original_sink_tier, t] \n",
    "    end\n",
    "end"
   ]
  },
  {
   "cell_type": "code",
   "execution_count": 4,
   "id": "a0d1a445-ee35-4a57-b2b8-d08e6d53f8b5",
   "metadata": {},
   "outputs": [
    {
     "data": {
      "text/plain": [
       "9×4 Matrix{Int64}:\n",
       "  880   141   56    8\n",
       "  938   547  158   31\n",
       " 1147  1320  703   72\n",
       "   95   220  247  211\n",
       "  600   565  331   81\n",
       "  727   428  243   76\n",
       "  215   190  120   42\n",
       "  149   245  349  287\n",
       "  425   634  655  268"
      ]
     },
     "execution_count": 4,
     "metadata": {},
     "output_type": "execute_result"
    }
   ],
   "source": [
    "placement_rates_raw"
   ]
  },
  {
   "cell_type": "code",
   "execution_count": 5,
   "id": "769b0538-a972-4710-899f-81fe1b470d51",
   "metadata": {},
   "outputs": [
    {
     "data": {
      "text/plain": [
       "6×4 Matrix{Int64}:\n",
       "  788   182   122    26\n",
       "  840   704   344    99\n",
       " 1112  1983  2068   904\n",
       "  537   728   720   259\n",
       "  651   551   529   243\n",
       "  705  1376  2447  1908"
      ]
     },
     "execution_count": 5,
     "metadata": {},
     "output_type": "execute_result"
    }
   ],
   "source": [
    "placement_rates"
   ]
  },
  {
   "cell_type": "code",
   "execution_count": 6,
   "id": "523752e7-08ef-4113-9b5a-c62a55718790",
   "metadata": {},
   "outputs": [
    {
     "data": {
      "text/plain": [
       "4-element Vector{Int64}:\n",
       " 4915\n",
       " 6187\n",
       " 7834\n",
       " 4795"
      ]
     },
     "execution_count": 6,
     "metadata": {},
     "output_type": "execute_result"
    }
   ],
   "source": [
    "m_t_values"
   ]
  },
  {
   "cell_type": "code",
   "execution_count": 7,
   "id": "7054d531-3506-404e-a44b-29d04b0e73b8",
   "metadata": {},
   "outputs": [
    {
     "data": {
      "text/plain": [
       "Main.SBM"
      ]
     },
     "execution_count": 7,
     "metadata": {},
     "output_type": "execute_result"
    }
   ],
   "source": [
    "include(\"type_allocation_base.jl\")"
   ]
  },
  {
   "cell_type": "code",
   "execution_count": 8,
   "id": "1c45f385-ebb2-43d1-ad2e-ae0853d1ef13",
   "metadata": {},
   "outputs": [
    {
     "name": "stdout",
     "output_type": "stream",
     "text": [
      "┌─────────────────┬────────┬────────┬────────┬────────┬────────────┐\n",
      "│\u001b[1m                 \u001b[0m│\u001b[1m Tier 1 \u001b[0m│\u001b[1m Tier 2 \u001b[0m│\u001b[1m Tier 3 \u001b[0m│\u001b[1m Tier 4 \u001b[0m│\u001b[1m Row Totals \u001b[0m│\n",
      "├─────────────────┼────────┼────────┼────────┼────────┼────────────┤\n",
      "│          Tier 1 │    880 │    141 │     56 │      8 │       1085 │\n",
      "│          Tier 2 │    938 │    547 │    158 │     31 │       1674 │\n",
      "│ Tier 3 + Tier 4 │   1242 │   1540 │    950 │    283 │       4015 │\n",
      "│   Public Sector │    600 │    565 │    331 │     81 │       1577 │\n",
      "│  Private Sector │    727 │    428 │    243 │     76 │       1474 │\n",
      "│           Other │    789 │   1069 │   1124 │    597 │       3579 │\n",
      "│   Column Totals │   5176 │   4290 │   2862 │   1076 │      13404 │\n",
      "└─────────────────┴────────┴────────┴────────┴────────┴────────────┘\n",
      "\\begin{tabular}{rrrrrr}\n",
      "  \\hline\n",
      "   & \\textbf{Tier 1} & \\textbf{Tier 2} & \\textbf{Tier 3} & \\textbf{Tier 4} & \\textbf{Row Totals} \\\\\\hline\n",
      "  Tier 1 & 880 & 141 & 56 & 8 & 1085 \\\\\n",
      "  Tier 2 & 938 & 547 & 158 & 31 & 1674 \\\\\n",
      "  Tier 3 + Tier 4 & 1242 & 1540 & 950 & 283 & 4015 \\\\\n",
      "  Public Sector & 600 & 565 & 331 & 81 & 1577 \\\\\n",
      "  Private Sector & 727 & 428 & 243 & 76 & 1474 \\\\\n",
      "  Other & 789 & 1069 & 1124 & 597 & 3579 \\\\\n",
      "  Column Totals & 5176 & 4290 & 2862 & 1076 & 13404 \\\\\\hline\n",
      "\\end{tabular}\n"
     ]
    }
   ],
   "source": [
    "sink_names_to_present = [\n",
    "    \"Tier 3 + Tier 4\",\n",
    "    \"Public Sector\",\n",
    "    \"Private Sector\",\n",
    "    \"Other\"\n",
    "]\n",
    "SBM.nice_table(placement_rates_raw_table, k, k-2, 4, sink_names_to_present)"
   ]
  },
  {
   "cell_type": "code",
   "execution_count": 9,
   "id": "c7e59fef-79a3-46f6-ae29-9b1092c3bb7e",
   "metadata": {},
   "outputs": [
    {
     "name": "stdout",
     "output_type": "stream",
     "text": [
      "┌─────────────────┬────────┬────────┬────────┬────────┬────────────┐\n",
      "│\u001b[1m                 \u001b[0m│\u001b[1m Tier 1 \u001b[0m│\u001b[1m Tier 2 \u001b[0m│\u001b[1m Tier 3 \u001b[0m│\u001b[1m Tier 4 \u001b[0m│\u001b[1m Row Totals \u001b[0m│\n",
      "├─────────────────┼────────┼────────┼────────┼────────┼────────────┤\n",
      "│          Tier 1 │    788 │    182 │    122 │     26 │       1118 │\n",
      "│          Tier 2 │    840 │    704 │    344 │     99 │       1987 │\n",
      "│ Tier 3 + Tier 4 │   1112 │   1983 │   2068 │    904 │       6067 │\n",
      "│   Public Sector │    537 │    728 │    720 │    259 │       2244 │\n",
      "│  Private Sector │    651 │    551 │    529 │    243 │       1974 │\n",
      "│           Other │    705 │   1376 │   2447 │   1908 │       6436 │\n",
      "│   Column Totals │   4633 │   5524 │   6230 │   3439 │      19826 │\n",
      "└─────────────────┴────────┴────────┴────────┴────────┴────────────┘\n",
      "\\begin{tabular}{rrrrrr}\n",
      "  \\hline\n",
      "   & \\textbf{Tier 1} & \\textbf{Tier 2} & \\textbf{Tier 3} & \\textbf{Tier 4} & \\textbf{Row Totals} \\\\\\hline\n",
      "  Tier 1 & 788 & 182 & 122 & 26 & 1118 \\\\\n",
      "  Tier 2 & 840 & 704 & 344 & 99 & 1987 \\\\\n",
      "  Tier 3 + Tier 4 & 1112 & 1983 & 2068 & 904 & 6067 \\\\\n",
      "  Public Sector & 537 & 728 & 720 & 259 & 2244 \\\\\n",
      "  Private Sector & 651 & 551 & 529 & 243 & 1974 \\\\\n",
      "  Other & 705 & 1376 & 2447 & 1908 & 6436 \\\\\n",
      "  Column Totals & 4633 & 5524 & 6230 & 3439 & 19826 \\\\\\hline\n",
      "\\end{tabular}\n"
     ]
    }
   ],
   "source": [
    "SBM.nice_table(placement_rates, k, k-2, 4, sink_names_to_present)"
   ]
  },
  {
   "cell_type": "code",
   "execution_count": 10,
   "id": "2e0dffc4-4ecc-400c-b1e7-7b9b9202c2e2",
   "metadata": {},
   "outputs": [
    {
     "name": "stdout",
     "output_type": "stream",
     "text": [
      "\\begin{tabular}{rrrr}\n",
      "  \\hline\n",
      "  \\textbf{Tier 1} & \\textbf{Tier 2} & \\textbf{Tier 3} & \\textbf{Tier 4} \\\\\\hline\n",
      "  4915 & 6187 & 7834 & 4795 \\\\\\hline\n",
      "\\end{tabular}\n"
     ]
    }
   ],
   "source": [
    "pretty_table(reshape(m_t_values, 1, k), header = [\"Tier $i\" for i in 1:k], backend=Val(:latex))"
   ]
  },
  {
   "cell_type": "code",
   "execution_count": 11,
   "id": "8f0ffc66-8a4b-4b7c-97ab-0dd850eec9ad",
   "metadata": {},
   "outputs": [
    {
     "data": {
      "text/plain": [
       "q (generic function with 1 method)"
      ]
     },
     "execution_count": 11,
     "metadata": {},
     "output_type": "execute_result"
    }
   ],
   "source": [
    "function Fx(t, α, v_rel)\n",
    "    return 1 - sum([-log(v_rel[j])*sum(α[1:j]) for j in 1:t])\n",
    "end\n",
    "\n",
    "function F(x, ρ, normals, K)\n",
    "    sum_base = 0.0\n",
    "    for i in 1:K\n",
    "        sum_base += ρ[i] * cdf(normals[i], x)\n",
    "    end\n",
    "    return sum_base\n",
    "end\n",
    "\n",
    "function f_integrand(integrals, x, p) \n",
    "    base_exp = exp(F(x, p.ρ, p.normals, p.K) / sum(p.α[1:p.s]))\n",
    "    for i in 1:p.K\n",
    "        integrals[i] = base_exp * pdf(p.normals[i], x)\n",
    "    end\n",
    "end\n",
    "\n",
    "function get_integrals(x_vec, ρ, normals, α, k, K)\n",
    "    # Fx_vec = [F(x0)=1, F(x1), F(x2), F(x3), ..., F(xk-1)]\n",
    "    # x_vec = [x0 = 1, x1, x2, x3, ..., xk = 0]\n",
    "    # x_vec[s] = x_{s-1}, so the limits of integration are and must be offset by 1 below\n",
    "    all_integrals = zeros(K, k)\n",
    "    for s in 1:k\n",
    "        # https://docs.sciml.ai/Integrals/stable/basics/SampledIntegralProblem/ might be faster\n",
    "        # if f_integrand(x) can be vectorized/sped up\n",
    "        prob = IntegralProblem(IntegralFunction(f_integrand, zeros(K)), (x_vec[s+1], x_vec[s]), (; s, ρ, normals, α, K))\n",
    "        sol = solve(prob, CubatureJLh(); reltol = 1e-3, abstol = 1e-3)\n",
    "        integrals_result = sol.u\n",
    "        # NOTE: result may be inf if alpha_1 is too small\n",
    "        # NOTE: some parameter values for μ and σ may cause the cdf F_i to be NaN\n",
    "        for i in 1:K \n",
    "            all_integrals[i, s] = integrals_result[i]\n",
    "            #if integrals_result[i] == 0.0\n",
    "            #    println((F(x_vec[s], ρ, normals, K), F(x_vec[s+1], ρ, normals, K), x_vec, s, normals[i]))\n",
    "            #end\n",
    "        end\n",
    "    end\n",
    "    return all_integrals\n",
    "end      \n",
    "\n",
    "function q(i, t, all_integrals, Fx_vec, α, v_rel, k)\n",
    "    return α[t] * sum([(1/sum(α[1:s])) * prod([v_rel[j] for j in t:(s-1)]) * exp(-Fx_vec[s] / sum(α[1:s])) * all_integrals[i, s] for s in t:k])\n",
    "end"
   ]
  },
  {
   "cell_type": "markdown",
   "id": "2d80a6ab-ddb6-499b-ae0e-1d1857701394",
   "metadata": {},
   "source": [
    "# STEP 2: Estimate global maximum likelihood"
   ]
  },
  {
   "cell_type": "code",
   "execution_count": 12,
   "id": "9e722b9c-b7da-4068-b4c5-e3019f1da235",
   "metadata": {},
   "outputs": [
    {
     "data": {
      "text/plain": [
       "estimate_likelihood_2 (generic function with 1 method)"
      ]
     },
     "execution_count": 12,
     "metadata": {},
     "output_type": "execute_result"
    }
   ],
   "source": [
    "function estimate_likelihood_2(p_vec, γ, placements, k, K, m_val, counter; get_full = false)   \n",
    "    μ = p_vec[1:K]\n",
    "    σ = p_vec[K+1:2K]\n",
    "\n",
    "    for i in 1:K\n",
    "        if abs(abs(erf((-μ[i]/σ[i]) / sqrt(2))) - 1) < 1e-3\n",
    "            if get_full\n",
    "                return -Inf\n",
    "            else\n",
    "                return Inf\n",
    "            end\n",
    "        end\n",
    "    end\n",
    "\n",
    "    \n",
    "    ρ_vec = p_vec[2K+1:3K]\n",
    "    ρ = ρ_vec / sum(ρ_vec)\n",
    "\n",
    "    v_rel = p_vec[3K+1:3K+k-1]\n",
    "    τ = p_vec[3K+k]\n",
    "    α = γ * τ\n",
    "\n",
    "    ## compute the cutoffs x and the CDF values F(x)\n",
    "    normals = [truncated(Normal(μ[i], σ[i]), 0, 1) for i in 1:K]\n",
    "\n",
    "    Fx_vec = ones(k) # sets F(x0) = 1 by default; Fx_vec = [F(x0)=1, F(x1), F(x2), F(x3), ..., F(xk-1)]\n",
    "    x_vec = ones(k+1) # x_vec = [x0 = 1, x1, x2, x3, ..., xk = 0]\n",
    "    x_vec[k+1] = 0.0\n",
    "    for t in 1:k-1\n",
    "        Fx_vec_candidate = Fx(t, α, v_rel)\n",
    "        if Fx_vec_candidate <= 0.0 # if τ * sum(log(v_rel)) is too negative (v_rel too small, τ too big), Fx_vec[i] < 0 can occur\n",
    "            Fx_vec[t+1:k] .= 0.0\n",
    "            x_vec[t+1:k] .= 0.0\n",
    "            break\n",
    "        end\n",
    "\n",
    "        Fx_vec[t+1] = Fx_vec_candidate\n",
    "        # there is no simple closed-form for F^{-1}(x) so this numerically computes x1, x2, x3\n",
    "        x_vec[t+1] = find_zero(x -> F(x, ρ, normals, K) - Fx_vec[t+1], 0.5) \n",
    "    end \n",
    "\n",
    "    ρ_q_it = zeros(K, k)\n",
    "    all_integrals = get_integrals(x_vec, ρ, normals, α, k, K)\n",
    "    for i in 1:K, t in 1:k\n",
    "        prob = q(i, t, all_integrals, Fx_vec, α, v_rel, k)\n",
    "        ρ_q_it[i, t] = ρ[i] * prob\n",
    "    end\n",
    "\n",
    "    normalizer = sum(ρ_q_it)\n",
    "    \n",
    "    likelihood = 0.0\n",
    "    for i in 1:K, t in 1:k\n",
    "        likelihood += placements[i, t] * log(ρ_q_it[i, t] / normalizer)\n",
    "    end\n",
    "\n",
    "    counter[1] += 1\n",
    "    if get_full == true\n",
    "        likelihood_probability_vector = zeros((k * K))\n",
    "        total_placements_vector = zeros((k * K))\n",
    "        vector_counter = 1\n",
    "        for i in 1:K\n",
    "            for t in 1:k\n",
    "                likelihood_probability_vector[vector_counter] = (ρ_q_it[i, t] / normalizer)\n",
    "                if isnan(likelihood_probability_vector[vector_counter])\n",
    "                    return -Inf\n",
    "                end\n",
    "                total_placements_vector[vector_counter] = placements[i, t]\n",
    "                vector_counter += 1\n",
    "            end\n",
    "        end\n",
    "        actual_likelihood = loglikelihood(Multinomial(sum(placements), likelihood_probability_vector), total_placements_vector)\n",
    "        return actual_likelihood\n",
    "    else\n",
    "        return -likelihood\n",
    "    end\n",
    "end"
   ]
  },
  {
   "cell_type": "code",
   "execution_count": 13,
   "id": "b2dd9121-e9cb-46a8-8ac4-649909ba4296",
   "metadata": {},
   "outputs": [
    {
     "name": "stdout",
     "output_type": "stream",
     "text": [
      "starting round 17\n",
      "starting round 10\n",
      "starting round 18\n",
      "starting round 9\n",
      "starting round 16\n",
      "starting round 4\n",
      "starting round 1\n",
      "starting round 7\n",
      "starting round 19\n",
      "starting round 15\n",
      "starting round 5\n",
      "starting round 12\n",
      "starting round 8\n",
      "starting round 2\n",
      "starting round 11\n",
      "starting round 6\n",
      "starting round 14\n",
      "starting round 3\n",
      "starting round 13\n",
      "  finished round 18 with likelihood -98.42908953630376 in 587196 iters\n",
      "  [0.6476015566678974, 0.7018113715242387, 0.7731831674153467] 0.6418105061368801\n",
      "  finished round 8 with likelihood -98.42909581009098 in 674254 iters\n",
      "  finished round 12 with likelihood -98.42913605605281 in 661004 iters\n",
      "  [0.6475871381803057, 0.7017745838846587, 0.7730505218598924] 0.6417359924300942\n",
      "  [0.6475977575659286, 0.7018079148167052, 0.7731693337122673] 0.6418021695402768\n",
      "  finished round 9 with likelihood -98.42919813456501 in 680647 iters\n",
      "  finished round 16 with likelihood -98.42938976509868 in 692415 iters\n",
      "  [0.647583623159711, 0.70178873234913, 0.7730957178178226] 0.6417295337248556\n",
      "  [0.6475796886933027, 0.7017773337456871, 0.7730649433775477] 0.6417232165134621\n",
      "  finished round 6 with likelihood -98.42917047500941 in 661078 iters\n",
      "  [0.6476016164001652, 0.7018105430010825, 0.7731843609830724] 0.6418081022039114\n",
      "  finished round 11 with likelihood -98.4292333592457 in 675036 iters\n",
      "  [0.6476013819369683, 0.7018131214197109, 0.7731845812975338] 0.6418139651095194\n",
      "  finished round 14 with likelihood -98.42960502205915 in 701141 iters\n",
      "  finished round 1 with likelihood -98.42910970287176 in 676512 iters\n",
      "  finished round 3 with likelihood -98.45309627599545 in 591271 iters\n",
      "  finished round 15 with likelihood -98.4291404795049 in 658775 iters\n",
      "  [0.647657235255197, 0.7018765865277398, 0.7733448802397664] 0.6420480569185718\n",
      "  [0.6475966648615745, 0.7017940940331523, 0.7731231782182011] 0.6417790767138195\n",
      "  [0.6491264302605584, 0.7043861403632191, 0.7842171789297719] 0.6489848592048464\n",
      "  [0.6476142143851704, 0.7018281439304801, 0.7732520651709699] 0.6418535404387509\n",
      "  finished round 5 with likelihood -98.42919211070057 in 669800 iters\n",
      "  finished round 10 with likelihood -98.42913292388766 in 698871 iters\n",
      "  finished round 13 with likelihood -98.42923619315025 in 679781 iters\n",
      "  [0.6476466400779802, 0.7018694181109985, 0.7734087620412696] 0.6419640346950073\n",
      "  finished round 7 with likelihood -98.42912384774263 in 683857 iters\n",
      "  [0.6476022620494022, 0.7018105990626197, 0.7731681513620161] 0.6418105569016834\n",
      "  [0.6475997593705122, 0.7018110105965037, 0.7731789068063247] 0.6418088191881796\n",
      "  [0.6476035685560325, 0.7018890478033096, 0.7733967470500653] 0.6419837054597597\n",
      "  finished round 2 with likelihood -98.4294528772416 in 704540 iters\n",
      "  [0.6475192296131658, 0.7016425550274461, 0.7725160670492468] 0.6413405697463412\n",
      "  finished round 17 with likelihood -98.42987723913939 in 701053 iters\n",
      "  [0.647547462465165, 0.7018110324334269, 0.7731338698221295] 0.641778820316339\n",
      "  finished round 19 with likelihood -98.45310894952308 in 654619 iters\n",
      "  [0.6491034533924238, 0.704393593103376, 0.7842112613281689] 0.6489522179900242\n",
      "  finished round 4 with likelihood -98.42967397659413 in 714475 iters\n",
      "  [0.6475995639903204, 0.70182361818385, 0.7732097118217445] 0.6418347585752063\n",
      "best likelihood: -98.42908953630376\n",
      "[0.6476015566678974, 0.7018113715242387, 0.7731831674153467]\n",
      "0.6418105061368801\n"
     ]
    }
   ],
   "source": [
    "# upper/lower bound on the mu parameter of truncated normal\n",
    "upper_1 = [10.0 for _ in 1:K]\n",
    "lower_1 = [-10.0 for _ in 1:K]\n",
    "\n",
    "upper_1[K] = 0.0\n",
    "\n",
    "# upper/lower bound on the sigma parameter of truncated normal\n",
    "append!(upper_1, [10.0 for _ in 1:K])\n",
    "append!(lower_1, [0.0001 for _ in 1:K])\n",
    "\n",
    "upper_1[2K] = 0.1\n",
    "\n",
    "# upper/lower bound on values proportional to ρ_i\n",
    "append!(upper_1, [1.0 for _ in 1:K])\n",
    "append!(lower_1, [0.0 for _ in 1:K])\n",
    "\n",
    "# upper/lower bound on v_rel\n",
    "append!(upper_1, [1.0 for _ in 1:k-1])\n",
    "append!(lower_1, [0.01 for _ in 1:k-1])\n",
    "\n",
    "# upper/lower bound on τ\n",
    "append!(upper_1, [10.0 for _ in 1:1])\n",
    "append!(lower_1, [0.25 for _ in 1:1])\n",
    "\n",
    "search_range_1 = [(lower_1[i], upper_1[i]) for i in eachindex(upper_1)]\n",
    "\n",
    "Random.seed!(0)\n",
    "NUM_ROUNDS = 19\n",
    "\n",
    "likelihoods = zeros(NUM_ROUNDS)\n",
    "sols = zeros(NUM_ROUNDS, length(upper_1))\n",
    "\n",
    "# this approach with random re-running is similar to that used in/associated with \n",
    "#     the SBM MCMC solver package associated with Peixoto (2014)\n",
    "Threads.@threads for SEED in 1:NUM_ROUNDS\n",
    "    println(\"starting round $SEED\")\n",
    "    counter = [0]\n",
    "    sol_res_1 = bboptimize(p -> estimate_likelihood_2(p, estimated_γ, placement_rates, k, K, estimated_m_val, counter), SearchRange = search_range_1, MaxTime = 600.0, TraceMode = :silent) \n",
    "    # MaxTime = 60.0, MaxFuncEvals = 500000,\n",
    "    sol_1 = best_candidate(sol_res_1)\n",
    "    actual_likelihood = estimate_likelihood_2(sol_1, estimated_γ, placement_rates, k, K, estimated_m_val, counter; get_full = true)\n",
    "    likelihoods[SEED] = actual_likelihood\n",
    "    sols[SEED, :] = sol_1[:]\n",
    "    estimated_v_rel = sol_1[3K+1:3K+k-1]\n",
    "    estimated_τ = sol_1[3K+k]\n",
    "    println(\"  finished round $SEED with likelihood $actual_likelihood in $(counter[1]) iters\")\n",
    "    println(\"  \", estimated_v_rel, \" \", estimated_τ)\n",
    "end\n",
    "\n",
    "best_likelihood = maximum(likelihoods)\n",
    "best_index = argmax(likelihoods)\n",
    "best_sol = sols[best_index, :]\n",
    "println(\"best likelihood: $best_likelihood\")\n",
    "estimated_v_rel = best_sol[3K+1:3K+k-1]\n",
    "estimated_τ = best_sol[3K+k]\n",
    "println(estimated_v_rel)\n",
    "println(estimated_τ)"
   ]
  },
  {
   "cell_type": "code",
   "execution_count": 14,
   "id": "33170bfc-78c8-4d75-a1b3-21cc079a1428",
   "metadata": {},
   "outputs": [
    {
     "data": {
      "text/plain": [
       "22-element Vector{Float64}:\n",
       "  0.11476289581913392\n",
       "  0.10591041266194651\n",
       "  0.02935940670217284\n",
       "  0.0329361873590473\n",
       " -0.9992599770498448\n",
       " -0.17113726177170874\n",
       "  0.17825445974029924\n",
       "  0.06608757087757317\n",
       "  0.05898431687552398\n",
       "  0.07051959879783025\n",
       "  0.30367781774506547\n",
       "  0.052009078215387\n",
       "  0.08030466195664085\n",
       "  0.15929166336008596\n",
       "  0.5804207099458514\n",
       "  0.20670703101055204\n",
       "  0.1829528184521685\n",
       "  0.9759425565388439\n",
       "  0.6476015566678974\n",
       "  0.7018113715242387\n",
       "  0.7731831674153467\n",
       "  0.6418105061368801"
      ]
     },
     "execution_count": 14,
     "metadata": {},
     "output_type": "execute_result"
    }
   ],
   "source": [
    "sol_1 = best_sol"
   ]
  },
  {
   "cell_type": "code",
   "execution_count": 15,
   "id": "3d5b308e-230d-4baa-a6e1-3fde2b5307e9",
   "metadata": {},
   "outputs": [
    {
     "data": {
      "image/png": "[encoded data removed]",
      "text/plain": [
       "Figure(<py Figure size 640x480 with 1 Axes>)"
      ]
     },
     "metadata": {},
     "output_type": "display_data"
    }
   ],
   "source": [
    "point_grid = [i for i in range(0, 1; length = 10001)]\n",
    "for select_type in 1:K\n",
    "    plot(point_grid, [cdf(truncated(Normal(sol_1[select_type], sol_1[select_type+K]), 0, 1), x) for x in point_grid], label = string(\"Type \", select_type))\n",
    "end\n",
    "\n",
    "title(\"Estimated CDFs of Types\")\n",
    "xlabel(\"offer value\")\n",
    "ylabel(\"\\$F_i\\$(offer value\\$)\\$\")\n",
    "legend();"
   ]
  },
  {
   "cell_type": "markdown",
   "id": "4a494731-90e5-4ea6-b77b-4c1ea8eb9f5b",
   "metadata": {},
   "source": [
    "# STEP 3: locally improve the estimate"
   ]
  },
  {
   "cell_type": "code",
   "execution_count": 17,
   "id": "f2439a7d-d5f7-4fee-b419-471c7e1985c8",
   "metadata": {},
   "outputs": [
    {
     "data": {
      "text/plain": [
       "estimate_likelihood_3 (generic function with 1 method)"
      ]
     },
     "execution_count": 17,
     "metadata": {},
     "output_type": "execute_result"
    }
   ],
   "source": [
    "function estimate_likelihood_3(p_vec, μ_K, σ_K, γ, placements, k, K, m_val)   \n",
    "    Km1 = K - 1\n",
    "    μ = zeros(K)\n",
    "    σ = zeros(K)\n",
    "    μ[1:Km1] = p_vec[1:Km1]\n",
    "    σ[1:Km1] = p_vec[Km1+1:2Km1]\n",
    "    μ[K] = μ_K\n",
    "    σ[K] = σ_K\n",
    "    \n",
    "    ρ = zeros(K)\n",
    "    ρ[1:Km1] = p_vec[2Km1+1:3Km1]\n",
    "    ρ[K] = 1 - sum(ρ[1:Km1])\n",
    "    v_rel = p_vec[3Km1+1:3Km1+k-1]\n",
    "    τ = p_vec[3Km1+k]\n",
    "    α = γ * τ\n",
    "\n",
    "    ## compute the cutoffs x and the CDF values F(x)\n",
    "    normals = [truncated(Normal(μ[i], σ[i]), 0, 1) for i in 1:K]\n",
    "\n",
    "    Fx_vec = ones(k) # sets F(x0) = 1 by default; Fx_vec = [F(x0)=1, F(x1), F(x2), F(x3), ..., F(xk-1)]\n",
    "    x_vec = ones(k+1) # x_vec = [x0 = 1, x1, x2, x3, ..., xk = 0]\n",
    "    x_vec[k+1] = 0.0\n",
    "    for t in 1:k-1\n",
    "        Fx_vec_candidate = Fx(t, α, v_rel)\n",
    "        if Fx_vec_candidate <= 0.0\n",
    "            Fx_vec[t+1:k] .= 0.0\n",
    "            x_vec[t+1:k] .= 0.0\n",
    "            break\n",
    "        end\n",
    "\n",
    "        Fx_vec[t+1] = Fx_vec_candidate\n",
    "        # there is no simple closed-form for F^{-1}(x) so this numerically computes x1, x2, x3\n",
    "        x_vec[t+1] = find_zero(x -> F(x, ρ, normals, K) - Fx_vec[t+1], 0.5) \n",
    "    end \n",
    "\n",
    "    ρ_q_it = zeros(K, k)\n",
    "    all_integrals = get_integrals(x_vec, ρ, normals, α, k, K)\n",
    "    for i in 1:K, t in 1:k\n",
    "        prob = q(i, t, all_integrals, Fx_vec, α, v_rel, k)\n",
    "        ρ_q_it[i, t] = ρ[i] * prob\n",
    "    end\n",
    "\n",
    "    normalizer = sum(ρ_q_it)\n",
    "    likelihood = 0.0\n",
    "    for i in 1:K, t in 1:k\n",
    "        likelihood += placements[i, t] * log(ρ_q_it[i, t] / normalizer)\n",
    "    end\n",
    "\n",
    "    if isnan(likelihood) || isinf(likelihood)\n",
    "        println(likelihood)\n",
    "    end\n",
    "\n",
    "    return -likelihood\n",
    "end"
   ]
  },
  {
   "cell_type": "code",
   "execution_count": 18,
   "id": "56a4906e-c391-4339-84b4-145e10aab4bb",
   "metadata": {},
   "outputs": [
    {
     "data": {
      "text/plain": [
       "con_c! (generic function with 1 method)"
      ]
     },
     "execution_count": 18,
     "metadata": {},
     "output_type": "execute_result"
    }
   ],
   "source": [
    "function get_initial_condition(p_vec, k, K)\n",
    "    Km1 = K - 1\n",
    "    output = zeros(3Km1 + k)\n",
    "    output[1:Km1] = p_vec[1:Km1]\n",
    "    output[Km1+1:2Km1] = p_vec[K+1:K + Km1]\n",
    "    ρ_vec = p_vec[2K+1:3K] / sum(p_vec[2K+1:3K])\n",
    "    output[2Km1+1:3Km1] = ρ_vec[1:Km1]\n",
    "    output[3Km1+1:3Km1+k] = p_vec[3K+1:3K+k]\n",
    "    return output\n",
    "end\n",
    "\n",
    "function con_c!(c, x) \n",
    "    Km1 = K - 1\n",
    "    c[1] = 1 - sum(x[2Km1+1:3Km1])\n",
    "    #for i in 1:K\n",
    "    #   c[i+1] = abs(abs(erf((-x[i]/x[K+i]) / sqrt(2))) - 1)\n",
    "    #end\n",
    "    c\n",
    "end"
   ]
  },
  {
   "cell_type": "code",
   "execution_count": 19,
   "id": "bb41278d-c7d5-4147-8352-fa0c1b3b86b4",
   "metadata": {},
   "outputs": [
    {
     "name": "stdout",
     "output_type": "stream",
     "text": [
      "[0.4465290425740208]\n"
     ]
    },
    {
     "data": {
      "text/plain": [
       "19-element Vector{Float64}:\n",
       "  0.09742627210339551\n",
       "  0.10162506629592707\n",
       "  0.023206021212955903\n",
       "  0.025171336464611574\n",
       " -2.6779326537140062\n",
       "  0.18780618708740698\n",
       "  0.06645867574163494\n",
       "  0.059494114726556926\n",
       "  0.07168672725867416\n",
       "  0.46979252657232334\n",
       "  0.03673814313893503\n",
       "  0.072972805990283\n",
       "  0.26711315194415214\n",
       "  0.09502790722805415\n",
       "  0.08398628090309186\n",
       "  0.6473725357418028\n",
       "  0.7010530107443342\n",
       "  0.7699580669037088\n",
       "  0.639746655631436"
      ]
     },
     "execution_count": 19,
     "metadata": {},
     "output_type": "execute_result"
    }
   ],
   "source": [
    "Random.seed!(0)\n",
    "\n",
    "# upper/lower bound on the mu parameter of truncated normal\n",
    "upper_2 = [5.0 for _ in 1:K-1]\n",
    "lower_2 = [-5.0 for _ in 1:K-1]\n",
    "\n",
    "# upper/lower bound on the sigma parameter of truncated normal\n",
    "append!(upper_2, [10.0 for _ in 1:K-1])\n",
    "append!(lower_2, [0.001 for _ in 1:K-1])\n",
    "\n",
    "#upper_2[K] = sol_1[K]\n",
    "#lower_2[K] = sol_1[K]\n",
    "#upper_2[2K] = sol_1[2K]\n",
    "#lower_2[2K] = sol_1[2K]\n",
    "\n",
    "# upper/lower bound on ρ_i\n",
    "append!(upper_2, [1.0 for _ in 1:K-1])\n",
    "append!(lower_2, [0.0 for _ in 1:K-1])\n",
    "\n",
    "# upper/lower bound on v_rel\n",
    "append!(upper_2, [1.0 for _ in 1:k-1])\n",
    "append!(lower_2, [0.01 for _ in 1:k-1])\n",
    "\n",
    "# upper/lower bound on τ\n",
    "append!(upper_2, [10.0 for _ in 1:1])\n",
    "append!(lower_2, [0.25 for _ in 1:1])\n",
    "\n",
    "x0 = get_initial_condition(sol_1, k, K)\n",
    "lx = lower_2\n",
    "ux = upper_2\n",
    "lc = [0.0]\n",
    "uc = [1.0]\n",
    "\n",
    "#append!(uc, [Inf for _ in 1:K])\n",
    "#append!(lc, [1e-3 for _ in 1:K])\n",
    "println(con_c!(zeros(1), x0))\n",
    "df = TwiceDifferentiable(p -> estimate_likelihood_3(p, sol_1[K], sol_1[2K], estimated_γ, placement_rates, k, K, estimated_m_val), x0)\n",
    "dfc = TwiceDifferentiableConstraints(con_c!, lx, ux, lc, uc)\n",
    "sol_res_2 = optimize(df, dfc, x0, IPNewton())\n",
    "sol_2 = Optim.minimizer(sol_res_2)"
   ]
  },
  {
   "cell_type": "code",
   "execution_count": 20,
   "id": "4a74de4b-f18f-4522-8b3e-c691c717710e",
   "metadata": {},
   "outputs": [
    {
     "data": {
      "text/plain": [
       "19-element Vector{Float64}:\n",
       "  0.11476289581913392\n",
       "  0.10591041266194651\n",
       "  0.02935940670217284\n",
       "  0.0329361873590473\n",
       " -0.9992599770498448\n",
       "  0.17825445974029924\n",
       "  0.06608757087757317\n",
       "  0.05898431687552398\n",
       "  0.07051959879783025\n",
       "  0.30367781774506547\n",
       "  0.03674228936680457\n",
       "  0.07288170133953105\n",
       "  0.26556348236458827\n",
       "  0.09457594817650165\n",
       "  0.08370753617855367\n",
       "  0.6476015566678974\n",
       "  0.7018113715242387\n",
       "  0.7731831674153467\n",
       "  0.6418105061368801"
      ]
     },
     "execution_count": 20,
     "metadata": {},
     "output_type": "execute_result"
    }
   ],
   "source": [
    "x0"
   ]
  },
  {
   "cell_type": "code",
   "execution_count": 21,
   "id": "7c555e9b-dc90-47e1-b26c-2d2226e6d318",
   "metadata": {},
   "outputs": [
    {
     "data": {
      "text/plain": [
       " * Status: success\n",
       "\n",
       " * Candidate solution\n",
       "    Final objective value:     5.700328e+04\n",
       "\n",
       " * Found with\n",
       "    Algorithm:     Interior Point Newton\n",
       "\n",
       " * Convergence measures\n",
       "    |x - x'|               = 0.00e+00 ≤ 0.0e+00\n",
       "    |x - x'|/|x'|          = 0.00e+00 ≤ 0.0e+00\n",
       "    |f(x) - f(x')|         = 0.00e+00 ≤ 0.0e+00\n",
       "    |f(x) - f(x')|/|f(x')| = 0.00e+00 ≤ 0.0e+00\n",
       "    |g(x)|                 = 5.00e-01 ≰ 1.0e-08\n",
       "\n",
       " * Work counters\n",
       "    Seconds run:   7  (vs limit Inf)\n",
       "    Iterations:    21\n",
       "    f(x) calls:    61\n",
       "    ∇f(x) calls:   61\n"
      ]
     },
     "execution_count": 21,
     "metadata": {},
     "output_type": "execute_result"
    }
   ],
   "source": [
    "sol_res_2"
   ]
  },
  {
   "cell_type": "code",
   "execution_count": 22,
   "id": "ddfd5958-a23a-4e07-bd6a-169a6b97b438",
   "metadata": {},
   "outputs": [
    {
     "data": {
      "text/plain": [
       "19-element Vector{Float64}:\n",
       "  0.01733662371573841\n",
       "  0.004285346366019432\n",
       "  0.006153385489216935\n",
       "  0.007764850894435724\n",
       "  1.6786726766641613\n",
       " -0.009551727347107741\n",
       " -0.00037110486406177756\n",
       " -0.0005097978510329448\n",
       " -0.001167128460843908\n",
       " -0.16611470882725787\n",
       "  4.146227869539221e-6\n",
       " -9.110465075194696e-5\n",
       " -0.0015496695795638726\n",
       " -0.00045195905155250016\n",
       " -0.00027874472453819077\n",
       "  0.00022902092609466962\n",
       "  0.0007583607799044323\n",
       "  0.003225100511637824\n",
       "  0.002063850505444109"
      ]
     },
     "execution_count": 22,
     "metadata": {},
     "output_type": "execute_result"
    }
   ],
   "source": [
    "x0 - sol_2"
   ]
  },
  {
   "cell_type": "code",
   "execution_count": 23,
   "id": "81211f92-4ca5-46b2-b0b3-232aaa3181c9",
   "metadata": {},
   "outputs": [
    {
     "data": {
      "text/plain": [
       "0.639746655631436"
      ]
     },
     "execution_count": 23,
     "metadata": {},
     "output_type": "execute_result"
    }
   ],
   "source": [
    "Km1 = K - 1\n",
    "estimated_v_rel = sol_2[3Km1+1:3Km1+k-1]\n",
    "estimated_τ = sol_2[3Km1+k]"
   ]
  },
  {
   "cell_type": "code",
   "execution_count": 24,
   "id": "a5e8f3b8-06fe-4474-b1dc-472e74860f4c",
   "metadata": {},
   "outputs": [
    {
     "name": "stdout",
     "output_type": "stream",
     "text": [
      "estimated value ratios:\n"
     ]
    },
    {
     "data": {
      "text/plain": [
       "3-element Vector{Float64}:\n",
       " 0.6473725357418028\n",
       " 0.7010530107443342\n",
       " 0.7699580669037088"
      ]
     },
     "metadata": {},
     "output_type": "display_data"
    },
    {
     "name": "stdout",
     "output_type": "stream",
     "text": [
      "\n",
      "v1: 1\n",
      "v2: 0.6473725357418028\n",
      "v3: 0.45384246525498495\n",
      "v4: 0.34943966722654185\n",
      "\n",
      "estimated market balance ratio (m / (n-1)): 0.639746655631436\n",
      "estimated α_t: [0.13249988674849386, 0.16679080352246825, 0.2111910707604681, 0.1292648946000057]\n"
     ]
    }
   ],
   "source": [
    "println(\"estimated value ratios:\")\n",
    "display(estimated_v_rel)\n",
    "println()\n",
    "estimated_v_base = 1\n",
    "for i in 1:k\n",
    "    println(\"v\", i, \": \", estimated_v_base)\n",
    "    if i != k\n",
    "        estimated_v_base = estimated_v_rel[i] * estimated_v_base\n",
    "    end\n",
    "end\n",
    "println()\n",
    "\n",
    "println(\"estimated market balance ratio (m / (n-1)): \", estimated_τ)\n",
    "\n",
    "#estimated_n_val = (estimated_m_val / estimated_τ) + 1\n",
    "#println(\"estimated total departments: \", estimated_n_val)\n",
    "estimated_α = estimated_τ * estimated_γ\n",
    "println(\"estimated α_t: \", estimated_α)"
   ]
  },
  {
   "cell_type": "code",
   "execution_count": 25,
   "id": "0eca70fd-d33d-4167-89b2-9e36b89b0803",
   "metadata": {},
   "outputs": [],
   "source": [
    "estimated_μ = sol_2[1:Km1]\n",
    "estimated_σ = sol_2[Km1+1:2Km1]\n",
    "estimated_ρ = sol_2[2Km1+1:3Km1];"
   ]
  },
  {
   "cell_type": "code",
   "execution_count": 26,
   "id": "0741abcc-f6de-422a-b214-b56383d27144",
   "metadata": {},
   "outputs": [
    {
     "data": {
      "text/plain": [
       "5-element Vector{Float64}:\n",
       "  0.09742627210339551\n",
       "  0.10162506629592707\n",
       "  0.023206021212955903\n",
       "  0.025171336464611574\n",
       " -2.6779326537140062"
      ]
     },
     "execution_count": 26,
     "metadata": {},
     "output_type": "execute_result"
    }
   ],
   "source": [
    "estimated_μ"
   ]
  },
  {
   "cell_type": "code",
   "execution_count": 27,
   "id": "98f6198a-ecda-43de-a84c-8d76c9947811",
   "metadata": {},
   "outputs": [
    {
     "data": {
      "text/plain": [
       "5-element Vector{Float64}:\n",
       " 0.18780618708740698\n",
       " 0.06645867574163494\n",
       " 0.059494114726556926\n",
       " 0.07168672725867416\n",
       " 0.46979252657232334"
      ]
     },
     "execution_count": 27,
     "metadata": {},
     "output_type": "execute_result"
    }
   ],
   "source": [
    "estimated_σ"
   ]
  },
  {
   "cell_type": "code",
   "execution_count": 28,
   "id": "dfce63fd-b8ef-4c8a-9640-103e87970c3b",
   "metadata": {},
   "outputs": [
    {
     "data": {
      "text/plain": [
       "5-element Vector{Float64}:\n",
       " 0.03673814313893503\n",
       " 0.072972805990283\n",
       " 0.26711315194415214\n",
       " 0.09502790722805415\n",
       " 0.08398628090309186"
      ]
     },
     "execution_count": 28,
     "metadata": {},
     "output_type": "execute_result"
    }
   ],
   "source": [
    "estimated_ρ"
   ]
  },
  {
   "cell_type": "code",
   "execution_count": 29,
   "id": "4f21a4cf-216d-49e1-a0de-0085b8da0210",
   "metadata": {},
   "outputs": [
    {
     "data": {
      "image/png": "[encoded data removed]",
      "text/plain": [
       "Figure(<py Figure size 640x480 with 1 Axes>)"
      ]
     },
     "metadata": {},
     "output_type": "display_data"
    },
    {
     "data": {
      "text/plain": [
       "Python: None"
      ]
     },
     "execution_count": 29,
     "metadata": {},
     "output_type": "execute_result"
    }
   ],
   "source": [
    "point_grid = [i for i in range(0, 1; length = 10001)]\n",
    "plot_labels = [\"Tier 1\", \"Tier 2\", \"Tier 3 + Tier 4\", \n",
    "    \"Public Sector\",\n",
    "    \"Private Sector\",\n",
    "    \"Other\"]\n",
    "for select_type in 1:Km1\n",
    "    plot(point_grid, [cdf(truncated(Normal(sol_2[select_type], sol_2[select_type+Km1]), 0, 1), x) for x in point_grid], label = plot_labels[select_type])\n",
    "end\n",
    "plot(point_grid, [cdf(truncated(Normal(sol_1[K], sol_1[2K]), 0, 1), x) for x in point_grid], label = plot_labels[K])\n",
    "title(\"Estimated CDFs of Types\")\n",
    "xlabel(\"offer value\")\n",
    "ylabel(\"\\$F_i\\$(offer value\\$)\\$\")\n",
    "legend();\n",
    "savefig(\"final_cdfs_.png\", dpi = 800)"
   ]
  },
  {
   "cell_type": "code",
   "execution_count": 30,
   "id": "075045e7-c224-402d-8631-8042ca598184",
   "metadata": {},
   "outputs": [
    {
     "data": {
      "image/png": "[encoded data removed]",
      "text/plain": [
       "Figure(<py Figure size 640x480 with 1 Axes>)"
      ]
     },
     "metadata": {},
     "output_type": "display_data"
    },
    {
     "data": {
      "text/plain": [
       "Python: None"
      ]
     },
     "execution_count": 30,
     "metadata": {},
     "output_type": "execute_result"
    }
   ],
   "source": [
    "point_grid = [i for i in range(0, 1; length = 10001)]\n",
    "for select_type in 1:Km1\n",
    "    plot(point_grid, [pdf(truncated(Normal(sol_2[select_type], sol_2[select_type+Km1]), 0, 1), x) for x in point_grid], label = plot_labels[select_type])\n",
    "end\n",
    "plot(point_grid, [pdf(truncated(Normal(sol_1[K], sol_1[2K]), 0, 1), x) for x in point_grid], label = plot_labels[K])\n",
    "title(\"Estimated PDFs of Types\")\n",
    "xlabel(\"offer value\")\n",
    "ylabel(\"\\$f_i\\$(offer value\\$)\\$\")\n",
    "legend();\n",
    "savefig(\"final_pdfs_.png\", dpi = 800)"
   ]
  },
  {
   "cell_type": "code",
   "execution_count": 31,
   "id": "e7829798-ece3-4d3a-ab5a-9b2ffb40b973",
   "metadata": {},
   "outputs": [
    {
     "name": "stdout",
     "output_type": "stream",
     "text": [
      "Type 1:\n",
      "  est. mean:   0.19124749700560795\n",
      "  est. stddev: 0.13163226566470607\n",
      "\n",
      "Type 2:\n",
      "  est. mean:   0.11041573391377917\n",
      "  est. stddev: 0.058703727008721895\n",
      "\n",
      "Type 3:\n",
      "  est. mean:   0.05695525658610387\n",
      "  est. stddev: 0.04021633159344922\n",
      "\n",
      "Type 4:\n",
      "  est. mean:   0.06736657122333614\n",
      "  est. stddev: 0.04792117045107025\n",
      "\n",
      "Type 5:\n",
      "  est. mean:   0.07798466903975099\n",
      "  est. stddev: 0.07605379711412863\n",
      "\n",
      "Type 6:\n",
      "  est. mean:   0.01372280138933396\n",
      "  est. stddev: 0.012967123244402258\n",
      "\n"
     ]
    }
   ],
   "source": [
    "for select_type in 1:Km1\n",
    "    println(\"Type $(select_type):\")\n",
    "    println(\"  est. mean:   \", mean(truncated(Normal(sol_2[select_type], sol_2[select_type+Km1]), 0, 1)))\n",
    "    println(\"  est. stddev: \", std(truncated(Normal(sol_2[select_type], sol_2[select_type+Km1]), 0, 1)))\n",
    "    println()\n",
    "end\n",
    "\n",
    "println(\"Type $K:\")\n",
    "    println(\"  est. mean:   \", mean(truncated(Normal(sol_1[K], sol_1[2K]), 0, 1)))\n",
    "    println(\"  est. stddev: \", std(truncated(Normal(sol_1[K], sol_1[2K]), 0, 1)))\n",
    "    println()"
   ]
  },
  {
   "cell_type": "code",
   "execution_count": 32,
   "id": "673b06f0-43a0-4cd2-b302-bc6997d02104",
   "metadata": {},
   "outputs": [
    {
     "data": {
      "text/plain": [
       "estimate_likelihood_2_for_variance (generic function with 2 methods)"
      ]
     },
     "execution_count": 32,
     "metadata": {},
     "output_type": "execute_result"
    }
   ],
   "source": [
    "function estimate_likelihood_2_for_variance(p_vec, μ_K, σ_K, γ, placements, k, K, show_m = false)   \n",
    "    Km1 = K - 1\n",
    "    μ = zeros(K)\n",
    "    σ = zeros(K)\n",
    "    μ[1:Km1] = p_vec[1:Km1]\n",
    "    σ[1:Km1] = p_vec[Km1+1:2Km1]\n",
    "    μ[K] = μ_K\n",
    "    σ[K] = σ_K\n",
    "    \n",
    "    ρ = zeros(K)\n",
    "    ρ[1:Km1] = p_vec[2Km1+1:3Km1]\n",
    "    ρ[K] = 1 - sum(ρ[1:Km1])\n",
    "    v_rel = p_vec[3Km1+1:3Km1+k-1]\n",
    "    τ = p_vec[3Km1+k]\n",
    "    α = γ * τ\n",
    "\n",
    "    ## compute the cutoffs x and the CDF values F(x)\n",
    "    normals = [truncated(Normal(μ[i], σ[i]), 0, 1) for i in 1:K]\n",
    "\n",
    "    Fx_vec = ones(k) # sets F(x0) = 1 by default; Fx_vec = [F(x0)=1, F(x1), F(x2), F(x3), ..., F(xk-1)]\n",
    "    x_vec = ones(k+1) # x_vec = [x0 = 1, x1, x2, x3, ..., xk = 0]\n",
    "    x_vec[k+1] = 0.0\n",
    "    for t in 1:k-1\n",
    "        Fx_vec_candidate = Fx(t, α, v_rel)\n",
    "        if Fx_vec_candidate <= 0.0 # TODO: if this case occurs, can we speed up q()?\n",
    "            Fx_vec[t+1:k] .= 0.0\n",
    "            x_vec[t+1:k] .= 0.0\n",
    "            break\n",
    "        end\n",
    "        Fx_vec[t+1] = Fx_vec_candidate\n",
    "        # there is no simple closed-form for F^{-1}(x) so this numerically computes x1, x2, x3\n",
    "        x_vec[t+1] = find_zero(x -> F(x, ρ, normals, K) - Fx_vec[t+1], 0.5) \n",
    "    end \n",
    "\n",
    "    ρ_q_it = zeros(K, k)\n",
    "    all_integrals = get_integrals(x_vec, ρ, normals, α, k, K)\n",
    "    for i in 1:K, t in 1:k\n",
    "        prob = q(i, t, all_integrals, Fx_vec, α, v_rel, k)\n",
    "        ρ_q_it[i, t] = ρ[i] * prob\n",
    "    end\n",
    "\n",
    "    normalizer = sum(ρ_q_it)\n",
    "    if show_m\n",
    "        println(\"n: \", sum(placements) / normalizer)\n",
    "        println(\"m: \", τ * ((sum(placements) / normalizer) - 1))\n",
    "    end\n",
    "    \n",
    "    likelihood_probability_vector = zeros(k * K)\n",
    "    total_placements_vector = zeros(k * K)\n",
    "    vector_counter = 1\n",
    "    for i in 1:K\n",
    "        for t in 1:k\n",
    "            likelihood_probability_vector[vector_counter] = (ρ_q_it[i, t] / normalizer)\n",
    "            total_placements_vector[vector_counter] = placements[i, t]\n",
    "            vector_counter += 1\n",
    "        end\n",
    "    end\n",
    "    M = sum(placements)\n",
    "    actual_likelihood = loglikelihood(Multinomial(M, likelihood_probability_vector), total_placements_vector)\n",
    "    return actual_likelihood\n",
    "end"
   ]
  },
  {
   "cell_type": "code",
   "execution_count": 33,
   "id": "909eda18-7606-47ec-af8f-c7d03e07ac04",
   "metadata": {},
   "outputs": [
    {
     "data": {
      "text/plain": [
       "19-element Vector{Float64}:\n",
       "  0.09742627210339551\n",
       "  0.10162506629592707\n",
       "  0.023206021212955903\n",
       "  0.025171336464611574\n",
       " -2.6779326537140062\n",
       "  0.18780618708740698\n",
       "  0.06645867574163494\n",
       "  0.059494114726556926\n",
       "  0.07168672725867416\n",
       "  0.46979252657232334\n",
       "  0.03673814313893503\n",
       "  0.072972805990283\n",
       "  0.26711315194415214\n",
       "  0.09502790722805415\n",
       "  0.08398628090309186\n",
       "  0.6473725357418028\n",
       "  0.7010530107443342\n",
       "  0.7699580669037088\n",
       "  0.639746655631436"
      ]
     },
     "execution_count": 33,
     "metadata": {},
     "output_type": "execute_result"
    }
   ],
   "source": [
    "sol_1_for_variance = sol_2"
   ]
  },
  {
   "cell_type": "code",
   "execution_count": 34,
   "id": "1c4e2b50-539e-435f-a18c-010ac1b046d6",
   "metadata": {},
   "outputs": [
    {
     "name": "stdout",
     "output_type": "stream",
     "text": [
      "n: 39893.949146791696\n",
      "m: 25521.380799934934\n"
     ]
    },
    {
     "data": {
      "text/plain": [
       "-98.33601450538481"
      ]
     },
     "execution_count": 34,
     "metadata": {},
     "output_type": "execute_result"
    }
   ],
   "source": [
    "estimate_likelihood_2_for_variance(sol_1_for_variance, sol_1[K], sol_1[2K], estimated_γ, placement_rates, k, K, true)"
   ]
  },
  {
   "cell_type": "code",
   "execution_count": 35,
   "id": "8d2e796a-0908-4aec-aee6-d64dd09ef11e",
   "metadata": {},
   "outputs": [
    {
     "data": {
      "text/plain": [
       "23731"
      ]
     },
     "execution_count": 35,
     "metadata": {},
     "output_type": "execute_result"
    }
   ],
   "source": [
    "estimated_m_val"
   ]
  },
  {
   "cell_type": "code",
   "execution_count": 36,
   "id": "b7b8a4f4-0303-4af7-a874-e2c15dc0d534",
   "metadata": {},
   "outputs": [
    {
     "data": {
      "text/plain": [
       "19×19 LinearAlgebra.Symmetric{Float64, Matrix{Float64}}:\n",
       "  -6526.98       5534.82         2794.54       …     -48.5457    1026.41\n",
       "   5534.82    -119177.0         51515.0             2121.85     -2571.68\n",
       "   2794.54      51515.0            -1.20241e5         99.9897    3974.95\n",
       "   1431.21      21728.8         36469.8             -187.958     1862.32\n",
       "     97.7107      891.464         844.089            -45.5999     219.743\n",
       "  -7252.37       6575.93         2301.85       …     -21.4697     961.491\n",
       "   6573.99     -61881.0         19942.4             -736.887    -4594.41\n",
       "   6463.17          1.10989e5      -2.31513e5       1636.9       3097.1\n",
       "   3386.16      46385.5         64809.0              360.618     1843.8\n",
       "   1160.92      10688.8         10067.4             -539.56      2620.76\n",
       " -19338.2       20892.6         -5419.68       …  -12364.8      57125.8\n",
       "    -76.599    -38184.3          2179.36          -13111.6      46624.4\n",
       "   -153.333      4647.8        -47682.7            -9444.36     24013.2\n",
       "   -207.06       6282.74         6368.82          -10232.4      28662.1\n",
       "    336.226      8246.93         4030.07           -8934.05     29191.9\n",
       "     36.763      5005.43        -2485.33       …   -2099.16      5779.76\n",
       "    -10.8152     5715.89        -5513.23           -4814.28      8208.03\n",
       "    -48.5457     2121.85           99.9897         -8981.55      6056.3\n",
       "   1026.41      -2571.68         3974.95            6056.3     -13572.1"
      ]
     },
     "execution_count": 36,
     "metadata": {},
     "output_type": "execute_result"
    }
   ],
   "source": [
    "likelihood_hessian = FiniteDiff.finite_difference_hessian(p -> estimate_likelihood_2_for_variance(p, sol_1[K], sol_1[2K], estimated_γ, placement_rates, k, K), sol_1_for_variance)"
   ]
  },
  {
   "cell_type": "code",
   "execution_count": 37,
   "id": "9c694a4e-74b9-4f25-b28e-a29a1932e6d5",
   "metadata": {},
   "outputs": [
    {
     "data": {
      "text/plain": [
       "19×19 LinearAlgebra.Symmetric{Float64, Matrix{Float64}}:\n",
       "  0.00976897    0.00291817    0.00126456   …   0.0020623     0.00147574\n",
       "  0.00291817    0.00188328    0.00056853       0.00129972    0.000901024\n",
       "  0.00126456    0.00056853    0.000498061      0.00043171    0.000300079\n",
       "  0.00161786    0.000675695   0.000477572      0.000501704   0.000350658\n",
       "  0.0011235     0.000757664   0.000314014      0.000518464   0.000264742\n",
       " -0.00118771    0.00241373    0.000233653  …   0.00163203    0.00115293\n",
       "  0.00141406    0.00107814    0.000228124      0.00073801    0.000519284\n",
       "  0.00132409    0.00099269    0.000129678      0.000668833   0.00045883\n",
       "  0.0014932     0.00118071    0.000195981      0.000799289   0.000552527\n",
       "  0.00664756    0.00448207    0.00122642       0.00310547    0.00220432\n",
       "  4.88464e-6    6.26797e-6    2.5657e-6    …   1.09366e-5    3.16022e-5\n",
       " -1.77397e-5   -1.01234e-5   -5.22113e-6       3.90798e-6    4.24062e-5\n",
       " -0.000672047  -0.000401504  -0.00017457      -0.000270909  -0.000112601\n",
       " -0.000196615  -0.00011516   -4.22844e-5      -7.38892e-5   -1.98005e-5\n",
       " -0.000142862  -0.000104211  -2.10396e-5      -6.50979e-5   -1.98708e-5\n",
       "  3.77304e-5    0.00016973    0.00013968   …   0.000166501   0.000316856\n",
       "  0.000775724   0.000398692   0.000102108      0.000260412   0.000418822\n",
       "  0.0020623     0.00129972    0.00043171       0.00110732    0.000846617\n",
       "  0.00147574    0.000901024   0.000300079      0.000846617   0.00142708"
      ]
     },
     "execution_count": 37,
     "metadata": {},
     "output_type": "execute_result"
    }
   ],
   "source": [
    "estimator_variance = inv((-1 * likelihood_hessian))"
   ]
  },
  {
   "cell_type": "code",
   "execution_count": 38,
   "id": "2871a51f-f2f7-4bbc-962c-101b20c1da36",
   "metadata": {},
   "outputs": [
    {
     "name": "stdout",
     "output_type": "stream",
     "text": [
      "[0.009768972064951264, 0.001883283067191928, 0.0004980611375434833, 0.0008835517742193325, 0.12150070608511718, 0.008100978668163455, 0.0007161257940823255, 0.000620333750894032, 0.0009441348077667685, 0.011754119383911526, 2.1605031340985955e-6, 5.217473826076029e-6, 0.00011216478776610202, 1.3873861697185862e-5, 1.0855591196197198e-5, 0.00043295617453227055, 0.00032222721939580644, 0.0011073163136538094, 0.0014270782952842062]\n"
     ]
    }
   ],
   "source": [
    "println([estimator_variance[i, i] for i in 1:3Km1+k]) # variance estimates"
   ]
  },
  {
   "cell_type": "code",
   "execution_count": 39,
   "id": "68a2ff24-fcb5-47e3-98ea-84618c7f3790",
   "metadata": {},
   "outputs": [
    {
     "name": "stdout",
     "output_type": "stream",
     "text": [
      "[0.09883811038739694, 0.04339680941258157, 0.022317283381798135, 0.029724598806701034, 0.34856951399271446, 0.0900054368811321, 0.026760526790075068, 0.02490650017352964, 0.030726776722701788, 0.10841641657937015, 0.001469865005399678, 0.002284179026713105, 0.010590787872774244, 0.003724763307538596, 0.003294782420160275, 0.020807598961251405, 0.017950688549351147, 0.03327636268665506, 0.03777668984022033]\n"
     ]
    }
   ],
   "source": [
    "println([sqrt(estimator_variance[i, i]) for i in 1:3Km1+k]) # standard deviations"
   ]
  },
  {
   "cell_type": "code",
   "execution_count": 40,
   "id": "db1b08f2-c3b7-4978-9616-9ddc0147546e",
   "metadata": {},
   "outputs": [
    {
     "name": "stdout",
     "output_type": "stream",
     "text": [
      "standard deviations:\n",
      "      μ: [0.09883811038739694, 0.04339680941258157, 0.022317283381798135, 0.029724598806701034, 0.34856951399271446]\n",
      "      σ: [0.0900054368811321, 0.026760526790075068, 0.02490650017352964, 0.030726776722701788, 0.10841641657937015]\n",
      "      ρ: [0.001469865005399678, 0.002284179026713105, 0.010590787872774244, 0.003724763307538596, 0.003294782420160275]\n",
      "  v_rel: [0.020807598961251405, 0.017950688549351147, 0.03327636268665506]\n",
      "      τ: 0.03777668984022033\n"
     ]
    }
   ],
   "source": [
    "println(\"standard deviations:\")\n",
    "println(\"      μ: \", [sqrt(estimator_variance[i, i]) for i in 1:Km1])\n",
    "println(\"      σ: \", [sqrt(estimator_variance[i, i]) for i in Km1+1:2Km1])\n",
    "println(\"      ρ: \", [sqrt(estimator_variance[i, i]) for i in 2Km1+1:3Km1])\n",
    "println(\"  v_rel: \", [sqrt(estimator_variance[i, i]) for i in 3Km1+1:3Km1+k-1])\n",
    "println(\"      τ: \", sqrt(estimator_variance[3Km1+k, 3Km1+k]))"
   ]
  },
  {
   "cell_type": "code",
   "execution_count": 41,
   "id": "f443b757-608c-4107-be2c-2cab197ad4f2",
   "metadata": {},
   "outputs": [
    {
     "data": {
      "text/plain": [
       "get_ρ_K (generic function with 1 method)"
      ]
     },
     "execution_count": 41,
     "metadata": {},
     "output_type": "execute_result"
    }
   ],
   "source": [
    "function get_mean(p_vec, i, K)\n",
    "    Km1 = K - 1\n",
    "    μ = zeros(K)\n",
    "    σ = zeros(K)\n",
    "    μ[1:Km1] = p_vec[1:Km1]\n",
    "    σ[1:Km1] = p_vec[Km1+1:2Km1]\n",
    "    return mean(truncated(Normal(μ[i], σ[i]), 0, 1))\n",
    "end\n",
    "\n",
    "function get_stddev(p_vec, i, K)\n",
    "    Km1 = K - 1\n",
    "    μ = zeros(K)\n",
    "    σ = zeros(K)\n",
    "    μ[1:Km1] = p_vec[1:Km1]\n",
    "    σ[1:Km1] = p_vec[Km1+1:2Km1]\n",
    "    return std(truncated(Normal(μ[i], σ[i]), 0, 1))\n",
    "end\n",
    "\n",
    "function get_v(p_vec, i, K)\n",
    "    Km1 = K - 1\n",
    "    v_rel = p_vec[3Km1+1:3Km1+k-1]\n",
    "    return prod(v_rel[1:i-1])\n",
    "end\n",
    "\n",
    "function get_ρ_K(p_vec, K)\n",
    "    Km1 = K - 1\n",
    "    ρ = zeros(K)\n",
    "    ρ[1:Km1] = p_vec[2Km1+1:3Km1]\n",
    "    ρ[K] = 1 - sum(ρ[1:Km1])\n",
    "    return ρ[K]\n",
    "end"
   ]
  },
  {
   "cell_type": "code",
   "execution_count": 42,
   "id": "9d70cde3-81f3-42cc-9fc4-103400563369",
   "metadata": {},
   "outputs": [],
   "source": [
    "mean_variances = zeros(Km1)\n",
    "stddev_variances = zeros(Km1)\n",
    "\n",
    "for i in 1:Km1\n",
    "    mean_gradient = reshape(FiniteDiff.finite_difference_gradient(p -> get_mean(p, i, K), sol_1_for_variance), length(sol_1_for_variance), 1)\n",
    "    estimated_mean_variance = mean_gradient' * estimator_variance * mean_gradient\n",
    "    mean_variances[i] = estimated_mean_variance[1, 1]\n",
    "\n",
    "    stddev_gradient = reshape(FiniteDiff.finite_difference_gradient(p -> get_stddev(p, i, K), sol_1_for_variance), length(sol_1_for_variance), 1)\n",
    "    estimated_stddev_variance = stddev_gradient' * estimator_variance * stddev_gradient\n",
    "    stddev_variances[i] = estimated_stddev_variance[1, 1]\n",
    "end"
   ]
  },
  {
   "cell_type": "code",
   "execution_count": 43,
   "id": "ae626cb0-9705-4a54-b08e-bfa480a13935",
   "metadata": {},
   "outputs": [
    {
     "data": {
      "text/plain": [
       "5-element Vector{Float64}:\n",
       " 0.006187285176587714\n",
       " 0.0020914622477354312\n",
       " 0.0005728565913152889\n",
       " 0.0008082382878964275\n",
       " 0.00111424679706861"
      ]
     },
     "execution_count": 43,
     "metadata": {},
     "output_type": "execute_result"
    }
   ],
   "source": [
    "mean_variances"
   ]
  },
  {
   "cell_type": "code",
   "execution_count": 44,
   "id": "87274457-3947-4dc5-b6b1-f6d28e653e93",
   "metadata": {},
   "outputs": [
    {
     "data": {
      "text/plain": [
       "5-element Vector{Float64}:\n",
       " 0.07865929809366286\n",
       " 0.04573250756010905\n",
       " 0.023934422727847206\n",
       " 0.028429531967593617\n",
       " 0.03338033548466238"
      ]
     },
     "execution_count": 44,
     "metadata": {},
     "output_type": "execute_result"
    }
   ],
   "source": [
    "[sqrt(mean_variances[i]) for i in 1:Km1]"
   ]
  },
  {
   "cell_type": "code",
   "execution_count": 45,
   "id": "5e9a2da8-deae-4498-8ba8-d98210f387c9",
   "metadata": {},
   "outputs": [
    {
     "data": {
      "text/plain": [
       "5-element Vector{Float64}:\n",
       " 0.0030053620174761643\n",
       " 0.0005600440338913643\n",
       " 0.0002724480850040898\n",
       " 0.0003912236014393975\n",
       " 0.001012813962845664"
      ]
     },
     "execution_count": 45,
     "metadata": {},
     "output_type": "execute_result"
    }
   ],
   "source": [
    "stddev_variances"
   ]
  },
  {
   "cell_type": "code",
   "execution_count": 46,
   "id": "3e35bbde-97ae-49ba-bdad-f2fe8c98779f",
   "metadata": {},
   "outputs": [
    {
     "data": {
      "text/plain": [
       "5-element Vector{Float64}:\n",
       " 0.05482118219699539\n",
       " 0.02366524949987564\n",
       " 0.01650600148443256\n",
       " 0.019779373130597376\n",
       " 0.031824738221164744"
      ]
     },
     "execution_count": 46,
     "metadata": {},
     "output_type": "execute_result"
    }
   ],
   "source": [
    "[sqrt(stddev_variances[i]) for i in 1:Km1]"
   ]
  },
  {
   "cell_type": "code",
   "execution_count": 47,
   "id": "69992abd-24e1-4dc5-a8f4-730ac27d5543",
   "metadata": {},
   "outputs": [],
   "source": [
    "v_variances = zeros(k)\n",
    "\n",
    "for i in 2:k\n",
    "    v_gradient = reshape(FiniteDiff.finite_difference_gradient(p -> get_v(p, i, K), sol_1_for_variance), length(sol_1_for_variance), 1)\n",
    "    estimated_v_variance = v_gradient' * estimator_variance * v_gradient\n",
    "    v_variances[i] = estimated_v_variance[1, 1]\n",
    "end"
   ]
  },
  {
   "cell_type": "code",
   "execution_count": 48,
   "id": "306dc5fe-595d-4317-85e2-e5847832543f",
   "metadata": {},
   "outputs": [
    {
     "data": {
      "text/plain": [
       "4-element Vector{Float64}:\n",
       " 0.0\n",
       " 0.00043295617453679026\n",
       " 0.0003449776419455517\n",
       " 0.0006319892324480473"
      ]
     },
     "execution_count": 48,
     "metadata": {},
     "output_type": "execute_result"
    }
   ],
   "source": [
    "v_variances"
   ]
  },
  {
   "cell_type": "code",
   "execution_count": 49,
   "id": "0df5c2eb-e20b-43b1-ad16-7803ea358d85",
   "metadata": {},
   "outputs": [
    {
     "data": {
      "text/plain": [
       "4-element Vector{Float64}:\n",
       " 0.0\n",
       " 0.020807598961360012\n",
       " 0.018573573752661377\n",
       " 0.025139396023931188"
      ]
     },
     "execution_count": 49,
     "metadata": {},
     "output_type": "execute_result"
    }
   ],
   "source": [
    "[sqrt(v_variances[i]) for i in 1:k]"
   ]
  },
  {
   "cell_type": "code",
   "execution_count": 50,
   "id": "65b6ab38-cac0-4f83-8be1-f55e2d6b4773",
   "metadata": {},
   "outputs": [
    {
     "data": {
      "text/plain": [
       "0.0002836362272901844"
      ]
     },
     "execution_count": 50,
     "metadata": {},
     "output_type": "execute_result"
    }
   ],
   "source": [
    "ρ_K_gradient = reshape(FiniteDiff.finite_difference_gradient(p -> get_ρ_K(p, K), sol_1_for_variance), length(sol_1_for_variance), 1)\n",
    "estimated_ρ_K_variance = ρ_K_gradient' * estimator_variance * ρ_K_gradient\n",
    "ρ_K_variance = estimated_ρ_K_variance[1, 1]"
   ]
  },
  {
   "cell_type": "code",
   "execution_count": 51,
   "id": "bad7167d-fb41-4976-ad07-efdee43bdd33",
   "metadata": {},
   "outputs": [
    {
     "data": {
      "text/plain": [
       "0.016841503118492255"
      ]
     },
     "execution_count": 51,
     "metadata": {},
     "output_type": "execute_result"
    }
   ],
   "source": [
    "sqrt(ρ_K_variance)"
   ]
  },
  {
   "cell_type": "code",
   "execution_count": 52,
   "id": "931cdfc5-79a8-4891-958b-354961dc0704",
   "metadata": {},
   "outputs": [
    {
     "data": {
      "text/plain": [
       "get_results_tables (generic function with 1 method)"
      ]
     },
     "execution_count": 52,
     "metadata": {},
     "output_type": "execute_result"
    }
   ],
   "source": [
    "function get_results_tables(p_vec, μ_K, σ_K, γ, placements, k, K, estimator_var, mean_var, stddev_var, v_var, ρ_K_var)   \n",
    "    Km1 = K - 1\n",
    "    μ = zeros(K)\n",
    "    σ = zeros(K)\n",
    "    μ[1:Km1] = p_vec[1:Km1]\n",
    "    σ[1:Km1] = p_vec[Km1+1:2Km1]\n",
    "    μ[K] = μ_K\n",
    "    σ[K] = σ_K\n",
    "    means = [mean(truncated(Normal(μ[i], σ[i]), 0, 1)) for i in 1:K]\n",
    "    stddevs = [std(truncated(Normal(μ[i], σ[i]), 0, 1)) for i in 1:K]\n",
    "    \n",
    "    ρ = zeros(K)\n",
    "    ρ[1:Km1] = p_vec[2Km1+1:3Km1]\n",
    "    ρ[K] = 1 - sum(ρ[1:Km1])\n",
    "\n",
    "    ρ_var = zeros(K)\n",
    "    ρ_var[1:Km1] = [estimator_var[i, i] for i in 2Km1+1:3Km1]\n",
    "    ρ_var[K] = ρ_K_var\n",
    "    \n",
    "    v_rel = p_vec[3Km1+1:3Km1+k-1]\n",
    "    τ = p_vec[3Km1+k]\n",
    "    α = γ * τ\n",
    "\n",
    "    values = ones(k)\n",
    "    v_base = 1\n",
    "    for i in 1:k\n",
    "        println(\"v\", i, \": \", v_base)\n",
    "        if i != k\n",
    "            v_base = v_rel[i] * v_base\n",
    "            values[i+1] = round(v_base; digits = 3)\n",
    "        end\n",
    "    end\n",
    "    \n",
    "    # graduate parameters\n",
    "    graduate_parameters_table = Matrix(undef, 2, k)\n",
    "    graduate_parameters_table[1, 1] = \"1\"\n",
    "    graduate_parameters_table[1, 2:k] = [string(round.(values[i]; digits = 3), \" (\", round.(sqrt(v_var[i]); digits = 3), \")\") for i in 2:k]\n",
    "    graduate_parameters_table[2, :] = round.(γ[:], digits = 3)\n",
    "    graduate_var_names = [raw\"$v_i$\", raw\"$\\gamma_i$\"]\n",
    "    graduate_paper_table = hcat(graduate_var_names, graduate_parameters_table)\n",
    "    T1 = pretty_table(graduate_paper_table; header = vcat([\"\"], [\"Tier $i\" for i in 1:k]), backend=Val(:latex))\n",
    "    \n",
    "    # employer parameters\n",
    "    employer_parameters_table = Matrix(undef, 3, K)\n",
    "    employer_parameters_table[1, :] = [string(round.(ρ[i]; digits = 3), \" (\", round.(sqrt(ρ_var[i]); digits = 3), \")\") for i in 1:K]\n",
    "    employer_parameters_table[2, 1:K-1] = [string(round.(means[i]; digits = 3), \" (\", round.(sqrt(mean_var[i]); digits = 3), \")\") for i in 1:K-1]\n",
    "    employer_parameters_table[3, 1:K-1] = [string(round.(stddevs[i]; digits = 3), \" (\", round.(sqrt(stddev_var[i]); digits = 3), \")\") for i in 1:K-1]\n",
    "    employer_parameters_table[2, K] = string(round.(means[K]; digits = 3))\n",
    "    employer_parameters_table[3, K] = string(round.(stddevs[K]; digits = 3))\n",
    "    employer_var_names = [raw\"$\\rho_i$\", raw\"$mean(F_i)$\", raw\"$std(F_i)$\"]\n",
    "    employer_paper_table = hcat(employer_var_names, employer_parameters_table)\n",
    "    T2 = pretty_table(employer_paper_table; header = vcat([\"\"], plot_labels), backend=Val(:latex))\n",
    "end"
   ]
  },
  {
   "cell_type": "code",
   "execution_count": 53,
   "id": "41254469-048f-4660-aabb-2c8e59a82546",
   "metadata": {},
   "outputs": [
    {
     "name": "stdout",
     "output_type": "stream",
     "text": [
      "v1: 1\n",
      "v2: 0.6473725357418028\n",
      "v3: 0.45384246525498495\n",
      "v4: 0.34943966722654185\n",
      "\\begin{tabular}{rrrrr}\n",
      "  \\hline\n",
      "   & \\textbf{Tier 1} & \\textbf{Tier 2} & \\textbf{Tier 3} & \\textbf{Tier 4} \\\\\\hline\n",
      "  \\$v\\_i\\$ & 1 & 0.647 (0.021) & 0.454 (0.019) & 0.349 (0.025) \\\\\n",
      "  \\$\\textbackslash{}gamma\\_i\\$ & 0.207 & 0.261 & 0.33 & 0.202 \\\\\\hline\n",
      "\\end{tabular}\n",
      "\\begin{tabular}{rrrrrrr}\n",
      "  \\hline\n",
      "   & \\textbf{Tier 1} & \\textbf{Tier 2} & \\textbf{Tier 3 + Tier 4} & \\textbf{Public Sector} & \\textbf{Private Sector} & \\textbf{Other} \\\\\\hline\n",
      "  \\$\\textbackslash{}rho\\_i\\$ & 0.037 (0.001) & 0.073 (0.002) & 0.267 (0.011) & 0.095 (0.004) & 0.084 (0.003) & 0.444 (0.017) \\\\\n",
      "  \\$mean(F\\_i)\\$ & 0.191 (0.079) & 0.11 (0.046) & 0.057 (0.024) & 0.067 (0.028) & 0.078 (0.033) & 0.014 \\\\\n",
      "  \\$std(F\\_i)\\$ & 0.132 (0.055) & 0.059 (0.024) & 0.04 (0.017) & 0.048 (0.02) & 0.076 (0.032) & 0.013 \\\\\\hline\n",
      "\\end{tabular}\n"
     ]
    }
   ],
   "source": [
    "get_results_tables(sol_2, sol_1[K], sol_1[2K], estimated_γ, placement_rates, k, K, estimator_variance, mean_variances, stddev_variances, v_variances, ρ_K_variance);"
   ]
  },
  {
   "cell_type": "code",
   "execution_count": 54,
   "id": "8eee7da6-491e-4617-a2e5-3919d0682fda",
   "metadata": {},
   "outputs": [
    {
     "data": {
      "text/plain": [
       "0.64"
      ]
     },
     "execution_count": 54,
     "metadata": {},
     "output_type": "execute_result"
    }
   ],
   "source": [
    "round(estimated_τ; digits = 3)"
   ]
  },
  {
   "cell_type": "code",
   "execution_count": 55,
   "id": "e0b2147d-5a2c-4877-9413-466bd18b3531",
   "metadata": {},
   "outputs": [
    {
     "data": {
      "text/plain": [
       "0.038"
      ]
     },
     "execution_count": 55,
     "metadata": {},
     "output_type": "execute_result"
    }
   ],
   "source": [
    "round(sqrt(estimator_variance[3Km1+k, 3Km1+k]); digits = 3)"
   ]
  }
 ],
 "metadata": {
  "kernelspec": {
   "display_name": "Julia (19 threads) 1.11.1",
   "language": "julia",
   "name": "julia-_19-threads_-1.11"
  },
  "language_info": {
   "file_extension": ".jl",
   "mimetype": "application/julia",
   "name": "julia",
   "version": "1.11.1"
  }
 },
 "nbformat": 4,
 "nbformat_minor": 5
}
