{
 "cells": [
  {
   "cell_type": "markdown",
   "id": "d9fe68d4-ec10-4003-8587-fb7d99ada989",
   "metadata": {},
   "source": [
    "# Structural Estimation of Market Parameters\n",
    "\n",
    "### Hybrid Direct Estimator"
   ]
  },
  {
   "cell_type": "code",
   "execution_count": 1,
   "id": "b2dfd47a-92cf-4803-ad29-1e86305dabff",
   "metadata": {},
   "outputs": [
    {
     "name": "stderr",
     "output_type": "stream",
     "text": [
      "\u001b[32m\u001b[1m  Activating\u001b[22m\u001b[39m project at `C:\\Users\\jbrig\\Documents\\research\\mapinator_2024\\notes\\estimation_of_tau`\n",
      "\u001b[32m\u001b[1m    CondaPkg \u001b[22m\u001b[39m\u001b[0mFound dependencies: C:\\Users\\jbrig\\.julia\\packages\\PythonCall\\Nr75f\\CondaPkg.toml\n",
      "\u001b[32m\u001b[1m    CondaPkg \u001b[22m\u001b[39m\u001b[0mFound dependencies: C:\\Users\\jbrig\\.julia\\packages\\PythonPlot\\469aA\\CondaPkg.toml\n",
      "\u001b[32m\u001b[1m    CondaPkg \u001b[22m\u001b[39m\u001b[0mDependencies already up to date\n"
     ]
    }
   ],
   "source": [
    "using Pkg\n",
    "Pkg.activate(\".\")\n",
    "#for pkg in [\"BlackBoxOptim\", \"Cubature\", \"Distributions\", \"Integrals\", \"Roots\", \"PythonPlot\", \"PrettyTables\", \"JLD\", \"StatProfilerHTML\"] # \n",
    "#    Pkg.add(pkg)\n",
    "#end\n",
    "\n",
    "Pkg.instantiate()\n",
    "\n",
    "using BlackBoxOptim, Cubature, Distributions, Integrals, Random, Roots, PythonPlot, PrettyTables, JLD"
   ]
  },
  {
   "cell_type": "markdown",
   "id": "aa9f4722-e30e-4a2e-bc47-5879586367a0",
   "metadata": {},
   "source": [
    "## 1. Load placements"
   ]
  },
  {
   "cell_type": "code",
   "execution_count": 2,
   "id": "4c12af5d-2894-43f2-b66c-bbb64d40d7d5",
   "metadata": {},
   "outputs": [
    {
     "data": {
      "text/plain": [
       "Dict{String, Any} with 4 entries:\n",
       "  \"successful_tier_1_range\" => 2018:2023\n",
       "  \"placement_matrix\"        => [761 115 … 8 0; 879 569 … 48 4; … ; 165 244 … 20…\n",
       "  \"successful_tier_1\"       => 2098\n",
       "  \"unmatched\"               => [300, 544, 667, 364, 273]"
      ]
     },
     "execution_count": 2,
     "metadata": {},
     "output_type": "execute_result"
    }
   ],
   "source": [
    "placement_matrices = load(\"placement_matrices.jld\")"
   ]
  },
  {
   "cell_type": "code",
   "execution_count": 3,
   "id": "fbb8fb48-1ed2-40ca-94bd-1f5120897154",
   "metadata": {},
   "outputs": [
    {
     "data": {
      "text/plain": [
       "10×5 Matrix{Int64}:\n",
       " 761  115   41    8    0\n",
       " 879  569  148   48    4\n",
       " 839  993  443   60   14\n",
       " 176  306  217  140   11\n",
       "   3   14   16   15   46\n",
       " 582  596  301   79   19\n",
       " 700  438  244   68   24\n",
       " 218  187  114   39    9\n",
       " 165  244  315  201  104\n",
       " 676  967  815  309  123"
      ]
     },
     "execution_count": 3,
     "metadata": {},
     "output_type": "execute_result"
    }
   ],
   "source": [
    "placement_rates_raw = placement_matrices[\"placement_matrix\"]"
   ]
  },
  {
   "cell_type": "code",
   "execution_count": 4,
   "id": "9e272bee-12f9-4e47-8a7f-15d0f286e01b",
   "metadata": {},
   "outputs": [
    {
     "data": {
      "text/plain": [
       "5-element Vector{Int64}:\n",
       " 300\n",
       " 544\n",
       " 667\n",
       " 364\n",
       " 273"
      ]
     },
     "execution_count": 4,
     "metadata": {},
     "output_type": "execute_result"
    }
   ],
   "source": [
    "unmatched_raw = placement_matrices[\"unmatched\"]"
   ]
  },
  {
   "cell_type": "code",
   "execution_count": 5,
   "id": "ff331bd7-5c27-44b9-911a-93f7e0bb28cd",
   "metadata": {},
   "outputs": [
    {
     "data": {
      "text/plain": [
       "10"
      ]
     },
     "execution_count": 5,
     "metadata": {},
     "output_type": "execute_result"
    }
   ],
   "source": [
    "k = size(placement_rates_raw)[2]\n",
    "K = size(placement_rates_raw)[1]"
   ]
  },
  {
   "cell_type": "markdown",
   "id": "d6454f94-557d-47be-ae2a-83441835c64d",
   "metadata": {},
   "source": [
    "## 2. Rescale placements (successes and failures) using registrations"
   ]
  },
  {
   "cell_type": "code",
   "execution_count": 6,
   "id": "1a2e2a37-cc30-45d5-89d2-bf284ffb9c7f",
   "metadata": {},
   "outputs": [
    {
     "data": {
      "text/plain": [
       "5-element Vector{Any}:\n",
       " 2664\n",
       " 3635\n",
       " 4481\n",
       " 2284\n",
       " 1347"
      ]
     },
     "execution_count": 6,
     "metadata": {},
     "output_type": "execute_result"
    }
   ],
   "source": [
    "# conduct adjustment using the relative m_t values\n",
    "adjustment_matrix = load(\"adjustment_matrix.jld\")\n",
    "m_t_values = adjustment_matrix[\"data\"][:, 1]"
   ]
  },
  {
   "cell_type": "code",
   "execution_count": 7,
   "id": "e00665ff-dce3-4798-8adf-d50d19fcab00",
   "metadata": {},
   "outputs": [
    {
     "data": {
      "text/plain": [
       "5-element Vector{Int64}:\n",
       " 5299\n",
       " 4973\n",
       " 3321\n",
       " 1331\n",
       "  627"
      ]
     },
     "execution_count": 7,
     "metadata": {},
     "output_type": "execute_result"
    }
   ],
   "source": [
    "m_t_placements = zeros(Int, k)\n",
    "for t in 1:k\n",
    "    m_t_placements[t] = sum(placement_rates_raw[:, t]) + unmatched_raw[t]\n",
    "end\n",
    "m_t_placements"
   ]
  },
  {
   "cell_type": "code",
   "execution_count": 8,
   "id": "382cc3cf-8759-483c-9415-0ff3ecba95c4",
   "metadata": {},
   "outputs": [
    {
     "data": {
      "text/plain": [
       "10×5 Matrix{Int64}:\n",
       " 383   84    55   14    0\n",
       " 442  416   200   82    9\n",
       " 422  726   598  103   30\n",
       "  88  224   293  240   24\n",
       "   2   10    22   26   99\n",
       " 293  436   406  136   41\n",
       " 352  320   329  117   52\n",
       " 110  137   154   67   19\n",
       "  83  178   425  345  223\n",
       " 340  707  1100  530  264"
      ]
     },
     "execution_count": 8,
     "metadata": {},
     "output_type": "execute_result"
    }
   ],
   "source": [
    "placement_rates_rescaled = zeros(Int, K, k)\n",
    "unmatched_rescaled = zeros(Int, k)\n",
    "\n",
    "for i in 1:K\n",
    "    for t in 1:k\n",
    "        placement_rates_rescaled[i, t] = round(m_t_values[t] * (placement_rates_raw[i, t] / m_t_placements[t]))\n",
    "    end\n",
    "end\n",
    "\n",
    "for t in 1:k\n",
    "    unmatched_rescaled[t] = round(m_t_values[t] * (unmatched_raw[t] / m_t_placements[t]))\n",
    "end\n",
    "\n",
    "placement_rates_rescaled"
   ]
  },
  {
   "cell_type": "code",
   "execution_count": 9,
   "id": "014bea2a-dba0-4afe-a26c-5294a91eb24f",
   "metadata": {},
   "outputs": [
    {
     "data": {
      "text/plain": [
       "5-element Vector{Int64}:\n",
       " 151\n",
       " 398\n",
       " 900\n",
       " 625\n",
       " 586"
      ]
     },
     "execution_count": 9,
     "metadata": {},
     "output_type": "execute_result"
    }
   ],
   "source": [
    "unmatched_rescaled"
   ]
  },
  {
   "cell_type": "markdown",
   "id": "b58c06f9-5569-4fe8-9038-f631293b278c",
   "metadata": {},
   "source": [
    "## 3. Collapse sinks and delete graduating tier 5 (tier 5 becomes part of the sinks)"
   ]
  },
  {
   "cell_type": "code",
   "execution_count": 10,
   "id": "13ce6f01-f5c1-4713-a9cb-2dda4947fdbd",
   "metadata": {},
   "outputs": [
    {
     "name": "stdout",
     "output_type": "stream",
     "text": [
      "original dimensions: 10 by 5\n"
     ]
    }
   ],
   "source": [
    "println(\"original dimensions: \", K, \" by \", k)"
   ]
  },
  {
   "cell_type": "code",
   "execution_count": 11,
   "id": "efa9ae51-7c3a-4682-a297-4739926642dd",
   "metadata": {},
   "outputs": [
    {
     "data": {
      "text/plain": [
       "7"
      ]
     },
     "execution_count": 11,
     "metadata": {},
     "output_type": "execute_result"
    }
   ],
   "source": [
    "k -= 1\n",
    "K = k + 3"
   ]
  },
  {
   "cell_type": "code",
   "execution_count": 12,
   "id": "4fbe3972-0375-4510-8de7-bde7ba2e3637",
   "metadata": {},
   "outputs": [
    {
     "name": "stdout",
     "output_type": "stream",
     "text": [
      "new dimensions: 7 by 4\n"
     ]
    }
   ],
   "source": [
    "println(\"new dimensions: \", K, \" by \", k)"
   ]
  },
  {
   "cell_type": "code",
   "execution_count": 13,
   "id": "3d5e9e4d-1081-48bb-817d-e98a66294ec0",
   "metadata": {},
   "outputs": [
    {
     "data": {
      "text/plain": [
       "7×4 Matrix{Int64}:\n",
       " 383    84    55   14\n",
       " 442   416   200   82\n",
       " 422   726   598  103\n",
       "  88   224   293  240\n",
       " 293   436   406  136\n",
       " 352   320   329  117\n",
       " 535  1032  1701  968"
      ]
     },
     "execution_count": 13,
     "metadata": {},
     "output_type": "execute_result"
    }
   ],
   "source": [
    "placement_rates = zeros(Int, K, k)\n",
    "for i in 1:4 # NOTE: hardcoded\n",
    "    for t in 1:k\n",
    "        placement_rates[i, t] = placement_rates_rescaled[i, t]\n",
    "    end\n",
    "end\n",
    "\n",
    "for i in 5:6 # NOTE: hardcoded\n",
    "    for t in 1:k\n",
    "        placement_rates[i, t] = placement_rates_rescaled[i+1, t]\n",
    "    end\n",
    "end\n",
    "\n",
    "for t in 1:k\n",
    "    # NOTE: hardcoded\n",
    "    for original_sink_tier in [5, 8, 9, 10]\n",
    "        placement_rates[K, t] += placement_rates_rescaled[original_sink_tier, t] \n",
    "    end\n",
    "end\n",
    "\n",
    "unmatched = zeros(Int, k)\n",
    "for t in 1:k\n",
    "    unmatched[t] = unmatched_rescaled[t]\n",
    "end\n",
    "\n",
    "placement_rates"
   ]
  },
  {
   "cell_type": "code",
   "execution_count": 14,
   "id": "f6d26159-43a7-4ae3-a112-153bc654fb01",
   "metadata": {},
   "outputs": [
    {
     "data": {
      "text/plain": [
       "4-element Vector{Int64}:\n",
       " 151\n",
       " 398\n",
       " 900\n",
       " 625"
      ]
     },
     "execution_count": 14,
     "metadata": {},
     "output_type": "execute_result"
    }
   ],
   "source": [
    "unmatched"
   ]
  },
  {
   "cell_type": "markdown",
   "id": "54dcbc22-a2c6-4ac9-93ff-f92f1d189356",
   "metadata": {},
   "source": [
    "## 3a. Latex version of the new table"
   ]
  },
  {
   "cell_type": "code",
   "execution_count": 15,
   "id": "ff89bc28-bd0a-4f4a-8e4e-9cdfc95970c1",
   "metadata": {},
   "outputs": [],
   "source": [
    "presentation_table = zeros(Int, K+1, k)\n",
    "for i in 1:K, t in 1:k\n",
    "    presentation_table[i, t] = placement_rates[i, t]\n",
    "end\n",
    "\n",
    "for t in 1:k\n",
    "    presentation_table[K+1, t] = unmatched[t]\n",
    "end"
   ]
  },
  {
   "cell_type": "code",
   "execution_count": 16,
   "id": "2f7cdb62-a262-4f42-9a25-e6148569a4a8",
   "metadata": {},
   "outputs": [
    {
     "data": {
      "text/plain": [
       "Main.SBM"
      ]
     },
     "execution_count": 16,
     "metadata": {},
     "output_type": "execute_result"
    }
   ],
   "source": [
    "include(\"type_allocation_base_by_applicant.jl\")"
   ]
  },
  {
   "cell_type": "code",
   "execution_count": 17,
   "id": "44b281ba-3c06-4e96-a425-c26143e6f851",
   "metadata": {},
   "outputs": [
    {
     "data": {
      "text/plain": [
       "8×4 Matrix{Int64}:\n",
       " 383    84    55   14\n",
       " 442   416   200   82\n",
       " 422   726   598  103\n",
       "  88   224   293  240\n",
       " 293   436   406  136\n",
       " 352   320   329  117\n",
       " 535  1032  1701  968\n",
       " 151   398   900  625"
      ]
     },
     "execution_count": 17,
     "metadata": {},
     "output_type": "execute_result"
    }
   ],
   "source": [
    "presentation_table"
   ]
  },
  {
   "cell_type": "code",
   "execution_count": 18,
   "id": "2ef3fa5e-0884-45cc-8580-10cae2337626",
   "metadata": {},
   "outputs": [
    {
     "name": "stdout",
     "output_type": "stream",
     "text": [
      "┌────────────────┬────────┬────────┬────────┬────────┬────────────┐\n",
      "│\u001b[1m                \u001b[0m│\u001b[1m Tier 1 \u001b[0m│\u001b[1m Tier 2 \u001b[0m│\u001b[1m Tier 3 \u001b[0m│\u001b[1m Tier 4 \u001b[0m│\u001b[1m Row Totals \u001b[0m│\n",
      "├────────────────┼────────┼────────┼────────┼────────┼────────────┤\n",
      "│         Tier 1 │    383 │     84 │     55 │     14 │        536 │\n",
      "│         Tier 2 │    442 │    416 │    200 │     82 │       1140 │\n",
      "│         Tier 3 │    422 │    726 │    598 │    103 │       1849 │\n",
      "│         Tier 4 │     88 │    224 │    293 │    240 │        845 │\n",
      "│  Public Sector │    293 │    436 │    406 │    136 │       1271 │\n",
      "│ Private Sector │    352 │    320 │    329 │    117 │       1118 │\n",
      "│          Other │    535 │   1032 │   1701 │    968 │       4236 │\n",
      "│      Unmatched │    151 │    398 │    900 │    625 │       2074 │\n",
      "│  Column Totals │   2666 │   3636 │   4482 │   2285 │      13069 │\n",
      "└────────────────┴────────┴────────┴────────┴────────┴────────────┘\n",
      "\\begin{tabular}{rrrrrr}\n",
      "  \\hline\n",
      "   & \\textbf{Tier 1} & \\textbf{Tier 2} & \\textbf{Tier 3} & \\textbf{Tier 4} & \\textbf{Row Totals} \\\\\\hline\n",
      "  Tier 1 & 383 & 84 & 55 & 14 & 536 \\\\\n",
      "  Tier 2 & 442 & 416 & 200 & 82 & 1140 \\\\\n",
      "  Tier 3 & 422 & 726 & 598 & 103 & 1849 \\\\\n",
      "  Tier 4 & 88 & 224 & 293 & 240 & 845 \\\\\n",
      "  Public Sector & 293 & 436 & 406 & 136 & 1271 \\\\\n",
      "  Private Sector & 352 & 320 & 329 & 117 & 1118 \\\\\n",
      "  Other & 535 & 1032 & 1701 & 968 & 4236 \\\\\n",
      "  Unmatched & 151 & 398 & 900 & 625 & 2074 \\\\\n",
      "  Column Totals & 2666 & 3636 & 4482 & 2285 & 13069 \\\\\\hline\n",
      "\\end{tabular}\n"
     ]
    }
   ],
   "source": [
    "sink_names_to_present = [\n",
    "    \"Public Sector\",\n",
    "    \"Private Sector\",\n",
    "    \"Other\",\n",
    "    \"Unmatched\"\n",
    "]\n",
    "SBM.nice_table(presentation_table, k, (K - k) + 1, sink_names_to_present)"
   ]
  },
  {
   "cell_type": "markdown",
   "id": "be7b0f52-5cbb-475b-ba2c-4be5c940b6eb",
   "metadata": {},
   "source": [
    "## 4. Compute $m$ and $\\gamma_t$"
   ]
  },
  {
   "cell_type": "code",
   "execution_count": 19,
   "id": "28d3a3e0-afc8-4ba1-b637-1c657ac888fc",
   "metadata": {},
   "outputs": [
    {
     "name": "stdout",
     "output_type": "stream",
     "text": [
      "successful graduates: 10995\n",
      "[2515, 3238, 3582, 1660]\n",
      "\n"
     ]
    },
    {
     "data": {
      "text/plain": [
       "14411"
      ]
     },
     "execution_count": 19,
     "metadata": {},
     "output_type": "execute_result"
    }
   ],
   "source": [
    "res = (; placements = placement_rates) \n",
    "\n",
    "M = sum(res.placements)\n",
    "\n",
    "successful_graduates = [sum(res.placements[:, t]) for t in 1:k]\n",
    "println(\"successful graduates: \", M)\n",
    "println(successful_graduates)\n",
    "println()\n",
    "\n",
    "estimated_m_val = sum(m_t_values)"
   ]
  },
  {
   "cell_type": "code",
   "execution_count": 20,
   "id": "0dff8e9b-f0c6-496f-bd57-5fcaa24e834d",
   "metadata": {},
   "outputs": [
    {
     "data": {
      "text/plain": [
       "5-element Vector{Float64}:\n",
       " 0.1848587884255083\n",
       " 0.25223787384636737\n",
       " 0.31094302963014364\n",
       " 0.15849004232877664\n",
       " 0.09347026576920409"
      ]
     },
     "execution_count": 20,
     "metadata": {},
     "output_type": "execute_result"
    }
   ],
   "source": [
    "estimated_γ = m_t_values / estimated_m_val"
   ]
  },
  {
   "cell_type": "markdown",
   "id": "9982c6a2-3ded-4e07-b06c-77bccf3160ab",
   "metadata": {},
   "source": [
    "## 5. Estimate $\\frac{v_{t+1}}{v_t}$ and $\\tau$ simultaneously"
   ]
  },
  {
   "cell_type": "code",
   "execution_count": 21,
   "id": "8a43405c-f9d4-4a18-8a9e-1ec09982f26d",
   "metadata": {},
   "outputs": [
    {
     "data": {
      "text/plain": [
       "ρ_q (generic function with 1 method)"
      ]
     },
     "execution_count": 21,
     "metadata": {},
     "output_type": "execute_result"
    }
   ],
   "source": [
    "# define p_vec as e.g.\n",
    "# [v2/v1 v3/v2 v4/v3 α1 α2 α3 α4 mu1 mu2 mu3 mu4 mus sg1 sg2 sg3 sg4 sgs]\n",
    "\n",
    "function F(x, ρ, phi, K)\n",
    "    sum_base = 0.0\n",
    "    for i in 1:K\n",
    "        sum_base += ρ[i] * x^phi[i]\n",
    "    end\n",
    "    return sum_base\n",
    "end\n",
    "\n",
    "function f_integrand(integrals, x, p) \n",
    "    base_exp = exp(F(x, p.ρ, p.phi, p.K) / sum(p.α[1:p.s]))\n",
    "    for i in 1:p.K\n",
    "        integrals[i] = base_exp * p.phi[i] * x^(p.phi[i] - 1)\n",
    "    end\n",
    "end\n",
    "\n",
    "function get_integrals(x_vec, ρ, phi, α, k, K)\n",
    "    # Fx_vec = [F(x0)=1, F(x1), F(x2), F(x3), ..., F(xk-1)]\n",
    "    # x_vec = [x0 = 1, x1, x2, x3, ..., xk = 0]\n",
    "    # x_vec[s] = x_{s-1}, so the limits of integration are and must be offset by 1 below\n",
    "    all_integrals = zeros(K, k)\n",
    "    for s in 1:k\n",
    "        # https://docs.sciml.ai/Integrals/stable/basics/SampledIntegralProblem/ might be faster\n",
    "        # if f_integrand(x) can be vectorized/sped up\n",
    "        prob = IntegralProblem(IntegralFunction(f_integrand, zeros(K)), (x_vec[s+1], x_vec[s]), (; s, ρ, phi, α, K))\n",
    "        sol = solve(prob, CubatureJLh(); reltol = 1e-6, abstol = 1e-6)\n",
    "        integrals_result = sol.u\n",
    "        # NOTE: result may be inf if alpha_1 is too small\n",
    "        # NOTE: some parameter values for μ and σ may cause the cdf F_i to be NaN\n",
    "        for i in 1:K \n",
    "            all_integrals[i, s] = integrals_result[i]\n",
    "        end\n",
    "    end\n",
    "    return all_integrals\n",
    "end      \n",
    "\n",
    "function q(i, t, all_integrals, Fx_vec, α, v_rel, k)\n",
    "    return α[t] * sum([(1/sum(α[1:s])) * prod([v_rel[j] for j in t:(s-1)]) * exp(-Fx_vec[s] / sum(α[1:s])) * all_integrals[i, s] for s in t:k])\n",
    "end\n",
    "\n",
    "\n",
    "function f_integrand_simple(x, p) \n",
    "    base_exp = exp(F(x, p.ρ_true, p.phi_true, p.K) / sum(p.α[1:p.s]))\n",
    "    return base_exp * p.phi_i * x^(p.phi_i - 1)\n",
    "end\n",
    "\n",
    "function get_integral_row(x_vec, phi_i, phi_true, ρ_true, α, k, K)\n",
    "    all_integrals = zeros(k)\n",
    "    for s in 1:k\n",
    "        prob = IntegralProblem(f_integrand_simple, (x_vec[s+1], x_vec[s]), (; s, phi_i, phi_true, ρ_true, α, K))\n",
    "        sol = solve(prob, CubatureJLh(); reltol = 1e-6, abstol = 1e-6)\n",
    "        all_integrals[s] = sol.u\n",
    "    end\n",
    "    return all_integrals\n",
    "end\n",
    "\n",
    "function q_i(t, all_integrals, Fx_vec, α, v_rel, k)\n",
    "    return α[t] * sum([(1/sum(α[1:s])) * prod([v_rel[j] for j in t:(s-1)]) * exp(-Fx_vec[s] / sum(α[1:s])) * all_integrals[s] for s in t:k])\n",
    "end\n",
    "\n",
    "function Fx(t, α, v_rel)\n",
    "    return 1 - sum([-log(v_rel[j])*sum(α[1:j]) for j in 1:t])\n",
    "end\n",
    "\n",
    "function pi(t, α)\n",
    "    return α[t] / sum(α[1:t])\n",
    "end\n",
    "\n",
    "function ρ_q(t, α, v_rel, k)\n",
    "    Fx_km1 = Fx(k-1, α, v_rel)\n",
    "    if Fx_km1 <= 0\n",
    "        return -1\n",
    "    end\n",
    "    last_term = prod([v_rel[j] for j in t:(k-1)]) * (1 - exp((0 - Fx_km1) / sum(α[1:k])))\n",
    "    return α[t] * (sum([prod([v_rel[j] for j in t:(s-1)]) * (1 - v_rel[s]) for s in t:(k-1)]) + last_term)\n",
    "end"
   ]
  },
  {
   "cell_type": "code",
   "execution_count": 22,
   "id": "5600d6c7-0c07-45f3-9eea-0c5c64db0f83",
   "metadata": {},
   "outputs": [
    {
     "data": {
      "text/plain": [
       "estimate_parameters_stage_1 (generic function with 1 method)"
      ]
     },
     "execution_count": 22,
     "metadata": {},
     "output_type": "execute_result"
    }
   ],
   "source": [
    "function estimate_parameters_stage_1(p_vec, placements, γ, m_val, k)\n",
    "    v_rel = p_vec[1:k-1]\n",
    "    τ = p_vec[k]\n",
    "    α = τ * γ\n",
    "\n",
    "    n_val = (m_val / τ) + 1\n",
    "\n",
    "    objective = 0.0\n",
    "\n",
    "    ρ_q_t = zeros(k)\n",
    "    for t in 1:k\n",
    "        prob = ρ_q(t, α, v_rel, k)\n",
    "        if prob < 0\n",
    "            return Inf\n",
    "        end\n",
    "        ρ_q_t[t] = prob\n",
    "    end\n",
    "\n",
    "    for t in 1:k\n",
    "        prob = ρ_q_t[t]\n",
    "        expectation = n_val * prob\n",
    "        objective += ((sum(placements[:, t]) - expectation) ^ 2) / expectation\n",
    "    end\n",
    "    \n",
    "    return objective\n",
    "end"
   ]
  },
  {
   "cell_type": "code",
   "execution_count": 23,
   "id": "d6608381-4af8-407d-932c-c1524dbbb4bc",
   "metadata": {},
   "outputs": [
    {
     "name": "stdout",
     "output_type": "stream",
     "text": [
      "Starting optimization with optimizer DiffEvoOpt{FitPopulation{Float64}, RadiusLimitedSelector, BlackBoxOptim.AdaptiveDiffEvoRandBin{3}, RandomBound{ContinuousRectSearchSpace}}\n",
      "0.00 secs, 0 evals, 0 steps\n",
      "\n",
      "Optimization stopped after 1099017 steps and 1.79 seconds\n",
      "Termination reason: Max number of function evaluations (1000000) reached\n",
      "Steps per second = 615695.77\n",
      "Function evals per second = 560224.62\n",
      "Improvements/step = Inf\n",
      "Total function evaluations = 1000001\n",
      "\n",
      "\n",
      "Best candidate found: [0.512286, 0.544467, 0.734376, 0.556643]\n",
      "\n",
      "Fitness: 0.000000000\n",
      "\n"
     ]
    },
    {
     "data": {
      "text/plain": [
       "4-element Vector{Float64}:\n",
       " 0.5122856729316837\n",
       " 0.5444666789677739\n",
       " 0.7343759862308326\n",
       " 0.5566428717441424"
      ]
     },
     "execution_count": 23,
     "metadata": {},
     "output_type": "execute_result"
    }
   ],
   "source": [
    "Random.seed!(0)\n",
    "\n",
    "# upper/lower bound on v_rel\n",
    "upper_1 = [1.0 for _ in 1:k-1]\n",
    "lower_1 = [0.0 for _ in 1:k-1]\n",
    "\n",
    "# upper/lower bound on τ\n",
    "append!(upper_1, [10.0 for _ in 1:1])\n",
    "append!(lower_1, [0.25 for _ in 1:1])\n",
    "\n",
    "search_range_1 = [(lower_1[i], upper_1[i]) for i in eachindex(upper_1)]\n",
    "sol_res_1 = bboptimize(p -> estimate_parameters_stage_1(p, res.placements, estimated_γ, estimated_m_val, k), SearchRange = search_range_1, MaxFuncEvals = 1000000, TraceInterval = 5) \n",
    "# MaxTime = 60.0, MaxFuncEvals = 500000,\n",
    "sol_1 = best_candidate(sol_res_1)"
   ]
  },
  {
   "cell_type": "code",
   "execution_count": 24,
   "id": "81211f92-4ca5-46b2-b0b3-232aaa3181c9",
   "metadata": {},
   "outputs": [
    {
     "data": {
      "text/plain": [
       "0.5566428717441424"
      ]
     },
     "execution_count": 24,
     "metadata": {},
     "output_type": "execute_result"
    }
   ],
   "source": [
    "estimated_v_rel = sol_1[1:k-1]\n",
    "estimated_τ = sol_1[k]"
   ]
  },
  {
   "cell_type": "code",
   "execution_count": 25,
   "id": "a5e8f3b8-06fe-4474-b1dc-472e74860f4c",
   "metadata": {},
   "outputs": [
    {
     "name": "stdout",
     "output_type": "stream",
     "text": [
      "estimated value ratios:\n"
     ]
    },
    {
     "data": {
      "text/plain": [
       "3-element Vector{Float64}:\n",
       " 0.5122856729316837\n",
       " 0.5444666789677739\n",
       " 0.7343759862308326"
      ]
     },
     "metadata": {},
     "output_type": "display_data"
    },
    {
     "name": "stdout",
     "output_type": "stream",
     "text": [
      "\n",
      "v1: 1\n",
      "v2: 0.5122856729316837\n",
      "v3: 0.27892247902388506\n",
      "v4: 0.2048339706151143\n",
      "\n",
      "estimated market balance ratio (m / (n-1)): 0.5566428717441424\n",
      "estimated total departments: 25890.130592556892\n",
      "estimated α_t: [0.10290032685631777, 0.14040641446047863, 0.17308422096214712, 0.08822235230474092, 0.05202955716045797]\n"
     ]
    }
   ],
   "source": [
    "println(\"estimated value ratios:\")\n",
    "display(estimated_v_rel)\n",
    "println()\n",
    "estimated_v_base = 1\n",
    "for i in 1:k\n",
    "    println(\"v\", i, \": \", estimated_v_base)\n",
    "    if i != k\n",
    "        estimated_v_base = estimated_v_rel[i] * estimated_v_base\n",
    "    end\n",
    "end\n",
    "println()\n",
    "\n",
    "println(\"estimated market balance ratio (m / (n-1)): \", estimated_τ)\n",
    "\n",
    "estimated_n_val = (estimated_m_val / estimated_τ) + 1\n",
    "println(\"estimated total departments: \", estimated_n_val)\n",
    "estimated_α = estimated_τ * estimated_γ\n",
    "println(\"estimated α_t: \", estimated_α)"
   ]
  },
  {
   "cell_type": "markdown",
   "id": "66d3f5bf-410e-40b9-9e28-13c81aeb7cef",
   "metadata": {},
   "source": [
    "## 6. Estimate $\\rho_i$, $\\mu_i$ and $\\sigma_i$"
   ]
  },
  {
   "cell_type": "code",
   "execution_count": 26,
   "id": "2f5ffae0-62f5-4044-bcf7-873fe540961d",
   "metadata": {},
   "outputs": [
    {
     "data": {
      "text/plain": [
       "estimate_likelihood_2 (generic function with 1 method)"
      ]
     },
     "execution_count": 26,
     "metadata": {},
     "output_type": "execute_result"
    }
   ],
   "source": [
    "function estimate_likelihood_2(p_vec, v_rel, α, placements, k, K, counter)   \n",
    "    phi = p_vec[1:K]\n",
    "    ρ_vec = p_vec[K+1:2K]\n",
    "    ρ = ρ_vec / sum(ρ_vec)\n",
    "\n",
    "    ## compute the cutoffs x and the CDF values F(x)\n",
    "    Fx_vec = ones(k) # sets F(x0) = 1 by default; Fx_vec = [F(x0)=1, F(x1), F(x2), F(x3), ..., F(xk-1)]\n",
    "    x_vec = ones(k+1) # x_vec = [x0 = 1, x1, x2, x3, ..., xk = 0]\n",
    "    x_vec[k+1] = 0.00000001\n",
    "    for t in 1:k-1\n",
    "        Fx_vec_candidate = Fx(t, α, v_rel)\n",
    "        if Fx_vec_candidate <= 0.0 # TODO: if this case occurs, can we speed up q()?\n",
    "            Fx_vec[t+1:k] .= 0.0\n",
    "            x_vec[t+1:k] .= 0.0\n",
    "            break\n",
    "        end\n",
    "        Fx_vec[t+1] = Fx_vec_candidate\n",
    "        # there is no simple closed-form for F^{-1}(x) so this numerically computes x1, x2, x3\n",
    "        x_vec[t+1] = find_zero(x -> F(x, ρ, phi, K) - Fx_vec[t+1], (0.0, 1.0)) \n",
    "    end \n",
    "\n",
    "    ρ_q_it = zeros(K, k)\n",
    "    all_integrals = get_integrals(x_vec, ρ, phi, α, k, K)\n",
    "    for i in 1:K, t in 1:k\n",
    "        prob = q(i, t, all_integrals, Fx_vec, α, v_rel, k)\n",
    "        ρ_q_it[i, t] = ρ[i] * prob\n",
    "    end\n",
    "\n",
    "    normalizer = sum(ρ_q_it)\n",
    "    likelihood = 0.0\n",
    "    for i in 1:K, t in 1:k\n",
    "        likelihood += placements[i, t] * log(ρ_q_it[i, t] / normalizer)\n",
    "    end\n",
    "\n",
    "    counter[1] += 1\n",
    "    if isnan(-likelihood) || isinf(-likelihood)\n",
    "        println(all_integrals)\n",
    "    end\n",
    "    return -likelihood\n",
    "end"
   ]
  },
  {
   "cell_type": "code",
   "execution_count": 27,
   "id": "18cd416a-42ae-4cd7-9332-a6f7881b8964",
   "metadata": {},
   "outputs": [
    {
     "name": "stdout",
     "output_type": "stream",
     "text": [
      "Starting optimization with optimizer DiffEvoOpt{FitPopulation{Float64}, RadiusLimitedSelector, BlackBoxOptim.AdaptiveDiffEvoRandBin{3}, RandomBound{ContinuousRectSearchSpace}}\n",
      "0.00 secs, 0 evals, 0 steps\n",
      "5.00 secs, 16792 evals, 16688 steps, improv/step: 0.194 (last = 0.1936), fitness=33063.459451399\n",
      "10.00 secs, 32473 evals, 32373 steps, improv/step: 0.174 (last = 0.1522), fitness=33063.424795172\n",
      "15.00 secs, 48121 evals, 48023 steps, improv/step: 0.163 (last = 0.1404), fitness=33063.424794787\n",
      "20.00 secs, 63689 evals, 63595 steps, improv/step: 0.149 (last = 0.1054), fitness=33063.424794787\n",
      "25.01 secs, 79247 evals, 79165 steps, improv/step: 0.129 (last = 0.0479), fitness=33063.424794787\n",
      "30.01 secs, 94826 evals, 101283 steps, improv/step: 0.122 (last = 0.0996), fitness=33063.424794787\n",
      "\n",
      "Optimization stopped after 113282 steps and 31.69 seconds\n",
      "Termination reason: Max number of function evaluations (100000) reached\n",
      "Steps per second = 3574.13\n",
      "Function evals per second = 3155.10\n",
      "Improvements/step = Inf\n",
      "Total function evaluations = 100001\n",
      "\n",
      "\n",
      "Best candidate found: [10.0, 4.39829, 2.7202, 0.238635, 2.07723, 2.56187, 0.394699, 0.0637787, 0.150636, 0.263001, 0.232002, 0.189985, 0.160697, 0.986098]\n",
      "\n",
      "Fitness: 33063.424794787\n",
      "\n"
     ]
    },
    {
     "data": {
      "text/plain": [
       "14-element Vector{Float64}:\n",
       " 9.999999999948804\n",
       " 4.398285851957321\n",
       " 2.7202008600268877\n",
       " 0.23863503235387787\n",
       " 2.0772261810227945\n",
       " 2.5618692551777658\n",
       " 0.39469872767744907\n",
       " 0.06377866072324617\n",
       " 0.15063568241315142\n",
       " 0.2630011898483695\n",
       " 0.2320022405581083\n",
       " 0.18998475132671547\n",
       " 0.1606968606448836\n",
       " 0.9860983336226462"
      ]
     },
     "execution_count": 27,
     "metadata": {},
     "output_type": "execute_result"
    }
   ],
   "source": [
    "Random.seed!(0)\n",
    "\n",
    "# upper/lower bound on phi parameter of exponentiated uniform\n",
    "upper_2 = [10.0 for _ in 1:K]\n",
    "lower_2 = [0.01 for _ in 1:K]\n",
    "\n",
    "# upper/lower bound on values proportional to ρ_i\n",
    "append!(upper_2, [1.0 for _ in 1:K])\n",
    "append!(lower_2, [0.0 for _ in 1:K])\n",
    "\n",
    "counter = [0]\n",
    "\n",
    "search_range_2 = [(lower_2[i], upper_2[i]) for i in eachindex(upper_2)]\n",
    "sol_res_2 = bboptimize(p -> estimate_likelihood_2(p, estimated_v_rel, estimated_α, res.placements, k, K, counter), SearchRange = search_range_2, MaxFuncEvals = 100000, TraceInterval = 5) \n",
    "# MaxTime = 60.0, MaxFuncEvals = 500000,\n",
    "sol_2 = best_candidate(sol_res_2)"
   ]
  },
  {
   "cell_type": "code",
   "execution_count": 28,
   "id": "7b7ac185-57db-4281-b249-1c5b32217cb0",
   "metadata": {},
   "outputs": [
    {
     "data": {
      "text/plain": [
       "7-element Vector{Float64}:\n",
       " 9.999999999948804\n",
       " 4.398285851957321\n",
       " 2.7202008600268877\n",
       " 0.23863503235387787\n",
       " 2.0772261810227945\n",
       " 2.5618692551777658\n",
       " 0.39469872767744907"
      ]
     },
     "execution_count": 28,
     "metadata": {},
     "output_type": "execute_result"
    }
   ],
   "source": [
    "estimated_phi = sol_2[1:K]"
   ]
  },
  {
   "cell_type": "code",
   "execution_count": 29,
   "id": "eaca880b-49cc-443a-a873-482bd0091ba5",
   "metadata": {},
   "outputs": [
    {
     "data": {
      "text/plain": [
       "7-element Vector{Float64}:\n",
       " 0.03116935383455591\n",
       " 0.073617364052519\n",
       " 0.1285316601561245\n",
       " 0.11338212255262575\n",
       " 0.09284769968702332\n",
       " 0.0785343758044307\n",
       " 0.4819174239127208"
      ]
     },
     "execution_count": 29,
     "metadata": {},
     "output_type": "execute_result"
    }
   ],
   "source": [
    "estimated_ρ_vec = sol_2[K+1:2K]\n",
    "estimated_ρ = estimated_ρ_vec / sum(estimated_ρ_vec)"
   ]
  },
  {
   "cell_type": "code",
   "execution_count": 30,
   "id": "9112b40e-c897-4ee5-8b43-5b55d3271423",
   "metadata": {},
   "outputs": [
    {
     "data": {
      "image/png": "[encoded data removed]",
      "text/plain": [
       "Figure(<py Figure size 640x480 with 1 Axes>)"
      ]
     },
     "metadata": {},
     "output_type": "display_data"
    }
   ],
   "source": [
    "point_grid = [i for i in range(0, 1; length = 10001)]\n",
    "for select_type in 1:K\n",
    "    plot(point_grid, [x^estimated_phi[select_type] for x in point_grid], label = string(\"Type \", select_type))\n",
    "end\n",
    "\n",
    "plot(point_grid, [sum(estimated_ρ[i] * x^estimated_phi[i] for i in 1:K) for x in point_grid], label = \"F(x)\")\n",
    "\n",
    "title(\"Estimated CDFs of Types\")\n",
    "xlabel(\"offer value\")\n",
    "ylabel(\"\\$F_i\\$(offer value\\$)\\$\")\n",
    "legend();"
   ]
  },
  {
   "cell_type": "code",
   "execution_count": 31,
   "id": "2085820b-c791-4364-903b-4ed215ddafd1",
   "metadata": {},
   "outputs": [
    {
     "data": {
      "text/plain": [
       "get_q_vec_stage_3 (generic function with 1 method)"
      ]
     },
     "execution_count": 31,
     "metadata": {},
     "output_type": "execute_result"
    }
   ],
   "source": [
    "function get_q_vec_stage_3(phi_i, phi_true, ρ_true, v_rel, α, k)\n",
    "    # given F(x) and a phi_i for F_i(x), computes the success probabilities q_i^t of a tier i department\n",
    "    \n",
    "    Fx_vec = ones(k) # sets F(x0) = 1 by default; Fx_vec = [F(x0)=1, F(x1), F(x2), F(x3), ..., F(xk-1)]\n",
    "    x_vec = ones(k+1) # x_vec = [x0 = 1, x1, x2, x3, ..., xk = 0]\n",
    "    x_vec[k+1] = 0.0\n",
    "    for t in 1:k-1\n",
    "        Fx_vec_candidate = Fx(t, α, v_rel)\n",
    "        if Fx_vec_candidate <= 0.0 # TODO: if this case occurs, can we speed up q()?\n",
    "            Fx_vec[t+1:k] .= 0.0\n",
    "            x_vec[t+1:k] .= 0.0\n",
    "            break\n",
    "        end\n",
    "        Fx_vec[t+1] = Fx_vec_candidate\n",
    "        # there is no simple closed-form for F^{-1}(x) so this numerically computes x1, x2, x3\n",
    "        x_vec[t+1] = find_zero(x -> F(x, ρ_true, phi_true, K) - Fx_vec[t+1], 0.5) \n",
    "    end \n",
    "\n",
    "    all_integrals_i = get_integral_row(x_vec, phi_i, phi_true, ρ_true, α, k, K)\n",
    "    q_vec = zeros(k)\n",
    "    for t in 1:k\n",
    "        q_vec[t] = q_i(t, all_integrals_i, Fx_vec, α, v_rel, k)\n",
    "    end\n",
    "    return q_vec\n",
    "end"
   ]
  },
  {
   "cell_type": "code",
   "execution_count": 32,
   "id": "e4945b90-718e-4c0c-af28-cbdbc822bf36",
   "metadata": {},
   "outputs": [],
   "source": [
    "endpoint = 10\n",
    "num_points = 10001\n",
    "new_point_grid = [i for i in range(0.01, endpoint; length = num_points)]\n",
    "\n",
    "q_vec_grid = zeros(num_points, 4)\n",
    "for i in 1:num_points\n",
    "    q_vec_grid[i, :] = get_q_vec_stage_3(new_point_grid[i], estimated_phi, estimated_ρ, estimated_v_rel, estimated_α, k)\n",
    "end;"
   ]
  },
  {
   "cell_type": "code",
   "execution_count": 33,
   "id": "54995843-4d8d-4848-a674-bd92ecf04430",
   "metadata": {},
   "outputs": [
    {
     "data": {
      "image/png": "[encoded data removed]",
      "text/plain": [
       "Figure(<py Figure size 640x480 with 1 Axes>)"
      ]
     },
     "metadata": {},
     "output_type": "display_data"
    }
   ],
   "source": [
    "i_tier = 1\n",
    "\n",
    "for s in 1:4\n",
    "    plot(new_point_grid, [res.placements[i_tier, s] / (q_vec_grid[i, s] * estimated_n_val) for i in 1:num_points], label = \"t = $s\")\n",
    "end\n",
    "xlabel(\"phi\")\n",
    "ylabel(\"M_$(i_tier) / (n * q_$(i_tier)) = rho_$(i_tier) \")\n",
    "title(\"estimates of rho\")\n",
    "legend();"
   ]
  },
  {
   "cell_type": "code",
   "execution_count": 34,
   "id": "cc732314-ec8d-4a12-a347-2037ea2858e5",
   "metadata": {},
   "outputs": [
    {
     "data": {
      "image/png": "[encoded data removed]",
      "text/plain": [
       "Figure(<py Figure size 640x480 with 1 Axes>)"
      ]
     },
     "metadata": {},
     "output_type": "display_data"
    }
   ],
   "source": [
    "plot(new_point_grid, [sum(res.placements[i_tier, :]) / (sum(q_vec_grid[i, :]) * estimated_n_val) for i in 1:num_points], label = \"overall success\")\n",
    "plot(new_point_grid, [((res.placements[i_tier, 1] + res.placements[i_tier, 2]) / ((q_vec_grid[i, 1] + q_vec_grid[i, 2]) * estimated_n_val)) for i in 1:num_points], label = \"1, 2 success\")\n",
    "plot(new_point_grid, [((res.placements[i_tier, 3] + res.placements[i_tier, 4]) / ((q_vec_grid[i, 3] + q_vec_grid[i, 4]) * estimated_n_val)) for i in 1:num_points], label = \"3, 4 success\")\n",
    "\n",
    "xlabel(\"phi\")\n",
    "ylabel(\"M_$(i_tier) / (n * q_$(i_tier)) = rho_$(i_tier) \")\n",
    "title(\"estimates of rho\")\n",
    "legend();"
   ]
  },
  {
   "cell_type": "code",
   "execution_count": 35,
   "id": "22f3c50d-f02a-480f-b88e-64235506b3ed",
   "metadata": {},
   "outputs": [
    {
     "data": {
      "image/png": "[encoded data removed]",
      "text/plain": [
       "Figure(<py Figure size 640x480 with 1 Axes>)"
      ]
     },
     "metadata": {},
     "output_type": "display_data"
    }
   ],
   "source": [
    "plot(new_point_grid, [((q_vec_grid[i, 1]+q_vec_grid[i, 2]) / (q_vec_grid[i, 3] + q_vec_grid[i, 4])) for i in 1:num_points])\n",
    "xlabel(\"phi\")\n",
    "ylabel(\"(q_i^1 + q_i^2) / (q_i^3 + q_i^4)\")\n",
    "title(\"q_i^t ratio for uniqueness of phi_i\");"
   ]
  },
  {
   "cell_type": "code",
   "execution_count": 36,
   "id": "d96c7057-57c5-47d8-904d-7570595b0b9e",
   "metadata": {},
   "outputs": [
    {
     "data": {
      "text/plain": [
       "estimate_parameters_stage_3 (generic function with 1 method)"
      ]
     },
     "execution_count": 36,
     "metadata": {},
     "output_type": "execute_result"
    }
   ],
   "source": [
    "function find_q_ratio(phi_i, phi_true, ρ_true, v_rel, α, Fx_vec, x_vec, k, K)\n",
    "    all_integrals_i = get_integral_row(x_vec, phi_i, phi_true, ρ_true, α, k, K)\n",
    "    q_vec = zeros(k)\n",
    "    for t in 1:k\n",
    "        q_vec[t] = q_i(t, all_integrals_i, Fx_vec, α, v_rel, k)\n",
    "    end\n",
    "    return (q_vec[1] + q_vec[2]) / (q_vec[3] + q_vec[4])\n",
    "end\n",
    "\n",
    "function estimate_parameters_stage_3(phi_true, ρ_true, v_rel, α, placements, k, K, n_val)   \n",
    "    Fx_vec = ones(k) # sets F(x0) = 1 by default; Fx_vec = [F(x0)=1, F(x1), F(x2), F(x3), ..., F(xk-1)]\n",
    "    x_vec = ones(k+1) # x_vec = [x0 = 1, x1, x2, x3, ..., xk = 0]\n",
    "    x_vec[k+1] = 0.00000001\n",
    "    for t in 1:k-1\n",
    "        Fx_vec_candidate = Fx(t, α, v_rel)\n",
    "        if Fx_vec_candidate <= 0.0 # TODO: if this case occurs, can we speed up q()?\n",
    "            Fx_vec[t+1:k] .= 0.0\n",
    "            x_vec[t+1:k] .= 0.0\n",
    "            break\n",
    "        end\n",
    "        Fx_vec[t+1] = Fx_vec_candidate\n",
    "        # there is no simple closed-form for F^{-1}(x) so this numerically computes x1, x2, x3\n",
    "        x_vec[t+1] = find_zero(x -> F(x, ρ_true, phi_true, K) - Fx_vec[t+1], 0.5)\n",
    "    end \n",
    "    \n",
    "    phi_vec = zeros(K)\n",
    "    rho_vec = zeros(K)\n",
    "    for i in 1:K\n",
    "        placements_ratio = (placements[i, 1] + placements[i, 2]) / (placements[i, 3] + placements[i, 4])\n",
    "        phi_i = find_zero(phi -> find_q_ratio(phi, phi_true, ρ_true, v_rel, α, Fx_vec, x_vec, k, K) - placements_ratio, 1.0)\n",
    "        phi_vec[i] = phi_i\n",
    "        all_integrals_i = get_integral_row(x_vec, phi_i, phi_true, ρ_true, α, k, K)\n",
    "        q_sum = q_i(1, all_integrals_i, Fx_vec, α, v_rel, k) + q_i(2, all_integrals_i, Fx_vec, α, v_rel, k)\n",
    "        rho_vec[i] = (placements[i, 1] + placements[i, 2]) / (n_val * q_sum)\n",
    "    end\n",
    "    \n",
    "    return phi_vec, rho_vec\n",
    "end"
   ]
  },
  {
   "cell_type": "code",
   "execution_count": 37,
   "id": "bc3b7f7e-d97d-4415-9629-cf88077569cc",
   "metadata": {},
   "outputs": [],
   "source": [
    "validated_phi, validated_ρ = estimate_parameters_stage_3(estimated_phi, estimated_ρ, estimated_v_rel, estimated_α, res.placements, k, K, estimated_n_val);"
   ]
  },
  {
   "cell_type": "code",
   "execution_count": 38,
   "id": "1ad0f007-084a-4540-af5e-df3d856e4366",
   "metadata": {},
   "outputs": [
    {
     "data": {
      "text/plain": [
       "7-element Vector{Float64}:\n",
       " 9.999999999948804\n",
       " 4.398285851957321\n",
       " 2.7202008600268877\n",
       " 0.23863503235387787\n",
       " 2.0772261810227945\n",
       " 2.5618692551777658\n",
       " 0.39469872767744907"
      ]
     },
     "execution_count": 38,
     "metadata": {},
     "output_type": "execute_result"
    }
   ],
   "source": [
    "estimated_phi"
   ]
  },
  {
   "cell_type": "code",
   "execution_count": 39,
   "id": "c9691781-dfbe-4a8d-a016-8332a3ee45e8",
   "metadata": {},
   "outputs": [
    {
     "data": {
      "text/plain": [
       "7-element Vector{Float64}:\n",
       " 8.063418201455198\n",
       " 4.770419949720624\n",
       " 2.6666520234635414\n",
       " 0.38113224851923805\n",
       " 2.1007845940521657\n",
       " 2.420531697812708\n",
       " 0.3850589847625115"
      ]
     },
     "execution_count": 39,
     "metadata": {},
     "output_type": "execute_result"
    }
   ],
   "source": [
    "validated_phi"
   ]
  },
  {
   "cell_type": "code",
   "execution_count": 40,
   "id": "dc148b8b-ec80-48bd-b4fa-e064f3a1d908",
   "metadata": {},
   "outputs": [
    {
     "data": {
      "text/plain": [
       "7-element Vector{Float64}:\n",
       " 0.03116935383455591\n",
       " 0.073617364052519\n",
       " 0.1285316601561245\n",
       " 0.11338212255262575\n",
       " 0.09284769968702332\n",
       " 0.0785343758044307\n",
       " 0.4819174239127208"
      ]
     },
     "execution_count": 40,
     "metadata": {},
     "output_type": "execute_result"
    }
   ],
   "source": [
    "estimated_ρ"
   ]
  },
  {
   "cell_type": "code",
   "execution_count": 41,
   "id": "8555603f-ae59-45d1-8319-6b375e51837a",
   "metadata": {},
   "outputs": [
    {
     "data": {
      "text/plain": [
       "7-element Vector{Float64}:\n",
       " 0.03212369913214404\n",
       " 0.07284519185380067\n",
       " 0.12892957757964282\n",
       " 0.0973137627863556\n",
       " 0.09261177021797057\n",
       " 0.0793111851825338\n",
       " 0.48624179168407555"
      ]
     },
     "execution_count": 41,
     "metadata": {},
     "output_type": "execute_result"
    }
   ],
   "source": [
    "validated_ρ"
   ]
  },
  {
   "cell_type": "code",
   "execution_count": 42,
   "id": "d7467578-2c13-4f54-af19-5877e57cbe33",
   "metadata": {},
   "outputs": [
    {
     "data": {
      "image/png": "[encoded data removed]",
      "text/plain": [
       "Figure(<py Figure size 640x480 with 1 Axes>)"
      ]
     },
     "metadata": {},
     "output_type": "display_data"
    }
   ],
   "source": [
    "plot(point_grid, [sum(estimated_ρ[i] * x^estimated_phi[i] for i in 1:K) for x in point_grid], label = \"F(x) (MLE)\")\n",
    "plot(point_grid, [sum(validated_ρ[i] * x^validated_phi[i] for i in 1:K) for x in point_grid], label = \"F(x) (Direct)\")\n",
    "title(\"Estimated CDFs\")\n",
    "xlabel(\"offer value\")\n",
    "ylabel(\"\\$F\\$(offer value\\$)\\$\")\n",
    "legend();"
   ]
  },
  {
   "cell_type": "code",
   "execution_count": 43,
   "id": "0e8cdafa-90f4-4756-8d69-df583f26a31a",
   "metadata": {},
   "outputs": [
    {
     "data": {
      "text/plain": [
       "estimate_parameters_stage_3a (generic function with 1 method)"
      ]
     },
     "execution_count": 43,
     "metadata": {},
     "output_type": "execute_result"
    }
   ],
   "source": [
    "function minimize_q_loss(i, phi_i_vec, phi_true, ρ_true, v_rel, α, Fx_vec, x_vec, placements, n_val, k, K)\n",
    "    phi_i = phi_i_vec[1]\n",
    "    all_integrals_i = get_integral_row(x_vec, phi_i, phi_true, ρ_true, α, k, K)\n",
    "    q_vec = zeros(k)\n",
    "    rho_estimates = zeros(k)\n",
    "    for t in 1:k\n",
    "        q_vec[t] = q_i(t, all_integrals_i, Fx_vec, α, v_rel, k)\n",
    "        rho_estimates[t] = placements[i, t] / (n_val * q_vec[t])\n",
    "    end\n",
    "\n",
    "    sum_base = 0.0\n",
    "    for i in 1:k-1\n",
    "        for j in i+1:k\n",
    "            sum_base += ((rho_estimates[i] - rho_estimates[j])^2 / rho_estimates[j])\n",
    "        end\n",
    "    end\n",
    "\n",
    "    left_data = (placements[i, 1]+placements[i, 2]) / (n_val * (q_vec[1]+q_vec[2]))\n",
    "    right_data = (placements[i, 3]+placements[i, 4]) / (n_val * (q_vec[3]+q_vec[4]))\n",
    "    sum_base += ((left_data - right_data)^2 / right_data)\n",
    "    \n",
    "    return sum_base\n",
    "end\n",
    "\n",
    "function estimate_parameters_stage_3a(phi_true, ρ_true, v_rel, α, placements, k, K, n_val)   \n",
    "    Fx_vec = ones(k) # sets F(x0) = 1 by default; Fx_vec = [F(x0)=1, F(x1), F(x2), F(x3), ..., F(xk-1)]\n",
    "    x_vec = ones(k+1) # x_vec = [x0 = 1, x1, x2, x3, ..., xk = 0]\n",
    "    x_vec[k+1] = 0.00000001\n",
    "    for t in 1:k-1\n",
    "        Fx_vec_candidate = Fx(t, α, v_rel)\n",
    "        if Fx_vec_candidate <= 0.0 # TODO: if this case occurs, can we speed up q()?\n",
    "            Fx_vec[t+1:k] .= 0.0\n",
    "            x_vec[t+1:k] .= 0.0\n",
    "            break\n",
    "        end\n",
    "        Fx_vec[t+1] = Fx_vec_candidate\n",
    "        # there is no simple closed-form for F^{-1}(x) so this numerically computes x1, x2, x3\n",
    "        x_vec[t+1] = find_zero(x -> F(x, ρ_true, phi_true, K) - Fx_vec[t+1], (0.0, 1.0))\n",
    "    end \n",
    "    \n",
    "    phi_vec = zeros(K)\n",
    "    rho_vec = zeros(K)\n",
    "    for i in 1:K\n",
    "        upper_3 = [10.0]\n",
    "        lower_3 = [0.01]\n",
    "        search_range_3 = [(lower_3[i], upper_3[i]) for i in eachindex(upper_3)]\n",
    "        sol_res_3 = bboptimize(phi -> minimize_q_loss(i, phi, phi_true, ρ_true, v_rel, α, Fx_vec, x_vec, placements, n_val, k, K), SearchRange = search_range_3, MaxFuncEvals = 100000, TraceInterval = 5) \n",
    "        phi_i = best_candidate(sol_res_3)[1]\n",
    "        phi_vec[i] = phi_i\n",
    "        all_integrals_i = get_integral_row(x_vec, phi_i, phi_true, ρ_true, α, k, K)\n",
    "        q_vec = zeros(k)\n",
    "        for t in 1:k\n",
    "            q_vec[t] = q_i(t, all_integrals_i, Fx_vec, α, v_rel, k)\n",
    "        end\n",
    "        rho_vec[i] = sum(placements[i, :]) / (n_val * sum(q_vec))\n",
    "    end\n",
    "    \n",
    "    return phi_vec, rho_vec\n",
    "end"
   ]
  },
  {
   "cell_type": "code",
   "execution_count": 44,
   "id": "69eaea7b-410f-477b-9a81-8e0d48de81e3",
   "metadata": {},
   "outputs": [
    {
     "name": "stdout",
     "output_type": "stream",
     "text": [
      "Starting optimization with optimizer DiffEvoOpt{FitPopulation{Float64}, RadiusLimitedSelector, BlackBoxOptim.AdaptiveDiffEvoRandBin{3}, RandomBound{ContinuousRectSearchSpace}}\n",
      "0.00 secs, 0 evals, 0 steps\n",
      "\n",
      "Optimization stopped after 21281 steps and 0.56 seconds\n",
      "Termination reason: Too many steps (101) without any function evaluations (probably search has converged)\n",
      "Steps per second = 38206.45\n",
      "Function evals per second = 23597.84\n",
      "Improvements/step = Inf\n",
      "Total function evaluations = 13144\n",
      "\n",
      "\n",
      "Best candidate found: [7.44225]\n",
      "\n",
      "Fitness: 0.161685843\n",
      "\n",
      "Starting optimization with optimizer DiffEvoOpt{FitPopulation{Float64}, RadiusLimitedSelector, BlackBoxOptim.AdaptiveDiffEvoRandBin{3}, RandomBound{ContinuousRectSearchSpace}}\n",
      "0.00 secs, 0 evals, 0 steps\n",
      "\n",
      "Optimization stopped after 12388 steps and 0.49 seconds\n",
      "Termination reason: Too many steps (101) without any function evaluations (probably search has converged)\n",
      "Steps per second = 25385.25\n",
      "Function evals per second = 23827.87\n",
      "Improvements/step = Inf\n",
      "Total function evaluations = 11628\n",
      "\n",
      "\n",
      "Best candidate found: [3.9947]\n",
      "\n",
      "Fitness: 0.046765807\n",
      "\n",
      "Starting optimization with optimizer DiffEvoOpt{FitPopulation{Float64}, RadiusLimitedSelector, BlackBoxOptim.AdaptiveDiffEvoRandBin{3}, RandomBound{ContinuousRectSearchSpace}}\n",
      "0.00 secs, 0 evals, 0 steps\n",
      "\n",
      "Optimization stopped after 7149 steps and 0.27 seconds\n",
      "Termination reason: Too many steps (101) without any function evaluations (probably search has converged)\n",
      "Steps per second = 26675.36\n",
      "Function evals per second = 24141.78\n",
      "Improvements/step = Inf\n",
      "Total function evaluations = 6470\n",
      "\n",
      "\n",
      "Best candidate found: [3.43152]\n",
      "\n",
      "Fitness: 0.105261845\n",
      "\n",
      "Starting optimization with optimizer DiffEvoOpt{FitPopulation{Float64}, RadiusLimitedSelector, BlackBoxOptim.AdaptiveDiffEvoRandBin{3}, RandomBound{ContinuousRectSearchSpace}}\n",
      "0.00 secs, 0 evals, 0 steps\n",
      "\n",
      "Optimization stopped after 7008 steps and 1.05 seconds\n",
      "Termination reason: Too many steps (101) without any function evaluations (probably search has converged)\n",
      "Steps per second = 6661.60\n",
      "Function evals per second = 6011.41\n",
      "Improvements/step = Inf\n",
      "Total function evaluations = 6324\n",
      "\n",
      "\n",
      "Best candidate found: [0.27004]\n",
      "\n",
      "Fitness: 0.034818581\n",
      "\n",
      "Starting optimization with optimizer DiffEvoOpt{FitPopulation{Float64}, RadiusLimitedSelector, BlackBoxOptim.AdaptiveDiffEvoRandBin{3}, RandomBound{ContinuousRectSearchSpace}}\n",
      "0.00 secs, 0 evals, 0 steps\n",
      "\n",
      "Optimization stopped after 18603 steps and 0.78 seconds\n",
      "Termination reason: Too many steps (101) without any function evaluations (probably search has converged)\n",
      "Steps per second = 23942.08\n",
      "Function evals per second = 17169.88\n",
      "Improvements/step = Inf\n",
      "Total function evaluations = 13341\n",
      "\n",
      "\n",
      "Best candidate found: [2.13642]\n",
      "\n",
      "Fitness: 0.005019570\n",
      "\n",
      "Starting optimization with optimizer DiffEvoOpt{FitPopulation{Float64}, RadiusLimitedSelector, BlackBoxOptim.AdaptiveDiffEvoRandBin{3}, RandomBound{ContinuousRectSearchSpace}}\n",
      "0.00 secs, 0 evals, 0 steps\n",
      "\n",
      "Optimization stopped after 6638 steps and 0.30 seconds\n",
      "Termination reason: Too many steps (101) without any function evaluations (probably search has converged)\n",
      "Steps per second = 21980.13\n",
      "Function evals per second = 19109.27\n",
      "Improvements/step = Inf\n",
      "Total function evaluations = 5771\n",
      "\n",
      "\n",
      "Best candidate found: [2.53318]\n",
      "\n",
      "Fitness: 0.015673872\n",
      "\n",
      "Starting optimization with optimizer DiffEvoOpt{FitPopulation{Float64}, RadiusLimitedSelector, BlackBoxOptim.AdaptiveDiffEvoRandBin{3}, RandomBound{ContinuousRectSearchSpace}}\n",
      "0.00 secs, 0 evals, 0 steps\n",
      "\n",
      "Optimization stopped after 8337 steps and 1.16 seconds\n",
      "Termination reason: Too many steps (101) without any function evaluations (probably search has converged)\n",
      "Steps per second = 7156.22\n",
      "Function evals per second = 6174.25\n",
      "Improvements/step = Inf\n",
      "Total function evaluations = 7193\n",
      "\n",
      "\n",
      "Best candidate found: [0.377874]\n",
      "\n",
      "Fitness: 0.001147284\n",
      "\n"
     ]
    }
   ],
   "source": [
    "validated_phi_2, validated_ρ_2 = estimate_parameters_stage_3a(estimated_phi, estimated_ρ, estimated_v_rel, estimated_α, res.placements, k, K, estimated_n_val);"
   ]
  },
  {
   "cell_type": "code",
   "execution_count": 45,
   "id": "d7a4f53a-9217-413b-9c4e-eaa9d38addc6",
   "metadata": {},
   "outputs": [
    {
     "data": {
      "text/plain": [
       "7-element Vector{Float64}:\n",
       " 9.999999999948804\n",
       " 4.398285851957321\n",
       " 2.7202008600268877\n",
       " 0.23863503235387787\n",
       " 2.0772261810227945\n",
       " 2.5618692551777658\n",
       " 0.39469872767744907"
      ]
     },
     "execution_count": 45,
     "metadata": {},
     "output_type": "execute_result"
    }
   ],
   "source": [
    "estimated_phi"
   ]
  },
  {
   "cell_type": "code",
   "execution_count": 46,
   "id": "7717260a-d7e7-4fa3-aa5a-92ab5dc96189",
   "metadata": {},
   "outputs": [
    {
     "data": {
      "text/plain": [
       "7-element Vector{Float64}:\n",
       " 8.063418201455198\n",
       " 4.770419949720624\n",
       " 2.6666520234635414\n",
       " 0.38113224851923805\n",
       " 2.1007845940521657\n",
       " 2.420531697812708\n",
       " 0.3850589847625115"
      ]
     },
     "execution_count": 46,
     "metadata": {},
     "output_type": "execute_result"
    }
   ],
   "source": [
    "validated_phi"
   ]
  },
  {
   "cell_type": "code",
   "execution_count": 47,
   "id": "77facc8c-2d98-4c06-a3ac-160e3d3b6f0c",
   "metadata": {},
   "outputs": [
    {
     "data": {
      "text/plain": [
       "7-element Vector{Float64}:\n",
       " 7.4422478487829675\n",
       " 3.994698466645081\n",
       " 3.4315240446182877\n",
       " 0.2700399883831575\n",
       " 2.136422520259625\n",
       " 2.533182696399452\n",
       " 0.37787368761960477"
      ]
     },
     "execution_count": 47,
     "metadata": {},
     "output_type": "execute_result"
    }
   ],
   "source": [
    "validated_phi_2"
   ]
  },
  {
   "cell_type": "code",
   "execution_count": 48,
   "id": "4a696a9d-6cbd-42e6-ab86-ab7a07a13cc4",
   "metadata": {},
   "outputs": [
    {
     "data": {
      "text/plain": [
       "7-element Vector{Float64}:\n",
       " 0.03116935383455591\n",
       " 0.073617364052519\n",
       " 0.1285316601561245\n",
       " 0.11338212255262575\n",
       " 0.09284769968702332\n",
       " 0.0785343758044307\n",
       " 0.4819174239127208"
      ]
     },
     "execution_count": 48,
     "metadata": {},
     "output_type": "execute_result"
    }
   ],
   "source": [
    "estimated_ρ"
   ]
  },
  {
   "cell_type": "code",
   "execution_count": 49,
   "id": "db722219-1bc4-47ad-a59e-d73bdb06fc58",
   "metadata": {},
   "outputs": [
    {
     "data": {
      "text/plain": [
       "7-element Vector{Float64}:\n",
       " 0.03212369913214404\n",
       " 0.07284519185380067\n",
       " 0.12892957757964282\n",
       " 0.0973137627863556\n",
       " 0.09261177021797057\n",
       " 0.0793111851825338\n",
       " 0.48624179168407555"
      ]
     },
     "execution_count": 49,
     "metadata": {},
     "output_type": "execute_result"
    }
   ],
   "source": [
    "validated_ρ"
   ]
  },
  {
   "cell_type": "code",
   "execution_count": 50,
   "id": "75e12f5f-c9c5-4f43-822d-2854adafb317",
   "metadata": {},
   "outputs": [
    {
     "data": {
      "text/plain": [
       "7-element Vector{Float64}:\n",
       " 0.03242837804336209\n",
       " 0.0746216897529523\n",
       " 0.12375518948881438\n",
       " 0.10888814150899585\n",
       " 0.09230855873695466\n",
       " 0.07866387740944485\n",
       " 0.48917612250370995"
      ]
     },
     "execution_count": 50,
     "metadata": {},
     "output_type": "execute_result"
    }
   ],
   "source": [
    "validated_ρ_2"
   ]
  },
  {
   "cell_type": "code",
   "execution_count": 51,
   "id": "2e1885cc-1bd1-4ad1-9c75-710c80c012c7",
   "metadata": {},
   "outputs": [
    {
     "data": {
      "image/png": "[encoded data removed]",
      "text/plain": [
       "Figure(<py Figure size 640x480 with 1 Axes>)"
      ]
     },
     "metadata": {},
     "output_type": "display_data"
    }
   ],
   "source": [
    "plot(point_grid, [sum(estimated_ρ[i] * x^estimated_phi[i] for i in 1:K) for x in point_grid], label = \"F(x) (MLE)\")\n",
    "plot(point_grid, [sum(validated_ρ[i] * x^validated_phi[i] for i in 1:K) for x in point_grid], label = \"F(x) (Direct Partition)\")\n",
    "plot(point_grid, [sum(validated_ρ_2[i] * x^validated_phi_2[i] for i in 1:K) for x in point_grid], label = \"F(x) (Direct Best Fit)\")\n",
    "title(\"Estimated CDFs\")\n",
    "xlabel(\"offer value\")\n",
    "ylabel(\"\\$F\\$(offer value\\$)\\$\")\n",
    "legend();"
   ]
  }
 ],
 "metadata": {
  "kernelspec": {
   "display_name": "Julia 1.11.1",
   "language": "julia",
   "name": "julia-1.11"
  },
  "language_info": {
   "file_extension": ".jl",
   "mimetype": "application/julia",
   "name": "julia",
   "version": "1.11.1"
  }
 },
 "nbformat": 4,
 "nbformat_minor": 5
}
