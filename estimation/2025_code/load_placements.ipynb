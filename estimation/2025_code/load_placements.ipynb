{
 "cells": [
  {
   "cell_type": "markdown",
   "metadata": {},
   "source": [
    "# Placement Outcome Processor"
   ]
  },
  {
   "cell_type": "code",
   "execution_count": 1,
   "metadata": {},
   "outputs": [
    {
     "name": "stderr",
     "output_type": "stream",
     "text": [
      "\u001b[32m\u001b[1m  Activating\u001b[22m\u001b[39m project at `C:\\Users\\jbrig\\Documents\\research\\mapinator_2024\\notes\\december_presentation`\n"
     ]
    }
   ],
   "source": [
    "using Pkg\n",
    "Pkg.activate(\".\")\n",
    "# for pkg in [\"HTTP\", \"JSON\", \"Distributions\", \"Random\", \"PrettyTables\"]\n",
    "#     Pkg.add(pkg)\n",
    "# end\n",
    "Pkg.instantiate()"
   ]
  },
  {
   "cell_type": "code",
   "execution_count": 2,
   "metadata": {},
   "outputs": [
    {
     "data": {
      "text/plain": [
       "1"
      ]
     },
     "execution_count": 2,
     "metadata": {},
     "output_type": "execute_result"
    }
   ],
   "source": [
    "\"\"\"\n",
    "SBM API Data Filter (Julia Version)\n",
    "Adapted from James Yuming Yu (5 June 2023)\n",
    "\n",
    "Silas Kwok, 31 July 2023\n",
    "\n",
    "Adapted and modified for use with full estimation by James Yu, 17 September 2023\n",
    "Updated by James Yu, 19 November 2024, 16 December 2024\n",
    "\"\"\"\n",
    "\n",
    "using HTTP, JSON\n",
    "DEBUG_LEVEL = 1"
   ]
  },
  {
   "cell_type": "code",
   "execution_count": 3,
   "metadata": {},
   "outputs": [
    {
     "data": {
      "text/plain": [
       "matches (generic function with 1 method)"
      ]
     },
     "execution_count": 3,
     "metadata": {},
     "output_type": "execute_result"
    }
   ],
   "source": [
    "function matches(keywords, phrase)\n",
    "    # checks if any of the keywords are in the phrase\n",
    "    for keyword in keywords\n",
    "        if occursin(keyword, phrase)\n",
    "            return true\n",
    "        end\n",
    "    end\n",
    "    return false\n",
    "end"
   ]
  },
  {
   "cell_type": "markdown",
   "metadata": {},
   "source": [
    "### STEP 1a\n",
    "Retrieve the placement outcomes."
   ]
  },
  {
   "cell_type": "code",
   "execution_count": 4,
   "metadata": {},
   "outputs": [
    {
     "data": {
      "text/plain": [
       "29915-element Vector{Any}:\n",
       " Dict{String, Any}(\"disappeared\" => 0, \"to_shortname\" => \"Bates White\", \"created_at\" => \"2024-06-06 11:33:28\", \"to_name\" => \"Bates White\", \"to_department\" => \"All departments\", \"to_latitude\" => 38.9030567, \"name\" => \"Econometrics\", \"category_id\" => 2, \"from_shortname\" => \"Economics, UCLA\", \"to_oid\" => 3070…)\n",
       " Dict{String, Any}(\"disappeared\" => 1, \"to_shortname\" => \"Ocean and Crow Studios Inc\", \"created_at\" => \"2024-06-27 10:14:19\", \"to_name\" => \"Ocean and Crow Studios Inc\", \"to_department\" => \"All departments\", \"to_latitude\" => 49.2714425, \"name\" => \"Health; Education; Welfare\", \"category_id\" => 20, \"from_shortname\" => \"Economics, UCLA\", \"to_oid\" => 893…)\n",
       " Dict{String, Any}(\"disappeared\" => 0, \"to_shortname\" => \"App Econ, U Autònoma Barcelona\", \"created_at\" => \"2024-07-04 19:30:12\", \"to_name\" => \"Universitat Autònoma de Barcelona\", \"to_department\" => \"Department of Applied Economics\", \"to_latitude\" => 41.50174815758906, \"name\" => \"Labor; Demographic Economics\", \"category_id\" => 10, \"from_shortname\" => \"Economics, UCLA\", \"to_oid\" => 239…)\n",
       " Dict{String, Any}(\"disappeared\" => 0, \"to_shortname\" => \"Soc Sci, US Mil Acad Westpoint\", \"created_at\" => \"2024-07-04 19:28:24\", \"to_name\" => \"United States Military Academy at West Point\", \"to_department\" => \"Social Sciences\", \"to_latitude\" => 41.3889095, \"name\" => \"Labor; Demographic Economics\", \"category_id\" => 10, \"from_shortname\" => \"Economics, UCLA\", \"to_oid\" => 5274…)\n",
       " Dict{String, Any}(\"disappeared\" => 0, \"to_shortname\" => \"Economics, Texas A&M University\", \"created_at\" => \"2024-07-04 19:27:35\", \"to_name\" => \"Texas A&M University, College Station\", \"to_department\" => \"Economics\", \"to_latitude\" => 30.5975452, \"name\" => \"Econometrics\", \"category_id\" => 2, \"from_shortname\" => \"Economics, UCLA\", \"to_oid\" => 596…)\n",
       " Dict{String, Any}(\"disappeared\" => 0, \"to_shortname\" => \"Economics, U at Buffalo\", \"created_at\" => \"2024-06-11 18:31:51\", \"to_name\" => \"University at Buffalo\", \"to_department\" => \"Economics\", \"to_latitude\" => 43.0008093, \"name\" => \"Labor; Demographic Economics\", \"category_id\" => 10, \"from_shortname\" => \"Economics, UCLA\", \"to_oid\" => 1756…)\n",
       " Dict{String, Any}(\"disappeared\" => 0, \"to_shortname\" => \"Economics, U. of Tübingen\", \"created_at\" => \"2024-06-11 18:32:45\", \"to_name\" => \"University of Tübingen\", \"to_department\" => \"Department of Economics\", \"to_latitude\" => 48.5293102, \"name\" => \"Labor; Demographic Economics\", \"category_id\" => 10, \"from_shortname\" => \"Economics, UCLA\", \"to_oid\" => 1719…)\n",
       " Dict{String, Any}(\"disappeared\" => 0, \"to_shortname\" => \"Business Sch, U Rochester\", \"created_at\" => \"2024-05-27 11:25:47\", \"to_name\" => \"University of Rochester\", \"to_department\" => \"Simon Business School\", \"to_latitude\" => 43.12700983838306, \"name\" => \"Theory\", \"category_id\" => 15, \"from_shortname\" => \"Economics, UCLA\", \"to_oid\" => 189…)\n",
       " Dict{String, Any}(\"disappeared\" => 0, \"to_shortname\" => \"Economics, Southern Methodist U\", \"created_at\" => \"2024-05-27 11:26:23\", \"to_name\" => \"Southern Methodist University\", \"to_department\" => \"Economics\", \"to_latitude\" => 32.843554915782555, \"name\" => \"Theory\", \"category_id\" => 15, \"from_shortname\" => \"Economics, UCLA\", \"to_oid\" => 459…)\n",
       " Dict{String, Any}(\"disappeared\" => 0, \"to_shortname\" => \"Financial Research, US Treasury\", \"created_at\" => \"2024-05-27 11:24:04\", \"to_name\" => \"U.S. Department of the Treasury\", \"to_department\" => \"Office of Financial Research\", \"to_latitude\" => 39.154508, \"name\" => \"Health; Education; Welfare\", \"category_id\" => 20, \"from_shortname\" => \"Economics, UCLA\", \"to_oid\" => 1005…)\n",
       " Dict{String, Any}(\"disappeared\" => 0, \"to_shortname\" => \"Ocean and Crow Studios Inc\", \"created_at\" => \"2024-05-27 11:19:51\", \"to_name\" => \"Ocean and Crow Studios Inc\", \"to_department\" => \"All departments\", \"to_latitude\" => 49.2714425, \"name\" => \"Industrial Organization\", \"category_id\" => 7, \"from_shortname\" => \"Economics, UCLA\", \"to_oid\" => 893…)\n",
       " Dict{String, Any}(\"disappeared\" => 0, \"to_shortname\" => \"Financial Research, US Treasury\", \"created_at\" => \"2024-05-27 11:14:13\", \"to_name\" => \"U.S. Department of the Treasury\", \"to_department\" => \"Office of Financial Research\", \"to_latitude\" => 39.154508, \"name\" => \"Finance\", \"category_id\" => 6, \"from_shortname\" => \"Economics, UCLA\", \"to_oid\" => 1005…)\n",
       " Dict{String, Any}(\"disappeared\" => 0, \"to_shortname\" => \"School of Economics, Nankai Univ\", \"created_at\" => \"2024-05-27 11:10:46\", \"to_name\" => \"Nankai University\", \"to_department\" => \"School of Economics\", \"to_latitude\" => 39.103276, \"name\" => \"Econometrics\", \"category_id\" => 2, \"from_shortname\" => \"Economics, UCLA\", \"to_oid\" => 1488…)\n",
       " ⋮\n",
       " Dict{String, Any}(\"disappeared\" => 1, \"to_shortname\" => \"Ocean and Crow Studios Inc\", \"created_at\" => \"2024-06-24 18:54:53\", \"to_name\" => \"Ocean and Crow Studios Inc\", \"to_department\" => \"All departments\", \"to_latitude\" => 49.2714425, \"name\" => \"Marketing\", \"category_id\" => 30, \"from_shortname\" => \"Ag Econ, Hugarian U Ag & Life Sc\", \"to_oid\" => 893…)\n",
       " Dict{String, Any}(\"disappeared\" => 1, \"to_shortname\" => \"Ocean and Crow Studios Inc\", \"created_at\" => \"2024-06-24 18:54:28\", \"to_name\" => \"Ocean and Crow Studios Inc\", \"to_department\" => \"All departments\", \"to_latitude\" => 49.2714425, \"name\" => \"Finance\", \"category_id\" => 6, \"from_shortname\" => \"Ag Econ, Hugarian U Ag & Life Sc\", \"to_oid\" => 893…)\n",
       " Dict{String, Any}(\"disappeared\" => 0, \"to_shortname\" => \"Ocean and Crow Studios Inc\", \"created_at\" => \"2024-06-04 16:32:07\", \"to_name\" => \"Ocean and Crow Studios Inc\", \"to_department\" => \"All departments\", \"to_latitude\" => 49.2714425, \"name\" => \"Business Economics\", \"category_id\" => 21, \"from_shortname\" => \"Ag Econ, Hugarian U Ag & Life Sc\", \"to_oid\" => 893…)\n",
       " Dict{String, Any}(\"disappeared\" => 0, \"to_shortname\" => \"Economics, Corvinus U Budapest\", \"created_at\" => \"2024-06-04 16:32:40\", \"to_name\" => \"Corvinus University of Budapest\", \"to_department\" => \"Institute of Economics\", \"to_latitude\" => 47.486226505810464, \"name\" => \"Business Economics\", \"category_id\" => 21, \"from_shortname\" => \"Ag Econ, Hugarian U Ag & Life Sc\", \"to_oid\" => 4499…)\n",
       " Dict{String, Any}(\"disappeared\" => 0, \"to_shortname\" => \"Oil and Gas Development Company\", \"created_at\" => \"2024-06-12 14:49:51\", \"to_name\" => \"Oil and Gas Development Company Limited, Pakistan\", \"to_department\" => \"All departments\", \"to_latitude\" => nothing, \"name\" => \"Industrial Organization\", \"category_id\" => 7, \"from_shortname\" => \"Ind Eng, U Eng & Tech Peshawar\", \"to_oid\" => 12694…)\n",
       " Dict{String, Any}(\"disappeared\" => 0, \"to_shortname\" => \"Economics, Epoka University\", \"created_at\" => \"2024-07-02 14:07:34\", \"to_name\" => \"Epoka University\", \"to_department\" => \"Faculty of Economic and Administrative Sciences\", \"to_latitude\" => nothing, \"name\" => \"Management, General\", \"category_id\" => 27, \"from_shortname\" => \"Management, Nat Taiwan U Sci Tec\", \"to_oid\" => 5226…)\n",
       " Dict{String, Any}(\"disappeared\" => 0, \"to_shortname\" => \"Indian Institute of Management R\", \"created_at\" => \"2024-06-27 10:12:53\", \"to_name\" => \"Indian Institute of Management Ranchi\", \"to_department\" => \"All departments\", \"to_latitude\" => nothing, \"name\" => \"Development; Growth\", \"category_id\" => 1, \"from_shortname\" => \"Lib Arts, Ind Inst Tec Hyderabad\", \"to_oid\" => 6262…)\n",
       " Dict{String, Any}(\"disappeared\" => 0, \"to_shortname\" => \"Agribus & Rural Mgmt, IGK Vishwa\", \"created_at\" => \"2024-06-16 15:42:57\", \"to_name\" => \"Indira Gandhi Krishi Vishwavidyalaya\", \"to_department\" => \"Department of Agribusiness and Rural Management\", \"to_latitude\" => nothing, \"name\" => \"Urban; Rural; Regional Economics\", \"category_id\" => 19, \"from_shortname\" => \"Agribus & Rural Mgmt, IGK Vishwa\", \"to_oid\" => 12925…)\n",
       " Dict{String, Any}(\"disappeared\" => 0, \"to_shortname\" => \"Economics & Bus, U Mpumalanga\", \"created_at\" => \"2024-07-23 15:41:48\", \"to_name\" => \"University of Mpumalanga\", \"to_department\" => \"Faculty of Economics, Development and Business Sciences\", \"to_latitude\" => nothing, \"name\" => \"Macroeconomics; Monetary\", \"category_id\" => 12, \"from_shortname\" => \"Economics, North West University\", \"to_oid\" => 13027…)\n",
       " Dict{String, Any}(\"disappeared\" => 0, \"to_shortname\" => \"Ocean and Crow Studios Inc\", \"created_at\" => \"2021-07-02 15:56:12\", \"to_name\" => \"Ocean and Crow Studios Inc\", \"to_department\" => \"All departments\", \"to_latitude\" => 49.2714425, \"name\" => \"Macroeconomics; Monetary\", \"category_id\" => 12, \"from_shortname\" => \"Economic, U Sistan & Baluchestan\", \"to_oid\" => 893…)\n",
       " Dict{String, Any}(\"disappeared\" => 0, \"to_shortname\" => \"Economics, U Cheikh Anta Diop\", \"created_at\" => \"2024-06-25 12:06:43\", \"to_name\" => \"University Cheikh Anta Diop\", \"to_department\" => \"Science Economiques et de Gestion\", \"to_latitude\" => nothing, \"name\" => \"Finance\", \"category_id\" => 6, \"from_shortname\" => \"Economics, U Cheikh Anta Diop\", \"to_oid\" => 13088…)\n",
       " Dict{String, Any}(\"disappeared\" => 0, \"to_shortname\" => \"Accra Institute of Technology\", \"created_at\" => \"2024-06-23 13:47:05\", \"to_name\" => \"Accra Institute of Technology\", \"to_department\" => \"All departments\", \"to_latitude\" => nothing, \"name\" => \"Business Economics\", \"category_id\" => 21, \"from_shortname\" => \"Accra Institute of Technology\", \"to_oid\" => 13198…)"
      ]
     },
     "execution_count": 4,
     "metadata": {},
     "output_type": "execute_result"
    }
   ],
   "source": [
    "# NOTE: request times out after 120 seconds. If the data takes longer than 120s to download, adjust the timeout.\n",
    "placements = nothing\n",
    "try\n",
    "    mapinator_data = HTTP.get(\"https://support.econjobmarket.org/api/mapinator\", timeout = 120)\n",
    "    placements = JSON.parse(String(mapinator_data.body))\n",
    "catch e\n",
    "    error(\"Failed to retrieve data from the API: $e\")\n",
    "end"
   ]
  },
  {
   "cell_type": "markdown",
   "metadata": {},
   "source": [
    "### STEP 1b\n",
    "Group placements by applicant ID and eliminate \"oid 893\" positions (Ocean and Crow)."
   ]
  },
  {
   "cell_type": "code",
   "execution_count": 5,
   "metadata": {},
   "outputs": [
    {
     "name": "stdout",
     "output_type": "stream",
     "text": [
      "  29915 total placement outcomes\n",
      "\n",
      "  21224 total applicants with placements\n"
     ]
    }
   ],
   "source": [
    "# TODO: are the json fields strictly typed? is there a way to easily compensate if the variable types change?\n",
    "\n",
    "applicant_outcomes = Dict{Any, Vector}()\n",
    "applicant_ids = Set{Any}()\n",
    "num_outcomes_selected = 0\n",
    "\n",
    "for outcome in placements\n",
    "    push!(applicant_ids, outcome[\"aid\"])\n",
    "    #if outcome[\"to_oid\"] != 893\n",
    "    push!(get!(applicant_outcomes, outcome[\"aid\"], Vector()), outcome)\n",
    "    num_outcomes_selected += 1\n",
    "    #else\n",
    "    #    if parse(Int, split(outcome[\"startdate\"], \"-\")[1]) <= MAX_893_YEAR\n",
    "    #        push!(get!(applicant_outcomes, outcome[\"aid\"], Vector()), outcome)\n",
    "    #        num_outcomes_selected += 1\n",
    "             #push!(get!(oid_893_outcomes, outcome[\"aid\"], Vector()), outcome)\n",
    "    #    end\n",
    "    #end\n",
    "end\n",
    "\n",
    "if DEBUG_LEVEL > 0\n",
    "    println(\"  \", length(placements), \" total placement outcomes\")\n",
    "    #println(\"  -\", length(placements) - num_outcomes_selected, \" outcomes at Ocean and Crow after $MAX_893_YEAR\")\n",
    "    #println(\"  \", num_outcomes_selected, \" remaining outcomes\")\n",
    "    println()\n",
    "    println(\"  \", length(applicant_ids), \" total applicants with placements\")\n",
    "    #println(\"  -\", length(applicant_ids) - length(applicant_outcomes), \" total applicants with exclusively outcomes at Ocean and Crow after $MAX_893_YEAR\")\n",
    "    #println(\"  \", length(applicant_outcomes), \" remaining applicants\")\n",
    "end"
   ]
  },
  {
   "cell_type": "markdown",
   "metadata": {},
   "source": [
    "### STEP 2a\n",
    "Determine the first placement outcome of each individual that occurred after the individual graduated.\\\n",
    "We need to know what the first outcome is BEFORE we filter on types of outcomes, as otherwise we will get incorrectly-identified \"first-time positions\"."
   ]
  },
  {
   "cell_type": "markdown",
   "metadata": {},
   "source": [
    "### STEP 2b\n",
    "Remove postdoc outcomes so applicants with postdoc positions aren't automatically removed from the data.\\\n",
    "Postdocs are concurrent so the placements are redundant on top of e.g. concurrently-awarded assistant professor positions."
   ]
  },
  {
   "cell_type": "code",
   "execution_count": 6,
   "metadata": {},
   "outputs": [
    {
     "name": "stdout",
     "output_type": "stream",
     "text": [
      "  -2244 total applicants removed due to only being postdocs (4425 total postdoc placements detected)\n",
      "  18980 applicants remaining\n",
      "\n"
     ]
    }
   ],
   "source": [
    "postdoc_counter = 0\n",
    "finalized_applicant_outcomes = Dict{Any, Any}()\n",
    "\n",
    "# TODO: if an applicant received an assistant professor position starting two years from now, \n",
    "# but received a lower-tier position immediately at the same time, \n",
    "# what would their position received on the job market be?\n",
    "\n",
    "for applicant_id in keys(applicant_outcomes)\n",
    "    for outcome in applicant_outcomes[applicant_id]\n",
    "        # if you wish to display postdocs in the sinks, remove the if statement condition \n",
    "        #   and set Post-Doc to have higher priority than Assistant Professor below\n",
    "        # alternatively, to only include postdocs in the sinks that did not receive professorships,\n",
    "        #   do not alter the below code, and instead conduct a second pass \n",
    "        #   to fill in postdoc outcomes for individuals with no professorships\n",
    "        if outcome[\"position_name\"] != \"Post-Doc\"\n",
    "            if !haskey(finalized_applicant_outcomes, applicant_id)\n",
    "                # just add the outcome if the applicant doesn't have any yet\n",
    "                finalized_applicant_outcomes[applicant_id] = outcome\n",
    "            else\n",
    "                # otherwise, the applicant does have at least one other outcome\n",
    "                if outcome[\"startdate\"] < finalized_applicant_outcomes[applicant_id][\"startdate\"]\n",
    "                    # take the earliest outcome of the two and ignore the other\n",
    "                    finalized_applicant_outcomes[applicant_id] = outcome\n",
    "                elseif outcome[\"startdate\"] == finalized_applicant_outcomes[applicant_id][\"startdate\"]\n",
    "                    # sometimes we may have multiple outcomes that started on the same date - follow priority listing\n",
    "\n",
    "                    # case 1: existing outcome is 893 and new outcome is not 893. use new outcome.\n",
    "                    if ((finalized_applicant_outcomes[applicant_id][\"to_oid\"] == 893) && (outcome[\"to_oid\"] != 893))\n",
    "                        finalized_applicant_outcomes[applicant_id] = outcome\n",
    "                    # case 2: existing outcome is 893 and new outcome is 893. compare using priority listing.\n",
    "                    # case 3: existing outcome is not 893 and new outcome is not 893. compare using priority listing.\n",
    "                    elseif !((finalized_applicant_outcomes[applicant_id][\"to_oid\"] != 893) && (outcome[\"to_oid\"] == 893))\n",
    "                        if outcome[\"position_name\"] in [\"Assistant Professor\"]\n",
    "                            finalized_applicant_outcomes[applicant_id] = outcome\n",
    "                        elseif outcome[\"position_name\"] in [\"Consultant\"] && !(finalized_applicant_outcomes[applicant_id][\"position_name\"] in [\"Assistant Professor\"])\n",
    "                            finalized_applicant_outcomes[applicant_id] = outcome\n",
    "                        elseif outcome[\"position_name\"] in [\"Other Academic\", \"Other Non-Academic\", \"Lecturer\"] && !(finalized_applicant_outcomes[applicant_id][\"position_name\"] in [\"Assistant Professor\", \"Consultant\"])\n",
    "                            finalized_applicant_outcomes[applicant_id] = outcome\n",
    "                        end\n",
    "                    end\n",
    "                    # case 4: existing outcome is not 893 and new outcome is 893. use existing outcome (do nothing)\n",
    "                end\n",
    "            end\n",
    "        else\n",
    "            postdoc_counter += 1\n",
    "        end\n",
    "    end\n",
    "end\n",
    "\n",
    "if DEBUG_LEVEL > 0\n",
    "    println(\"  -\", length(applicant_outcomes) - length(finalized_applicant_outcomes), \" total applicants removed due to only being postdocs (\", \n",
    "        postdoc_counter, \" total postdoc placements detected)\")\n",
    "    println(\"  \", length(finalized_applicant_outcomes), \" applicants remaining\")\n",
    "    println()\n",
    "end"
   ]
  },
  {
   "cell_type": "markdown",
   "metadata": {},
   "source": [
    "### STEP 3\n",
    "Eliminate everything except:\n",
    "- Assistant Professor\n",
    "- Consultant\n",
    "- Other Academic\n",
    "- Other Non-Academic\n",
    "- Lecturer"
   ]
  },
  {
   "cell_type": "code",
   "execution_count": 7,
   "metadata": {},
   "outputs": [
    {
     "name": "stdout",
     "output_type": "stream",
     "text": [
      "  -1121 irrelevant applicants removed from the following classes of positions:\n",
      "Set(Any[\"Tenured Professor\", \"Untenured Professor\", \"Associate Professor\", \"Assistant, Associate or Full Professor\", \"Professor Any Level\", \"Full Professor\", \"Temporary Lecturer\", \"Visiting Professor/Lecturer/Instructor\", \"Assistant or Associate Professor\"])\n",
      "  17859 applicants remaining after irrelevant-position applicants removed\n",
      "\n",
      "67 applicants with initial placements in 893\n",
      "\n",
      "Dict{Any, Int64}(\"Other Non-Academic\" => 2948, \"Consultant\" => 519, \"Other Academic\" => 1486, \"Assistant Professor\" => 8756, \"Lecturer\" => 1033) 14742 total regular\n",
      "Dict{Any, Int64}(\"Tenured Professor\" => 1, \"Associate Professor\" => 17, \"Assistant, Associate or Full Professor\" => 1, \"Other Non-Academic\" => 1108, \"Assistant Professor\" => 1485, \"Full Professor\" => 4, \"Other Academic\" => 187, \"Professor Any Level\" => 18, \"Temporary Lecturer\" => 4, \"Consultant\" => 176, \"Assistant or Associate Professor\" => 2, \"Visiting Professor/Lecturer/Instructor\" => 20, \"Lecturer\" => 94) 3117 total 893\n"
     ]
    }
   ],
   "source": [
    "# add \"Lecturer\" if adjusting sinks later on\n",
    "valid_labels = Set([\"Assistant Professor\", \"Consultant\", \"Other Academic\", \"Other Non-Academic\", \"Lecturer\"])\n",
    "irrelevant_counter = 0\n",
    "removed_labels = Set()\n",
    "\n",
    "# do not eliminate 893 positions\n",
    "included_893 = 0\n",
    "for applicant_id in copy(keys(finalized_applicant_outcomes))\n",
    "    outcome = finalized_applicant_outcomes[applicant_id]\n",
    "    if !(outcome[\"position_name\"] in valid_labels)\n",
    "        if outcome[\"to_oid\"] != 893\n",
    "            push!(removed_labels, outcome[\"position_name\"])\n",
    "            delete!(finalized_applicant_outcomes, applicant_id)\n",
    "            irrelevant_counter += 1\n",
    "        else\n",
    "            included_893 += 1\n",
    "        end\n",
    "    end\n",
    "end\n",
    "\n",
    "if DEBUG_LEVEL > 0\n",
    "    println(\"  -\", irrelevant_counter, \" irrelevant applicants removed from the following classes of positions:\")\n",
    "    println(removed_labels)\n",
    "    println(\"  \", length(finalized_applicant_outcomes), \" applicants remaining after irrelevant-position applicants removed\")\n",
    "    maintained_labels = Dict{Any, Int}()\n",
    "    oid_893_labels = Dict{Any, Int}()\n",
    "    for applicant_id in keys(finalized_applicant_outcomes)\n",
    "        outcome = finalized_applicant_outcomes[applicant_id]\n",
    "        position_name = outcome[\"position_name\"]\n",
    "        if outcome[\"to_oid\"] != 893\n",
    "            if haskey(maintained_labels, position_name)\n",
    "                maintained_labels[position_name] += 1\n",
    "            else\n",
    "                maintained_labels[position_name] = 1\n",
    "            end\n",
    "        else\n",
    "            if haskey(oid_893_labels, position_name)\n",
    "                oid_893_labels[position_name] += 1\n",
    "            else\n",
    "                oid_893_labels[position_name] = 1\n",
    "            end\n",
    "        end\n",
    "    end\n",
    "    println()\n",
    "    println(included_893, \" applicants with initial placements in 893\")\n",
    "    println()\n",
    "end\n",
    "\n",
    "println(maintained_labels, \" \", sum(values(maintained_labels)), \" total regular\")\n",
    "println()\n",
    "println(oid_893_labels, \" \", sum(values(oid_893_labels)), \" total in 893\")"
   ]
  },
  {
   "cell_type": "markdown",
   "metadata": {},
   "source": [
    "### STEP 4\n",
    "Filter-by-year."
   ]
  },
  {
   "cell_type": "code",
   "execution_count": 8,
   "metadata": {},
   "outputs": [
    {
     "name": "stdout",
     "output_type": "stream",
     "text": [
      "  -0 applicants removed due to placement in years to remove\n",
      "  17859 applicants remaining after year corrections\n",
      "\n",
      "Year 2003 has 35 successful placement outcomes\n",
      "Year 2004 has 30 successful placement outcomes\n",
      "Year 2005 has 229 successful placement outcomes\n",
      "Year 2006 has 28 successful placement outcomes\n",
      "Year 2007 has 193 successful placement outcomes\n",
      "Year 2008 has 141 successful placement outcomes\n",
      "Year 2009 has 303 successful placement outcomes\n",
      "Year 2010 has 333 successful placement outcomes\n",
      "Year 2011 has 407 successful placement outcomes\n",
      "Year 2012 has 468 successful placement outcomes\n",
      "Year 2013 has 502 successful placement outcomes\n",
      "Year 2014 has 550 successful placement outcomes\n",
      "Year 2015 has 802 successful placement outcomes\n",
      "Year 2016 has 1637 successful placement outcomes\n",
      "Year 2017 has 1114 successful placement outcomes\n",
      "Year 2018 has 1155 successful placement outcomes\n",
      "Year 2019 has 1399 successful placement outcomes\n",
      "Year 2020 has 1370 successful placement outcomes\n",
      "Year 2021 has 1210 successful placement outcomes\n",
      "Year 2022 has 1182 successful placement outcomes\n",
      "Year 2023 has 1185 successful placement outcomes\n",
      "Year 2024 has 403 successful placement outcomes\n",
      "Year 2025 has 63 successful placement outcomes\n",
      "Year 2026 has 3 successful placement outcomes\n",
      "\n",
      "Year 2001 has 954 unsuccessful placement outcomes\n",
      "Year 2005 has 34 unsuccessful placement outcomes\n",
      "Year 2007 has 22 unsuccessful placement outcomes\n",
      "Year 2008 has 20 unsuccessful placement outcomes\n",
      "Year 2009 has 17 unsuccessful placement outcomes\n",
      "Year 2010 has 17 unsuccessful placement outcomes\n",
      "Year 2011 has 23 unsuccessful placement outcomes\n",
      "Year 2012 has 21 unsuccessful placement outcomes\n",
      "Year 2013 has 24 unsuccessful placement outcomes\n",
      "Year 2014 has 30 unsuccessful placement outcomes\n",
      "Year 2015 has 108 unsuccessful placement outcomes\n",
      "Year 2016 has 257 unsuccessful placement outcomes\n",
      "Year 2017 has 122 unsuccessful placement outcomes\n",
      "Year 2018 has 89 unsuccessful placement outcomes\n",
      "Year 2019 has 198 unsuccessful placement outcomes\n",
      "Year 2020 has 266 unsuccessful placement outcomes\n",
      "Year 2021 has 293 unsuccessful placement outcomes\n",
      "Year 2022 has 285 unsuccessful placement outcomes\n",
      "Year 2023 has 277 unsuccessful placement outcomes\n",
      "Year 2024 has 51 unsuccessful placement outcomes\n",
      "Year 2025 has 9 unsuccessful placement outcomes\n"
     ]
    }
   ],
   "source": [
    "sorted_by_year = Dict{Any, Dict}()\n",
    "removed_year_placed = 0\n",
    "\n",
    "by_year_893 = Dict{Any, Dict}()\n",
    "\n",
    "remove_years = [] # remove all 2022+ entries\n",
    "# \"2003\", \"2004\", \"2005\", \"2006\", \"2007\", \"2008\", \"2009\", \"2010\", \"2011\", \"2012\", \"2013\", \"2014\", \"2015\", \"2016\", \"2017\", \"2018\", \"2019\",\n",
    "# \"2021\", \"2022\", \"2023\", \"2024\", \"2025\", \"2026\"\n",
    "\n",
    "for applicant_id in copy(keys(finalized_applicant_outcomes))\n",
    "    outcome = finalized_applicant_outcomes[applicant_id]\n",
    "    if matches(remove_years, outcome[\"startdate\"])\n",
    "        removed_year_placed += 1\n",
    "        delete!(finalized_applicant_outcomes, applicant_id)\n",
    "    else\n",
    "        if outcome[\"to_oid\"] != 893\n",
    "            push!(get!(sorted_by_year, parse(Int, split(outcome[\"startdate\"], \"-\")[1]), Dict()), applicant_id => outcome)\n",
    "        else\n",
    "            push!(get!(by_year_893, parse(Int, split(outcome[\"startdate\"], \"-\")[1]), Dict()), applicant_id => outcome)\n",
    "        end\n",
    "    end\n",
    "end\n",
    "\n",
    "if DEBUG_LEVEL > 0\n",
    "    println(\"  -\", removed_year_placed, \" applicants removed due to placement in years to remove\")\n",
    "    println(\"  \", length(finalized_applicant_outcomes), \" applicants remaining after year corrections\")\n",
    "    println()\n",
    "end\n",
    "\n",
    "for key in sort(collect(keys(sorted_by_year)))\n",
    "    println(\"Year \", key, \" has \", length(sorted_by_year[key]), \" successful placement outcomes\")\n",
    "end\n",
    "println()\n",
    "\n",
    "for key in sort(collect(keys(by_year_893)))\n",
    "    println(\"Year \", key, \" has \", length(by_year_893[key]), \" unsuccessful placement outcomes\")\n",
    "end"
   ]
  },
  {
   "cell_type": "markdown",
   "metadata": {},
   "source": [
    "### STEP 5\n",
    "Save to disk."
   ]
  },
  {
   "cell_type": "code",
   "execution_count": 9,
   "metadata": {},
   "outputs": [
    {
     "name": "stdout",
     "output_type": "stream",
     "text": [
      "Total 17859 applicants in JSON file (compare to 17859 applicants in finalized_applicant_outcomes: SUCCESS)\n"
     ]
    },
    {
     "data": {
      "text/plain": [
       "3559405"
      ]
     },
     "execution_count": 9,
     "metadata": {},
     "output_type": "execute_result"
    }
   ],
   "source": [
    "total_check = sum(length(value) for value in values(sorted_by_year)) + sum(length(value) for value in values(by_year_893))\n",
    "println(\"Total \" * \"$total_check\" * \" applicants in JSON file (compare to\" * \" $(length(finalized_applicant_outcomes)) \" \n",
    "    * \"applicants in finalized_applicant_outcomes: \" * \"$(length(finalized_applicant_outcomes) == total_check ? \"SUCCESS\" : \"FAIL\")\" * \")\")\n",
    "\n",
    "json_str = JSON.json(sorted_by_year, 4)  \n",
    "open(\"to_from_by_year_mapinator_api.json\", \"w\") do f\n",
    "    write(f, json_str)\n",
    "end\n",
    "\n",
    "json_str_893 = JSON.json(by_year_893, 4)  \n",
    "open(\"to_from_by_year_893_mapinator_api.json\", \"w\") do f\n",
    "    write(f, json_str_893)\n",
    "end"
   ]
  },
  {
   "cell_type": "code",
   "execution_count": 10,
   "metadata": {},
   "outputs": [
    {
     "data": {
      "text/plain": [
       "Dict{Any, Dict} with 24 entries:\n",
       "  2024 => Dict{Any, Any}(\"62687\"=>Dict{String, Any}(\"disappeared\"=>0, \"to_short…\n",
       "  2004 => Dict{Any, Any}(\"24943\"=>Dict{String, Any}(\"disappeared\"=>nothing, \"to…\n",
       "  2023 => Dict{Any, Any}(\"56205\"=>Dict{String, Any}(\"disappeared\"=>0, \"to_short…\n",
       "  2010 => Dict{Any, Any}(\"5422\"=>Dict{String, Any}(\"disappeared\"=>nothing, \"to_…\n",
       "  2006 => Dict{Any, Any}(\"2139\"=>Dict{String, Any}(\"disappeared\"=>nothing, \"to_…\n",
       "  2020 => Dict{Any, Any}(\"45907\"=>Dict{String, Any}(\"disappeared\"=>0, \"to_short…\n",
       "  2003 => Dict{Any, Any}(\"17827\"=>Dict{String, Any}(\"disappeared\"=>nothing, \"to…\n",
       "  2018 => Dict{Any, Any}(\"37196\"=>Dict{String, Any}(\"disappeared\"=>nothing, \"to…\n",
       "  2017 => Dict{Any, Any}(\"27626\"=>Dict{String, Any}(\"disappeared\"=>0, \"to_short…\n",
       "  2025 => Dict{Any, Any}(\"62504\"=>Dict{String, Any}(\"disappeared\"=>0, \"to_short…\n",
       "  2011 => Dict{Any, Any}(\"59924\"=>Dict{String, Any}(\"disappeared\"=>0, \"to_short…\n",
       "  2009 => Dict{Any, Any}(\"1886\"=>Dict{String, Any}(\"disappeared\"=>nothing, \"to_…\n",
       "  2013 => Dict{Any, Any}(\"16501\"=>Dict{String, Any}(\"disappeared\"=>nothing, \"to…\n",
       "  2026 => Dict{Any, Any}(\"61387\"=>Dict{String, Any}(\"disappeared\"=>0, \"to_short…\n",
       "  2007 => Dict{Any, Any}(\"24350\"=>Dict{String, Any}(\"disappeared\"=>nothing, \"to…\n",
       "  2015 => Dict{Any, Any}(\"24377\"=>Dict{String, Any}(\"disappeared\"=>nothing, \"to…\n",
       "  2014 => Dict{Any, Any}(\"56926\"=>Dict{String, Any}(\"disappeared\"=>0, \"to_short…\n",
       "  2005 => Dict{Any, Any}(\"11382\"=>Dict{String, Any}(\"disappeared\"=>0, \"to_short…\n",
       "  2012 => Dict{Any, Any}(\"36063\"=>Dict{String, Any}(\"disappeared\"=>0, \"to_short…\n",
       "  2022 => Dict{Any, Any}(\"55774\"=>Dict{String, Any}(\"disappeared\"=>0, \"to_short…\n",
       "  2019 => Dict{Any, Any}(\"43054\"=>Dict{String, Any}(\"disappeared\"=>nothing, \"to…\n",
       "  2008 => Dict{Any, Any}(\"3720\"=>Dict{String, Any}(\"disappeared\"=>0, \"to_shortn…\n",
       "  2021 => Dict{Any, Any}(\"40960\"=>Dict{String, Any}(\"disappeared\"=>0, \"to_short…\n",
       "  2016 => Dict{Any, Any}(\"29795\"=>Dict{String, Any}(\"disappeared\"=>nothing, \"to…"
      ]
     },
     "execution_count": 10,
     "metadata": {},
     "output_type": "execute_result"
    }
   ],
   "source": [
    "sorted_by_year"
   ]
  },
  {
   "cell_type": "code",
   "execution_count": 11,
   "metadata": {},
   "outputs": [
    {
     "data": {
      "text/plain": [
       "Dict{Any, Dict} with 21 entries:\n",
       "  2024 => Dict{Any, Any}(\"62884\"=>Dict{String, Any}(\"disappeared\"=>0, \"to_short…\n",
       "  2023 => Dict{Any, Any}(\"41022\"=>Dict{String, Any}(\"disappeared\"=>1, \"to_short…\n",
       "  2010 => Dict{Any, Any}(\"1495\"=>Dict{String, Any}(\"disappeared\"=>0, \"to_shortn…\n",
       "  2020 => Dict{Any, Any}(\"51250\"=>Dict{String, Any}(\"disappeared\"=>0, \"to_short…\n",
       "  2018 => Dict{Any, Any}(\"30648\"=>Dict{String, Any}(\"disappeared\"=>0, \"to_short…\n",
       "  2017 => Dict{Any, Any}(\"40521\"=>Dict{String, Any}(\"disappeared\"=>0, \"to_short…\n",
       "  2001 => Dict{Any, Any}(\"52049\"=>Dict{String, Any}(\"disappeared\"=>1, \"to_short…\n",
       "  2025 => Dict{Any, Any}(\"50537\"=>Dict{String, Any}(\"disappeared\"=>1, \"to_short…\n",
       "  2009 => Dict{Any, Any}(\"8071\"=>Dict{String, Any}(\"disappeared\"=>0, \"to_shortn…\n",
       "  2011 => Dict{Any, Any}(\"51564\"=>Dict{String, Any}(\"disappeared\"=>0, \"to_short…\n",
       "  2013 => Dict{Any, Any}(\"26793\"=>Dict{String, Any}(\"disappeared\"=>0, \"to_short…\n",
       "  2007 => Dict{Any, Any}(\"32\"=>Dict{String, Any}(\"disappeared\"=>0, \"to_shortnam…\n",
       "  2015 => Dict{Any, Any}(\"25719\"=>Dict{String, Any}(\"disappeared\"=>0, \"to_short…\n",
       "  2014 => Dict{Any, Any}(\"21269\"=>Dict{String, Any}(\"disappeared\"=>0, \"to_short…\n",
       "  2005 => Dict{Any, Any}(\"52068\"=>Dict{String, Any}(\"disappeared\"=>0, \"to_short…\n",
       "  2012 => Dict{Any, Any}(\"31653\"=>Dict{String, Any}(\"disappeared\"=>0, \"to_short…\n",
       "  2022 => Dict{Any, Any}(\"54879\"=>Dict{String, Any}(\"disappeared\"=>0, \"to_short…\n",
       "  2019 => Dict{Any, Any}(\"42525\"=>Dict{String, Any}(\"disappeared\"=>0, \"to_short…\n",
       "  2008 => Dict{Any, Any}(\"13775\"=>Dict{String, Any}(\"disappeared\"=>0, \"to_short…\n",
       "  2016 => Dict{Any, Any}(\"27274\"=>Dict{String, Any}(\"disappeared\"=>0, \"to_short…\n",
       "  2021 => Dict{Any, Any}(\"48346\"=>Dict{String, Any}(\"disappeared\"=>0, \"to_short…"
      ]
     },
     "execution_count": 11,
     "metadata": {},
     "output_type": "execute_result"
    }
   ],
   "source": [
    "by_year_893"
   ]
  }
 ],
 "metadata": {
  "kernelspec": {
   "display_name": "Julia 1.11.1",
   "language": "julia",
   "name": "julia-1.11"
  },
  "language_info": {
   "file_extension": ".jl",
   "mimetype": "application/julia",
   "name": "julia",
   "version": "1.11.1"
  },
  "widgets": {
   "application/vnd.jupyter.widget-state+json": {
    "state": {},
    "version_major": 2,
    "version_minor": 0
   }
  }
 },
 "nbformat": 4,
 "nbformat_minor": 4
}
