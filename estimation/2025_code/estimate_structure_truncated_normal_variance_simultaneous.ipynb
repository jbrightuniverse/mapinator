{
 "cells": [
  {
   "cell_type": "markdown",
   "id": "d9fe68d4-ec10-4003-8587-fb7d99ada989",
   "metadata": {},
   "source": [
    "# Structural Estimation of Market Parameters\n",
    "\n",
    "### Simultaneous Estimator, Truncated Normal with Variance"
   ]
  },
  {
   "cell_type": "code",
   "execution_count": 1,
   "id": "b2dfd47a-92cf-4803-ad29-1e86305dabff",
   "metadata": {},
   "outputs": [
    {
     "name": "stderr",
     "output_type": "stream",
     "text": [
      "\u001b[32m\u001b[1m  Activating\u001b[22m\u001b[39m project at `C:\\Users\\jbrig\\Documents\\research\\mapinator_2024`\n"
     ]
    }
   ],
   "source": [
    "using Pkg\n",
    "Pkg.activate(\".\")\n",
    "#for pkg in [\"BlackBoxOptim\", \"Cubature\", \"Distributions\", \"Integrals\", \"Roots\", \"FiniteDiff\", \"PythonPlot\", \"PrettyTables\", \"JLD\", \"StatProfilerHTML\"] # \n",
    "#    Pkg.add(pkg)\n",
    "#end\n",
    "\n",
    "#Pkg.instantiate()\n",
    "\n",
    "using BlackBoxOptim, Cubature, Distributions, Integrals, Random, Roots, FiniteDiff, PrettyTables, JLD"
   ]
  },
  {
   "cell_type": "markdown",
   "id": "aa9f4722-e30e-4a2e-bc47-5879586367a0",
   "metadata": {},
   "source": [
    "## 1. Load placements"
   ]
  },
  {
   "cell_type": "code",
   "execution_count": 2,
   "id": "4c12af5d-2894-43f2-b66c-bbb64d40d7d5",
   "metadata": {},
   "outputs": [
    {
     "data": {
      "text/plain": [
       "Dict{String, Any} with 4 entries:\n",
       "  \"successful_tier_1_range\" => 2018:2023\n",
       "  \"placement_matrix\"        => [761 115 … 8 0; 879 569 … 48 4; … ; 165 244 … 20…\n",
       "  \"successful_tier_1\"       => 2098\n",
       "  \"unmatched\"               => [300, 544, 667, 364, 273]"
      ]
     },
     "execution_count": 2,
     "metadata": {},
     "output_type": "execute_result"
    }
   ],
   "source": [
    "placement_matrices = load(\"placement_matrices.jld\")"
   ]
  },
  {
   "cell_type": "code",
   "execution_count": 3,
   "id": "fbb8fb48-1ed2-40ca-94bd-1f5120897154",
   "metadata": {},
   "outputs": [
    {
     "data": {
      "text/plain": [
       "10×5 Matrix{Int64}:\n",
       " 761  115   41    8    0\n",
       " 879  569  148   48    4\n",
       " 839  993  443   60   14\n",
       " 176  306  217  140   11\n",
       "   3   14   16   15   46\n",
       " 582  596  301   79   19\n",
       " 700  438  244   68   24\n",
       " 218  187  114   39    9\n",
       " 165  244  315  201  104\n",
       " 676  967  815  309  123"
      ]
     },
     "execution_count": 3,
     "metadata": {},
     "output_type": "execute_result"
    }
   ],
   "source": [
    "placement_rates_raw = placement_matrices[\"placement_matrix\"]"
   ]
  },
  {
   "cell_type": "code",
   "execution_count": 4,
   "id": "9e272bee-12f9-4e47-8a7f-15d0f286e01b",
   "metadata": {},
   "outputs": [
    {
     "data": {
      "text/plain": [
       "5-element Vector{Int64}:\n",
       " 300\n",
       " 544\n",
       " 667\n",
       " 364\n",
       " 273"
      ]
     },
     "execution_count": 4,
     "metadata": {},
     "output_type": "execute_result"
    }
   ],
   "source": [
    "unmatched_raw = placement_matrices[\"unmatched\"]"
   ]
  },
  {
   "cell_type": "code",
   "execution_count": 5,
   "id": "ff331bd7-5c27-44b9-911a-93f7e0bb28cd",
   "metadata": {},
   "outputs": [
    {
     "data": {
      "text/plain": [
       "10"
      ]
     },
     "execution_count": 5,
     "metadata": {},
     "output_type": "execute_result"
    }
   ],
   "source": [
    "k = size(placement_rates_raw)[2]\n",
    "K = size(placement_rates_raw)[1]"
   ]
  },
  {
   "cell_type": "markdown",
   "id": "d6454f94-557d-47be-ae2a-83441835c64d",
   "metadata": {},
   "source": [
    "## 2. Rescale placements (successes and failures) using registrations"
   ]
  },
  {
   "cell_type": "code",
   "execution_count": 6,
   "id": "1a2e2a37-cc30-45d5-89d2-bf284ffb9c7f",
   "metadata": {},
   "outputs": [
    {
     "data": {
      "text/plain": [
       "5-element Vector{Any}:\n",
       " 2664\n",
       " 3635\n",
       " 4481\n",
       " 2284\n",
       " 1347"
      ]
     },
     "execution_count": 6,
     "metadata": {},
     "output_type": "execute_result"
    }
   ],
   "source": [
    "# conduct adjustment using the relative m_t values\n",
    "adjustment_matrix = load(\"adjustment_matrix.jld\")\n",
    "m_t_values = adjustment_matrix[\"data\"][:, 1]"
   ]
  },
  {
   "cell_type": "code",
   "execution_count": 7,
   "id": "e00665ff-dce3-4798-8adf-d50d19fcab00",
   "metadata": {},
   "outputs": [
    {
     "data": {
      "text/plain": [
       "5-element Vector{Int64}:\n",
       " 5299\n",
       " 4973\n",
       " 3321\n",
       " 1331\n",
       "  627"
      ]
     },
     "execution_count": 7,
     "metadata": {},
     "output_type": "execute_result"
    }
   ],
   "source": [
    "m_t_placements = zeros(Int, k)\n",
    "for t in 1:k\n",
    "    m_t_placements[t] = sum(placement_rates_raw[:, t]) + unmatched_raw[t]\n",
    "end\n",
    "m_t_placements"
   ]
  },
  {
   "cell_type": "code",
   "execution_count": 8,
   "id": "382cc3cf-8759-483c-9415-0ff3ecba95c4",
   "metadata": {},
   "outputs": [
    {
     "data": {
      "text/plain": [
       "10×5 Matrix{Int64}:\n",
       " 383   84    55   14    0\n",
       " 442  416   200   82    9\n",
       " 422  726   598  103   30\n",
       "  88  224   293  240   24\n",
       "   2   10    22   26   99\n",
       " 293  436   406  136   41\n",
       " 352  320   329  117   52\n",
       " 110  137   154   67   19\n",
       "  83  178   425  345  223\n",
       " 340  707  1100  530  264"
      ]
     },
     "execution_count": 8,
     "metadata": {},
     "output_type": "execute_result"
    }
   ],
   "source": [
    "placement_rates_rescaled = zeros(Int, K, k)\n",
    "unmatched_rescaled = zeros(Int, k)\n",
    "\n",
    "for i in 1:K\n",
    "    for t in 1:k\n",
    "        placement_rates_rescaled[i, t] = round(m_t_values[t] * (placement_rates_raw[i, t] / m_t_placements[t]))\n",
    "    end\n",
    "end\n",
    "\n",
    "for t in 1:k\n",
    "    unmatched_rescaled[t] = round(m_t_values[t] * (unmatched_raw[t] / m_t_placements[t]))\n",
    "end\n",
    "\n",
    "placement_rates_rescaled"
   ]
  },
  {
   "cell_type": "code",
   "execution_count": 9,
   "id": "014bea2a-dba0-4afe-a26c-5294a91eb24f",
   "metadata": {},
   "outputs": [
    {
     "data": {
      "text/plain": [
       "5-element Vector{Int64}:\n",
       " 151\n",
       " 398\n",
       " 900\n",
       " 625\n",
       " 586"
      ]
     },
     "execution_count": 9,
     "metadata": {},
     "output_type": "execute_result"
    }
   ],
   "source": [
    "unmatched_rescaled"
   ]
  },
  {
   "cell_type": "markdown",
   "id": "b58c06f9-5569-4fe8-9038-f631293b278c",
   "metadata": {},
   "source": [
    "## 3. Collapse sinks and delete graduating tier 5 (tier 5 becomes part of the sinks)"
   ]
  },
  {
   "cell_type": "code",
   "execution_count": 10,
   "id": "13ce6f01-f5c1-4713-a9cb-2dda4947fdbd",
   "metadata": {},
   "outputs": [
    {
     "name": "stdout",
     "output_type": "stream",
     "text": [
      "original dimensions: 10 by 5\n"
     ]
    }
   ],
   "source": [
    "println(\"original dimensions: \", K, \" by \", k)"
   ]
  },
  {
   "cell_type": "code",
   "execution_count": 11,
   "id": "efa9ae51-7c3a-4682-a297-4739926642dd",
   "metadata": {},
   "outputs": [
    {
     "data": {
      "text/plain": [
       "7"
      ]
     },
     "execution_count": 11,
     "metadata": {},
     "output_type": "execute_result"
    }
   ],
   "source": [
    "k -= 1\n",
    "K = k + 3"
   ]
  },
  {
   "cell_type": "code",
   "execution_count": 12,
   "id": "4fbe3972-0375-4510-8de7-bde7ba2e3637",
   "metadata": {},
   "outputs": [
    {
     "name": "stdout",
     "output_type": "stream",
     "text": [
      "new dimensions: 7 by 4\n"
     ]
    }
   ],
   "source": [
    "println(\"new dimensions: \", K, \" by \", k)"
   ]
  },
  {
   "cell_type": "code",
   "execution_count": 13,
   "id": "3d5e9e4d-1081-48bb-817d-e98a66294ec0",
   "metadata": {},
   "outputs": [
    {
     "data": {
      "text/plain": [
       "7×4 Matrix{Int64}:\n",
       " 383    84    55   14\n",
       " 442   416   200   82\n",
       " 422   726   598  103\n",
       "  88   224   293  240\n",
       " 293   436   406  136\n",
       " 352   320   329  117\n",
       " 535  1032  1701  968"
      ]
     },
     "execution_count": 13,
     "metadata": {},
     "output_type": "execute_result"
    }
   ],
   "source": [
    "placement_rates = zeros(Int, K, k)\n",
    "for i in 1:4 # NOTE: hardcoded\n",
    "    for t in 1:k\n",
    "        placement_rates[i, t] = placement_rates_rescaled[i, t]\n",
    "    end\n",
    "end\n",
    "\n",
    "for i in 5:6 # NOTE: hardcoded\n",
    "    for t in 1:k\n",
    "        placement_rates[i, t] = placement_rates_rescaled[i+1, t]\n",
    "    end\n",
    "end\n",
    "\n",
    "for t in 1:k\n",
    "    # NOTE: hardcoded\n",
    "    for original_sink_tier in [5, 8, 9, 10]\n",
    "        placement_rates[K, t] += placement_rates_rescaled[original_sink_tier, t] \n",
    "    end\n",
    "end\n",
    "\n",
    "unmatched = zeros(Int, k)\n",
    "for t in 1:k\n",
    "    unmatched[t] = unmatched_rescaled[t]\n",
    "end\n",
    "\n",
    "placement_rates"
   ]
  },
  {
   "cell_type": "code",
   "execution_count": 14,
   "id": "f6d26159-43a7-4ae3-a112-153bc654fb01",
   "metadata": {},
   "outputs": [
    {
     "data": {
      "text/plain": [
       "4-element Vector{Int64}:\n",
       " 151\n",
       " 398\n",
       " 900\n",
       " 625"
      ]
     },
     "execution_count": 14,
     "metadata": {},
     "output_type": "execute_result"
    }
   ],
   "source": [
    "unmatched"
   ]
  },
  {
   "cell_type": "markdown",
   "id": "54dcbc22-a2c6-4ac9-93ff-f92f1d189356",
   "metadata": {},
   "source": [
    "## 3a. Latex version of the new table"
   ]
  },
  {
   "cell_type": "code",
   "execution_count": 15,
   "id": "ff89bc28-bd0a-4f4a-8e4e-9cdfc95970c1",
   "metadata": {},
   "outputs": [],
   "source": [
    "presentation_table = zeros(Int, K+1, k)\n",
    "for i in 1:K, t in 1:k\n",
    "    presentation_table[i, t] = placement_rates[i, t]\n",
    "end\n",
    "\n",
    "for t in 1:k\n",
    "    presentation_table[K+1, t] = unmatched[t]\n",
    "end"
   ]
  },
  {
   "cell_type": "code",
   "execution_count": 16,
   "id": "2f7cdb62-a262-4f42-9a25-e6148569a4a8",
   "metadata": {},
   "outputs": [
    {
     "data": {
      "text/plain": [
       "Main.SBM"
      ]
     },
     "execution_count": 16,
     "metadata": {},
     "output_type": "execute_result"
    }
   ],
   "source": [
    "include(\"type_allocation_base_by_applicant.jl\")"
   ]
  },
  {
   "cell_type": "code",
   "execution_count": 17,
   "id": "44b281ba-3c06-4e96-a425-c26143e6f851",
   "metadata": {},
   "outputs": [
    {
     "data": {
      "text/plain": [
       "8×4 Matrix{Int64}:\n",
       " 383    84    55   14\n",
       " 442   416   200   82\n",
       " 422   726   598  103\n",
       "  88   224   293  240\n",
       " 293   436   406  136\n",
       " 352   320   329  117\n",
       " 535  1032  1701  968\n",
       " 151   398   900  625"
      ]
     },
     "execution_count": 17,
     "metadata": {},
     "output_type": "execute_result"
    }
   ],
   "source": [
    "presentation_table"
   ]
  },
  {
   "cell_type": "code",
   "execution_count": 18,
   "id": "2ef3fa5e-0884-45cc-8580-10cae2337626",
   "metadata": {},
   "outputs": [
    {
     "name": "stdout",
     "output_type": "stream",
     "text": [
      "┌────────────────┬────────┬────────┬────────┬────────┬────────────┐\n",
      "│\u001b[1m                \u001b[0m│\u001b[1m Tier 1 \u001b[0m│\u001b[1m Tier 2 \u001b[0m│\u001b[1m Tier 3 \u001b[0m│\u001b[1m Tier 4 \u001b[0m│\u001b[1m Row Totals \u001b[0m│\n",
      "├────────────────┼────────┼────────┼────────┼────────┼────────────┤\n",
      "│         Tier 1 │    383 │     84 │     55 │     14 │        536 │\n",
      "│         Tier 2 │    442 │    416 │    200 │     82 │       1140 │\n",
      "│         Tier 3 │    422 │    726 │    598 │    103 │       1849 │\n",
      "│         Tier 4 │     88 │    224 │    293 │    240 │        845 │\n",
      "│  Public Sector │    293 │    436 │    406 │    136 │       1271 │\n",
      "│ Private Sector │    352 │    320 │    329 │    117 │       1118 │\n",
      "│          Other │    535 │   1032 │   1701 │    968 │       4236 │\n",
      "│      Unmatched │    151 │    398 │    900 │    625 │       2074 │\n",
      "│  Column Totals │   2666 │   3636 │   4482 │   2285 │      13069 │\n",
      "└────────────────┴────────┴────────┴────────┴────────┴────────────┘\n",
      "\\begin{tabular}{rrrrrr}\n",
      "  \\hline\n",
      "   & \\textbf{Tier 1} & \\textbf{Tier 2} & \\textbf{Tier 3} & \\textbf{Tier 4} & \\textbf{Row Totals} \\\\\\hline\n",
      "  Tier 1 & 383 & 84 & 55 & 14 & 536 \\\\\n",
      "  Tier 2 & 442 & 416 & 200 & 82 & 1140 \\\\\n",
      "  Tier 3 & 422 & 726 & 598 & 103 & 1849 \\\\\n",
      "  Tier 4 & 88 & 224 & 293 & 240 & 845 \\\\\n",
      "  Public Sector & 293 & 436 & 406 & 136 & 1271 \\\\\n",
      "  Private Sector & 352 & 320 & 329 & 117 & 1118 \\\\\n",
      "  Other & 535 & 1032 & 1701 & 968 & 4236 \\\\\n",
      "  Unmatched & 151 & 398 & 900 & 625 & 2074 \\\\\n",
      "  Column Totals & 2666 & 3636 & 4482 & 2285 & 13069 \\\\\\hline\n",
      "\\end{tabular}\n"
     ]
    }
   ],
   "source": [
    "sink_names_to_present = [\n",
    "    \"Public Sector\",\n",
    "    \"Private Sector\",\n",
    "    \"Other\",\n",
    "    \"Unmatched\"\n",
    "]\n",
    "SBM.nice_table(presentation_table, k, (K - k) + 1, sink_names_to_present)"
   ]
  },
  {
   "cell_type": "markdown",
   "id": "be7b0f52-5cbb-475b-ba2c-4be5c940b6eb",
   "metadata": {},
   "source": [
    "## 4. Compute $m$ and $\\gamma_t$"
   ]
  },
  {
   "cell_type": "code",
   "execution_count": 19,
   "id": "28d3a3e0-afc8-4ba1-b637-1c657ac888fc",
   "metadata": {},
   "outputs": [
    {
     "name": "stdout",
     "output_type": "stream",
     "text": [
      "successful graduates: 10995\n",
      "[2515, 3238, 3582, 1660]\n",
      "\n"
     ]
    },
    {
     "data": {
      "text/plain": [
       "13064"
      ]
     },
     "execution_count": 19,
     "metadata": {},
     "output_type": "execute_result"
    }
   ],
   "source": [
    "res = (; placements = placement_rates) \n",
    "\n",
    "M = sum(res.placements)\n",
    "\n",
    "successful_graduates = [sum(res.placements[:, t]) for t in 1:k]\n",
    "println(\"successful graduates: \", M)\n",
    "println(successful_graduates)\n",
    "println()\n",
    "\n",
    "estimated_m_val = sum(m_t_values[1:k])"
   ]
  },
  {
   "cell_type": "code",
   "execution_count": 20,
   "id": "0dff8e9b-f0c6-496f-bd57-5fcaa24e834d",
   "metadata": {},
   "outputs": [
    {
     "data": {
      "text/plain": [
       "4-element Vector{Float64}:\n",
       " 0.2039191671769749\n",
       " 0.27824556031843234\n",
       " 0.3430036742192284\n",
       " 0.17483159828536435"
      ]
     },
     "execution_count": 20,
     "metadata": {},
     "output_type": "execute_result"
    }
   ],
   "source": [
    "estimated_γ = m_t_values[1:k] / estimated_m_val"
   ]
  },
  {
   "cell_type": "code",
   "execution_count": 21,
   "id": "8f0ffc66-8a4b-4b7c-97ab-0dd850eec9ad",
   "metadata": {},
   "outputs": [
    {
     "data": {
      "text/plain": [
       "q (generic function with 1 method)"
      ]
     },
     "execution_count": 21,
     "metadata": {},
     "output_type": "execute_result"
    }
   ],
   "source": [
    "function Fx(t, α, v_rel)\n",
    "    return 1 - sum([-log(v_rel[j])*sum(α[1:j]) for j in 1:t])\n",
    "end\n",
    "\n",
    "function F(x, ρ, normals, K)\n",
    "    sum_base = 0.0\n",
    "    for i in 1:K\n",
    "        sum_base += ρ[i] * cdf(normals[i], x)\n",
    "    end\n",
    "    return sum_base\n",
    "end\n",
    "\n",
    "function f_integrand(integrals, x, p) \n",
    "    base_exp = exp(F(x, p.ρ, p.normals, p.K) / sum(p.α[1:p.s]))\n",
    "    for i in 1:p.K\n",
    "        integrals[i] = base_exp * pdf(p.normals[i], x)\n",
    "    end\n",
    "end\n",
    "\n",
    "function get_integrals(x_vec, ρ, normals, α, k, K)\n",
    "    # Fx_vec = [F(x0)=1, F(x1), F(x2), F(x3), ..., F(xk-1)]\n",
    "    # x_vec = [x0 = 1, x1, x2, x3, ..., xk = 0]\n",
    "    # x_vec[s] = x_{s-1}, so the limits of integration are and must be offset by 1 below\n",
    "    all_integrals = zeros(K, k)\n",
    "    for s in 1:k\n",
    "        # https://docs.sciml.ai/Integrals/stable/basics/SampledIntegralProblem/ might be faster\n",
    "        # if f_integrand(x) can be vectorized/sped up\n",
    "        prob = IntegralProblem(IntegralFunction(f_integrand, zeros(K)), (x_vec[s+1], x_vec[s]), (; s, ρ, normals, α, K))\n",
    "        sol = solve(prob, CubatureJLh(); reltol = 1e-3, abstol = 1e-3)\n",
    "        integrals_result = sol.u\n",
    "        # NOTE: result may be inf if alpha_1 is too small\n",
    "        # NOTE: some parameter values for μ and σ may cause the cdf F_i to be NaN\n",
    "        for i in 1:K \n",
    "            all_integrals[i, s] = integrals_result[i]\n",
    "        end\n",
    "    end\n",
    "    return all_integrals\n",
    "end      \n",
    "\n",
    "function q(i, t, all_integrals, Fx_vec, α, v_rel, k)\n",
    "    return α[t] * sum([(1/sum(α[1:s])) * prod([v_rel[j] for j in t:(s-1)]) * exp(-Fx_vec[s] / sum(α[1:s])) * all_integrals[i, s] for s in t:k])\n",
    "end"
   ]
  },
  {
   "cell_type": "code",
   "execution_count": 22,
   "id": "cfaff22c-7d96-4b52-a6fd-23ec149b66f1",
   "metadata": {},
   "outputs": [
    {
     "data": {
      "text/plain": [
       "estimate_likelihood_2 (generic function with 1 method)"
      ]
     },
     "execution_count": 22,
     "metadata": {},
     "output_type": "execute_result"
    }
   ],
   "source": [
    "function estimate_likelihood_2(p_vec, γ, placements, k, K, counter)   \n",
    "    μ = p_vec[1:K]\n",
    "    σ = p_vec[K+1:2K]\n",
    "    ρ_vec = p_vec[2K+1:3K]\n",
    "    ρ = ρ_vec / sum(ρ_vec)\n",
    "\n",
    "    v_rel = p_vec[3K+1:3K+k-1]\n",
    "    τ = p_vec[3K+k]\n",
    "    α = γ * τ\n",
    "\n",
    "    ## compute the cutoffs x and the CDF values F(x)\n",
    "    normals = [truncated(Normal(μ[i], σ[i]), 0, 1) for i in 1:K]\n",
    "\n",
    "    Fx_vec = ones(k) # sets F(x0) = 1 by default; Fx_vec = [F(x0)=1, F(x1), F(x2), F(x3), ..., F(xk-1)]\n",
    "    x_vec = ones(k+1) # x_vec = [x0 = 1, x1, x2, x3, ..., xk = 0]\n",
    "    x_vec[k+1] = 0.0\n",
    "    for t in 1:k-1\n",
    "        Fx_vec_candidate = Fx(t, α, v_rel)\n",
    "        if Fx_vec_candidate <= 0.0 # TODO: if this case occurs, can we speed up q()?\n",
    "            Fx_vec[t+1:k] .= 0.0\n",
    "            x_vec[t+1:k] .= 0.0\n",
    "            break\n",
    "        end\n",
    "        Fx_vec[t+1] = Fx_vec_candidate\n",
    "        # there is no simple closed-form for F^{-1}(x) so this numerically computes x1, x2, x3\n",
    "        x_vec[t+1] = find_zero(x -> F(x, ρ, normals, K) - Fx_vec[t+1], 0.5) \n",
    "    end \n",
    "\n",
    "    ρ_q_it = zeros(K, k)\n",
    "    all_integrals = get_integrals(x_vec, ρ, normals, α, k, K)\n",
    "    for i in 1:K, t in 1:k\n",
    "        prob = q(i, t, all_integrals, Fx_vec, α, v_rel, k)\n",
    "        ρ_q_it[i, t] = ρ[i] * prob\n",
    "    end\n",
    "\n",
    "    normalizer = sum(ρ_q_it)\n",
    "    likelihood = 0.0\n",
    "    for i in 1:K, t in 1:k\n",
    "        likelihood += placements[i, t] * log(ρ_q_it[i, t] / normalizer)\n",
    "    end\n",
    "\n",
    "    counter[1] += 1\n",
    "    #if isnan(-likelihood) || isinf(-likelihood)\n",
    "    #    println(all_integrals)\n",
    "    #end\n",
    "    return -likelihood\n",
    "end"
   ]
  },
  {
   "cell_type": "code",
   "execution_count": 23,
   "id": "d6608381-4af8-407d-932c-c1524dbbb4bc",
   "metadata": {},
   "outputs": [
    {
     "name": "stdout",
     "output_type": "stream",
     "text": [
      "Starting optimization with optimizer DiffEvoOpt{FitPopulation{Float64}, RadiusLimitedSelector, BlackBoxOptim.AdaptiveDiffEvoRandBin{3}, RandomBound{ContinuousRectSearchSpace}}\n",
      "0.00 secs, 0 evals, 0 steps\n",
      "5.00 secs, 36061 evals, 35996 steps, improv/step: 0.168 (last = 0.1679), fitness=32973.232113007\n",
      "10.00 secs, 49880 evals, 49816 steps, improv/step: 0.157 (last = 0.1291), fitness=32955.174785747\n",
      "15.01 secs, 60605 evals, 60542 steps, improv/step: 0.143 (last = 0.0778), fitness=32953.068546136\n",
      "20.01 secs, 69948 evals, 69887 steps, improv/step: 0.135 (last = 0.0843), fitness=32951.268841479\n",
      "25.01 secs, 89910 evals, 89853 steps, improv/step: 0.130 (last = 0.1134), fitness=32950.304563676\n",
      "30.01 secs, 116912 evals, 116860 steps, improv/step: 0.126 (last = 0.1135), fitness=32949.872470094\n",
      "35.01 secs, 159047 evals, 158999 steps, improv/step: 0.124 (last = 0.1187), fitness=32949.256561193\n",
      "40.02 secs, 227253 evals, 227211 steps, improv/step: 0.127 (last = 0.1319), fitness=32949.247787355\n",
      "45.02 secs, 301346 evals, 301317 steps, improv/step: 0.127 (last = 0.1290), fitness=32949.245910853\n",
      "50.02 secs, 383366 evals, 383352 steps, improv/step: 0.127 (last = 0.1266), fitness=32949.245897092\n",
      "55.02 secs, 464009 evals, 464011 steps, improv/step: 0.129 (last = 0.1360), fitness=32949.245893720\n",
      "60.02 secs, 549493 evals, 549508 steps, improv/step: 0.127 (last = 0.1174), fitness=32949.245893720\n",
      "65.02 secs, 634870 evals, 634893 steps, improv/step: 0.114 (last = 0.0309), fitness=32949.245893720\n",
      "\n",
      "Optimization stopped after 671682 steps and 66.99 seconds\n",
      "Termination reason: Too many steps (101) without any function evaluations (probably search has converged)\n",
      "Steps per second = 10026.15\n",
      "Function evals per second = 9974.61\n",
      "Improvements/step = Inf\n",
      "Total function evaluations = 668229\n",
      "\n",
      "\n",
      "Best candidate found: [4.0, 0.302187, 0.290022, -0.995055, 0.160369, -1.68648, 0.0375796, 2.2857, 0.243616, 0.12, 0.12, 0.205914, 0.7549, 0.12, 0.0686245, 0.168444, 0.278048, 0.280869, 0.214217, 0.19326, 0.932666, 0.695379, 0.728488, 0.737517, 0.655594]\n",
      "\n",
      "Fitness: 32949.245893720\n",
      "\n"
     ]
    },
    {
     "data": {
      "text/plain": [
       "25-element Vector{Float64}:\n",
       "  3.9999999999751794\n",
       "  0.30218723471728925\n",
       "  0.29002218954441433\n",
       " -0.9950554866470221\n",
       "  0.16036886184425492\n",
       " -1.6864828563188423\n",
       "  0.037579602143257444\n",
       "  2.285704998718138\n",
       "  0.24361646350630772\n",
       "  0.12000000000001639\n",
       "  0.12000000105376678\n",
       "  0.2059137972911278\n",
       "  0.7548998541809302\n",
       "  0.12000000000002958\n",
       "  0.06862449169088886\n",
       "  0.16844407984663684\n",
       "  0.2780475138256293\n",
       "  0.2808693037722956\n",
       "  0.2142173808334343\n",
       "  0.19325959897661246\n",
       "  0.9326663872843058\n",
       "  0.6953793932131229\n",
       "  0.7284879812397554\n",
       "  0.7375172104690145\n",
       "  0.6555941144733998"
      ]
     },
     "execution_count": 23,
     "metadata": {},
     "output_type": "execute_result"
    }
   ],
   "source": [
    "Random.seed!(0)\n",
    "\n",
    "# upper/lower bound on the mu parameter of truncated normal\n",
    "upper_1 = [4.0 for _ in 1:K]\n",
    "lower_1 = [-4.0 for _ in 1:K]\n",
    "\n",
    "# upper/lower bound on the sigma parameter of truncated normal\n",
    "append!(upper_1, [10.0 for _ in 1:K])\n",
    "append!(lower_1, [0.12 for _ in 1:K])\n",
    "\n",
    "# upper/lower bound on values proportional to ρ_i\n",
    "append!(upper_1, [1.0 for _ in 1:K])\n",
    "append!(lower_1, [0.0 for _ in 1:K])\n",
    "\n",
    "# upper/lower bound on v_rel\n",
    "append!(upper_1, [1.0 for _ in 1:k-1])\n",
    "append!(lower_1, [0.0001 for _ in 1:k-1])\n",
    "\n",
    "# upper/lower bound on τ\n",
    "append!(upper_1, [10.0 for _ in 1:1])\n",
    "append!(lower_1, [0.25 for _ in 1:1])\n",
    "\n",
    "search_range_1 = [(lower_1[i], upper_1[i]) for i in eachindex(upper_1)]\n",
    "counter = [0]\n",
    "sol_res_1 = bboptimize(p -> estimate_likelihood_2(p, estimated_γ, res.placements, k, K, counter), SearchRange = search_range_1, MaxFuncEvals = 1000000, TraceInterval = 5) \n",
    "# MaxTime = 60.0, MaxFuncEvals = 500000,\n",
    "sol_1 = best_candidate(sol_res_1)"
   ]
  },
  {
   "cell_type": "code",
   "execution_count": 24,
   "id": "81211f92-4ca5-46b2-b0b3-232aaa3181c9",
   "metadata": {},
   "outputs": [
    {
     "data": {
      "text/plain": [
       "0.6555941144733998"
      ]
     },
     "execution_count": 24,
     "metadata": {},
     "output_type": "execute_result"
    }
   ],
   "source": [
    "estimated_v_rel = sol_1[3K+1:3K+k-1]\n",
    "estimated_τ = sol_1[3K+k]"
   ]
  },
  {
   "cell_type": "code",
   "execution_count": 25,
   "id": "a5e8f3b8-06fe-4474-b1dc-472e74860f4c",
   "metadata": {},
   "outputs": [
    {
     "name": "stdout",
     "output_type": "stream",
     "text": [
      "estimated value ratios:\n"
     ]
    },
    {
     "data": {
      "text/plain": [
       "3-element Vector{Float64}:\n",
       " 0.6953793932131229\n",
       " 0.7284879812397554\n",
       " 0.7375172104690145"
      ]
     },
     "metadata": {},
     "output_type": "display_data"
    },
    {
     "name": "stdout",
     "output_type": "stream",
     "text": [
      "\n",
      "v1: 1\n",
      "v2: 0.6953793932131229\n",
      "v3: 0.506575530357554\n",
      "v4: 0.3736081720411648\n",
      "\n",
      "estimated market balance ratio (m / (n-1)): 0.6555941144733998\n",
      "estimated α_t: [0.13368820582954202, 0.1824161517231176, 0.22487119006087755, 0.1146185668598626]\n"
     ]
    }
   ],
   "source": [
    "println(\"estimated value ratios:\")\n",
    "display(estimated_v_rel)\n",
    "println()\n",
    "estimated_v_base = 1\n",
    "for i in 1:k\n",
    "    println(\"v\", i, \": \", estimated_v_base)\n",
    "    if i != k\n",
    "        estimated_v_base = estimated_v_rel[i] * estimated_v_base\n",
    "    end\n",
    "end\n",
    "println()\n",
    "\n",
    "println(\"estimated market balance ratio (m / (n-1)): \", estimated_τ)\n",
    "\n",
    "#estimated_n_val = (estimated_m_val / estimated_τ) + 1\n",
    "#println(\"estimated total departments: \", estimated_n_val)\n",
    "estimated_α = estimated_τ * estimated_γ\n",
    "println(\"estimated α_t: \", estimated_α)"
   ]
  },
  {
   "cell_type": "code",
   "execution_count": 26,
   "id": "0eca70fd-d33d-4167-89b2-9e36b89b0803",
   "metadata": {},
   "outputs": [
    {
     "data": {
      "text/plain": [
       "7-element Vector{Float64}:\n",
       " 0.03212563451091255\n",
       " 0.07885483464205365\n",
       " 0.13016421084858856\n",
       " 0.13148519392998606\n",
       " 0.10028299099887637\n",
       " 0.09047188677788753\n",
       " 0.43661524829169535"
      ]
     },
     "execution_count": 26,
     "metadata": {},
     "output_type": "execute_result"
    }
   ],
   "source": [
    "estimated_μ = sol_1[1:K]\n",
    "estimated_σ = sol_1[K+1:2K]\n",
    "est_ρ_vec = sol_1[2K+1:3K]\n",
    "estimated_ρ = est_ρ_vec / sum(est_ρ_vec)"
   ]
  },
  {
   "cell_type": "code",
   "execution_count": 27,
   "id": "673b06f0-43a0-4cd2-b302-bc6997d02104",
   "metadata": {},
   "outputs": [
    {
     "data": {
      "text/plain": [
       "estimate_likelihood_2_for_variance (generic function with 2 methods)"
      ]
     },
     "execution_count": 27,
     "metadata": {},
     "output_type": "execute_result"
    }
   ],
   "source": [
    "function estimate_likelihood_2_for_variance(p_vec, γ, placements, k, K, show_m = false)   \n",
    "    μ = p_vec[1:K]\n",
    "    σ = p_vec[K+1:2K]\n",
    "    ρ = p_vec[2K+1:3K]\n",
    "\n",
    "    v_rel = p_vec[3K+1:3K+k-1]\n",
    "    τ = p_vec[3K+k]\n",
    "    α = γ * τ\n",
    "\n",
    "    ## compute the cutoffs x and the CDF values F(x)\n",
    "    normals = [truncated(Normal(μ[i], σ[i]), 0, 1) for i in 1:K]\n",
    "\n",
    "    Fx_vec = ones(k) # sets F(x0) = 1 by default; Fx_vec = [F(x0)=1, F(x1), F(x2), F(x3), ..., F(xk-1)]\n",
    "    x_vec = ones(k+1) # x_vec = [x0 = 1, x1, x2, x3, ..., xk = 0]\n",
    "    x_vec[k+1] = 0.0\n",
    "    for t in 1:k-1\n",
    "        Fx_vec_candidate = Fx(t, α, v_rel)\n",
    "        if Fx_vec_candidate <= 0.0 # TODO: if this case occurs, can we speed up q()?\n",
    "            Fx_vec[t+1:k] .= 0.0\n",
    "            x_vec[t+1:k] .= 0.0\n",
    "            break\n",
    "        end\n",
    "        Fx_vec[t+1] = Fx_vec_candidate\n",
    "        # there is no simple closed-form for F^{-1}(x) so this numerically computes x1, x2, x3\n",
    "        x_vec[t+1] = find_zero(x -> F(x, ρ, normals, K) - Fx_vec[t+1], 0.5) \n",
    "    end \n",
    "\n",
    "    ρ_q_it = zeros(K, k)\n",
    "    all_integrals = get_integrals(x_vec, ρ, normals, α, k, K)\n",
    "    for i in 1:K, t in 1:k\n",
    "        prob = q(i, t, all_integrals, Fx_vec, α, v_rel, k)\n",
    "        ρ_q_it[i, t] = ρ[i] * prob\n",
    "    end\n",
    "\n",
    "    normalizer = sum(ρ_q_it)\n",
    "    if show_m\n",
    "        println(\"n: \", sum(placements) / normalizer)\n",
    "        println(\"m: \", τ * ((sum(placements) / normalizer) - 1))\n",
    "    end\n",
    "    \n",
    "    likelihood_probability_vector = zeros(k * K)\n",
    "    total_placements_vector = zeros(k * K)\n",
    "    vector_counter = 1\n",
    "    for i in 1:K\n",
    "        for t in 1:k\n",
    "            likelihood_probability_vector[vector_counter] = (ρ_q_it[i, t] / normalizer)\n",
    "            total_placements_vector[vector_counter] = placements[i, t]\n",
    "            vector_counter += 1\n",
    "        end\n",
    "    end\n",
    "\n",
    "    actual_likelihood = loglikelihood(Multinomial(M, likelihood_probability_vector), total_placements_vector)\n",
    "    return actual_likelihood\n",
    "end"
   ]
  },
  {
   "cell_type": "code",
   "execution_count": 28,
   "id": "909eda18-7606-47ec-af8f-c7d03e07ac04",
   "metadata": {},
   "outputs": [
    {
     "data": {
      "text/plain": [
       "25-element Vector{Float64}:\n",
       "  3.9999999999751794\n",
       "  0.30218723471728925\n",
       "  0.29002218954441433\n",
       " -0.9950554866470221\n",
       "  0.16036886184425492\n",
       " -1.6864828563188423\n",
       "  0.037579602143257444\n",
       "  2.285704998718138\n",
       "  0.24361646350630772\n",
       "  0.12000000000001639\n",
       "  0.12000000105376678\n",
       "  0.2059137972911278\n",
       "  0.7548998541809302\n",
       "  0.12000000000002958\n",
       "  0.03212563451091255\n",
       "  0.07885483464205365\n",
       "  0.13016421084858856\n",
       "  0.13148519392998606\n",
       "  0.10028299099887637\n",
       "  0.09047188677788753\n",
       "  0.43661524829169535\n",
       "  0.6953793932131229\n",
       "  0.7284879812397554\n",
       "  0.7375172104690145\n",
       "  0.6555941144733998"
      ]
     },
     "execution_count": 28,
     "metadata": {},
     "output_type": "execute_result"
    }
   ],
   "source": [
    "sol_1_for_variance = zeros(3K + k)\n",
    "sol_1_for_variance[1:K] = estimated_μ\n",
    "sol_1_for_variance[K+1:2K] = estimated_σ\n",
    "sol_1_for_variance[2K+1:3K] = estimated_ρ\n",
    "sol_1_for_variance[3K+1:3K+k-1] = estimated_v_rel\n",
    "sol_1_for_variance[3K+k] = estimated_τ\n",
    "sol_1_for_variance"
   ]
  },
  {
   "cell_type": "code",
   "execution_count": 29,
   "id": "1c4e2b50-539e-435f-a18c-010ac1b046d6",
   "metadata": {},
   "outputs": [
    {
     "name": "stdout",
     "output_type": "stream",
     "text": [
      "n: 21509.765105789513\n",
      "m: 14101.019812946437\n"
     ]
    },
    {
     "data": {
      "text/plain": [
       "-112.72556205940418"
      ]
     },
     "execution_count": 29,
     "metadata": {},
     "output_type": "execute_result"
    }
   ],
   "source": [
    "estimate_likelihood_2_for_variance(sol_1_for_variance, estimated_γ, res.placements, k, K, true)"
   ]
  },
  {
   "cell_type": "code",
   "execution_count": 30,
   "id": "b7b8a4f4-0303-4af7-a874-e2c15dc0d534",
   "metadata": {},
   "outputs": [
    {
     "data": {
      "text/plain": [
       "25×25 LinearAlgebra.Symmetric{Float64, Matrix{Float64}}:\n",
       "   -0.782598      10.4674     …     -0.270985        8.87827\n",
       "   10.4674     -4824.19            216.911         495.882\n",
       "   13.7087      3250.4            2782.43        -2223.76\n",
       " 3727.88      424023.0               3.63545e6      -1.22469e7\n",
       "    3.57472      855.237             8.12067       678.276\n",
       "    0.684861     108.63       …    -34.5997        154.763\n",
       "   -0.290091     444.052         -2055.14         -537.546\n",
       "    2.37516      -31.4819            0.84042       -27.5887\n",
       "   16.1034     -3884.85            -84.7104       -194.872\n",
       "    9.65041     2100.84           -697.796       -1327.13\n",
       " 3719.45           4.22908e5  …      3.62883e6      -1.22006e7\n",
       "    8.14189     1641.48             90.6688        666.83\n",
       "    3.94291      613.475          -180.242         833.56\n",
       "   -0.641809    1039.78          -5249.46         -218.125\n",
       " -180.633        758.104          1057.62         3748.03\n",
       "    1.21431    -9981.64       …   1046.47        -4783.33\n",
       "    1.07856       25.7679           71.6105      -7564.38\n",
       "    3.55825     -515.177          6021.58       -28193.3\n",
       "    1.86366      -50.6661         1845.09       -12338.5\n",
       "    3.69711       20.9396         2584.91       -12473.5\n",
       "    4.5811      -149.77       …   4676.61       -22327.7\n",
       "   -0.630854     108.433          -706.626        2836.94\n",
       "   -2.62807     -273.828         -1744.67         4261.96\n",
       "   -0.270985     216.911         -3575.57         2451.45\n",
       "    8.87827      495.882          2451.45        -6288.81"
      ]
     },
     "execution_count": 30,
     "metadata": {},
     "output_type": "execute_result"
    }
   ],
   "source": [
    "likelihood_hessian = FiniteDiff.finite_difference_hessian(p -> estimate_likelihood_2_for_variance(p, estimated_γ, res.placements, k, K), sol_1_for_variance)"
   ]
  },
  {
   "cell_type": "code",
   "execution_count": 31,
   "id": "9c694a4e-74b9-4f25-b28e-a29a1932e6d5",
   "metadata": {},
   "outputs": [
    {
     "data": {
      "text/plain": [
       "25×25 LinearAlgebra.Symmetric{Float64, Matrix{Float64}}:\n",
       " 144.62          0.29512       0.246443     …   0.0212805     0.0172418\n",
       "   0.29512       0.0192983     0.0133937        0.00206248    0.00199769\n",
       "   0.246443      0.0133937     0.00981409       0.00141111    0.00151692\n",
       "   5.42319e-8   -1.19673e-8   -1.24896e-8       1.65184e-8    2.85302e-8\n",
       "   0.223896      0.0209974     0.0148077        0.0022435     0.00232819\n",
       "   1.03611       0.86904       0.586765     …   0.0777463     0.0794091\n",
       "  -0.0409561     0.00787579    0.00606912       0.00104414    0.0100787\n",
       "  41.8226       -0.106938     -0.0731462       -0.0129025    -0.0142849\n",
       "   0.134291     -0.00157589   -0.000270054     -0.000365082  -0.000312076\n",
       "   0.0823872     0.00103891    0.000905471     -7.11175e-5   -7.6622e-5\n",
       "   4.85613e-8   -1.24687e-8   -1.28851e-8   …   1.66248e-8    2.86376e-8\n",
       "   0.109971     -0.00139949   -0.00061641      -0.000270965  -0.000372995\n",
       "   0.24961      -0.138571     -0.0923059       -0.0123011    -0.0128285\n",
       "   0.131974      0.00353441    0.00243708       5.66564e-5   -0.00340139\n",
       "   0.000387119   6.25383e-5    4.58297e-5       1.38639e-5    5.56629e-5\n",
       "  -0.000792628  -2.6043e-5     6.69356e-6   …  -4.79387e-6    9.60371e-5\n",
       "  -0.00079499   -0.00011129   -7.60981e-5      -4.64637e-5    6.71719e-5\n",
       "   0.00213949    0.000258385   0.000181512      1.74376e-5    6.90046e-5\n",
       "  -0.0032383    -0.000165761  -0.000104918     -3.27684e-5    0.000133944\n",
       "  -0.00195565    1.88285e-5    2.43108e-5       3.04845e-6    0.000179131\n",
       "   0.00246877   -0.000177558  -0.000178776  …   1.93742e-5   -0.000696787\n",
       "  -0.0271914    -0.00109584   -0.000757785     -5.85359e-5   -0.000148407\n",
       "  -0.00124247   -0.000222973  -5.65663e-5       0.000226643   0.00145889\n",
       "   0.0212805     0.00206248    0.00141111       0.00113676    0.000666424\n",
       "   0.0172418     0.00199769    0.00151692       0.000666424   0.00211101"
      ]
     },
     "execution_count": 31,
     "metadata": {},
     "output_type": "execute_result"
    }
   ],
   "source": [
    "estimator_variance = inv((-1 * likelihood_hessian))"
   ]
  },
  {
   "cell_type": "code",
   "execution_count": 32,
   "id": "2871a51f-f2f7-4bbc-962c-101b20c1da36",
   "metadata": {},
   "outputs": [
    {
     "name": "stdout",
     "output_type": "stream",
     "text": [
      "[144.61985953992237, 0.01929831068796792, 0.009814087572233801, 7.1248474422429995e-12, 0.027456533271218334, 73.27226857622561, 0.06312834427449932, 14.746111140032031, 0.002824511275983939, 0.0007141672255513622, 7.123026268521696e-12, 0.0028061498115818403, 2.1591657317399746, 0.01002331746031883, 3.654720111913517e-6, 1.2555139432970545e-5, 1.7740406218748176e-5, 9.777207391558121e-6, 3.0950688396778336e-5, 3.347318207323866e-5, 0.0003512128770310934, 0.001088399176626173, 0.0012869821223731128, 0.0011367578748721705, 0.0021110111772602346]\n"
     ]
    }
   ],
   "source": [
    "println([estimator_variance[i, i] for i in 1:3K+k]) # variance estimates"
   ]
  },
  {
   "cell_type": "code",
   "execution_count": 33,
   "id": "68a2ff24-fcb5-47e3-98ea-84618c7f3790",
   "metadata": {},
   "outputs": [
    {
     "name": "stdout",
     "output_type": "stream",
     "text": [
      "[12.02579974637539, 0.1389183597944056, 0.09906607679843692, 2.6692409861687273e-6, 0.16570013057091518, 8.559922229566435, 0.2512535457948789, 3.8400665541149195, 0.05314613133600544, 0.026723907378064352, 2.66889982362053e-6, 0.05297310460584541, 1.4694099944331311, 0.10011651941772062, 0.001911732228088839, 0.003543323218811762, 0.004211936160336262, 0.003126852633489164, 0.005563334287707178, 0.0057856012715394286, 0.018740674401714934, 0.03299089535957114, 0.03587453306139486, 0.03371584011814285, 0.04594574166623317]\n"
     ]
    }
   ],
   "source": [
    "println([sqrt(estimator_variance[i, i]) for i in 1:3K+k]) # standard deviations"
   ]
  },
  {
   "cell_type": "code",
   "execution_count": 34,
   "id": "db1b08f2-c3b7-4978-9616-9ddc0147546e",
   "metadata": {},
   "outputs": [
    {
     "name": "stdout",
     "output_type": "stream",
     "text": [
      "standard deviations:\n",
      "      μ: [12.02579974637539, 0.1389183597944056, 0.09906607679843692, 2.6692409861687273e-6, 0.16570013057091518, 8.559922229566435, 0.2512535457948789]\n",
      "      σ: [3.8400665541149195, 0.05314613133600544, 0.026723907378064352, 2.66889982362053e-6, 0.05297310460584541, 1.4694099944331311, 0.10011651941772062]\n",
      "      ρ: [0.001911732228088839, 0.003543323218811762, 0.004211936160336262, 0.003126852633489164, 0.005563334287707178, 0.0057856012715394286, 0.018740674401714934]\n",
      "  v_rel: [0.03299089535957114, 0.03587453306139486, 0.03371584011814285]\n",
      "      τ: 0.04594574166623317\n"
     ]
    }
   ],
   "source": [
    "println(\"standard deviations:\")\n",
    "println(\"      μ: \", [sqrt(estimator_variance[i, i]) for i in 1:K])\n",
    "println(\"      σ: \", [sqrt(estimator_variance[i, i]) for i in K+1:2K])\n",
    "println(\"      ρ: \", [sqrt(estimator_variance[i, i]) for i in 2K+1:3K])\n",
    "println(\"  v_rel: \", [sqrt(estimator_variance[i, i]) for i in 3K+1:3K+k-1])\n",
    "println(\"      τ: \", sqrt(estimator_variance[3K+k, 3K+k]))"
   ]
  }
 ],
 "metadata": {
  "kernelspec": {
   "display_name": "Julia 1.11.1",
   "language": "julia",
   "name": "julia-1.11"
  },
  "language_info": {
   "file_extension": ".jl",
   "mimetype": "application/julia",
   "name": "julia",
   "version": "1.11.1"
  }
 },
 "nbformat": 4,
 "nbformat_minor": 5
}
