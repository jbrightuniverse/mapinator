{
 "cells": [
  {
   "cell_type": "markdown",
   "id": "d9fe68d4-ec10-4003-8587-fb7d99ada989",
   "metadata": {},
   "source": [
    "# Structural Estimation of Market Parameters\n",
    "\n",
    "### Sequential Estimator"
   ]
  },
  {
   "cell_type": "code",
   "execution_count": 1,
   "id": "b2dfd47a-92cf-4803-ad29-1e86305dabff",
   "metadata": {},
   "outputs": [
    {
     "name": "stderr",
     "output_type": "stream",
     "text": [
      "\u001b[32m\u001b[1m  Activating\u001b[22m\u001b[39m project at `C:\\Users\\jbrig\\Documents\\research\\mapinator_2024\\notes\\estimation_of_tau`\n",
      "\u001b[32m\u001b[1m    CondaPkg \u001b[22m\u001b[39m\u001b[0mFound dependencies: C:\\Users\\jbrig\\.julia\\packages\\PythonCall\\Nr75f\\CondaPkg.toml\n",
      "\u001b[32m\u001b[1m    CondaPkg \u001b[22m\u001b[39m\u001b[0mFound dependencies: C:\\Users\\jbrig\\.julia\\packages\\PythonPlot\\469aA\\CondaPkg.toml\n",
      "\u001b[32m\u001b[1m    CondaPkg \u001b[22m\u001b[39m\u001b[0mDependencies already up to date\n"
     ]
    }
   ],
   "source": [
    "using Pkg\n",
    "Pkg.activate(\".\")\n",
    "#for pkg in [\"BlackBoxOptim\", \"Cubature\", \"Distributions\", \"Integrals\", \"Roots\", \"PythonPlot\", \"PrettyTables\", \"JLD\", \"StatProfilerHTML\"] # \n",
    "#    Pkg.add(pkg)\n",
    "#end\n",
    "\n",
    "Pkg.instantiate()\n",
    "\n",
    "using BlackBoxOptim, Cubature, Distributions, Integrals, Random, Roots, PythonPlot, PrettyTables, JLD"
   ]
  },
  {
   "cell_type": "markdown",
   "id": "aa9f4722-e30e-4a2e-bc47-5879586367a0",
   "metadata": {},
   "source": [
    "## 1. Load placements"
   ]
  },
  {
   "cell_type": "code",
   "execution_count": 2,
   "id": "4c12af5d-2894-43f2-b66c-bbb64d40d7d5",
   "metadata": {},
   "outputs": [
    {
     "data": {
      "text/plain": [
       "Dict{String, Any} with 4 entries:\n",
       "  \"successful_tier_1_range\" => 2018:2023\n",
       "  \"placement_matrix\"        => [761 115 … 8 0; 879 569 … 48 4; … ; 165 244 … 20…\n",
       "  \"successful_tier_1\"       => 2098\n",
       "  \"unmatched\"               => [300, 544, 667, 364, 273]"
      ]
     },
     "execution_count": 2,
     "metadata": {},
     "output_type": "execute_result"
    }
   ],
   "source": [
    "placement_matrices = load(\"placement_matrices.jld\")"
   ]
  },
  {
   "cell_type": "code",
   "execution_count": 3,
   "id": "fbb8fb48-1ed2-40ca-94bd-1f5120897154",
   "metadata": {},
   "outputs": [
    {
     "data": {
      "text/plain": [
       "10×5 Matrix{Int64}:\n",
       " 761  115   41    8    0\n",
       " 879  569  148   48    4\n",
       " 839  993  443   60   14\n",
       " 176  306  217  140   11\n",
       "   3   14   16   15   46\n",
       " 582  596  301   79   19\n",
       " 700  438  244   68   24\n",
       " 218  187  114   39    9\n",
       " 165  244  315  201  104\n",
       " 676  967  815  309  123"
      ]
     },
     "execution_count": 3,
     "metadata": {},
     "output_type": "execute_result"
    }
   ],
   "source": [
    "placement_rates_raw = placement_matrices[\"placement_matrix\"]"
   ]
  },
  {
   "cell_type": "code",
   "execution_count": 4,
   "id": "9e272bee-12f9-4e47-8a7f-15d0f286e01b",
   "metadata": {},
   "outputs": [
    {
     "data": {
      "text/plain": [
       "5-element Vector{Int64}:\n",
       " 300\n",
       " 544\n",
       " 667\n",
       " 364\n",
       " 273"
      ]
     },
     "execution_count": 4,
     "metadata": {},
     "output_type": "execute_result"
    }
   ],
   "source": [
    "unmatched_raw = placement_matrices[\"unmatched\"]"
   ]
  },
  {
   "cell_type": "code",
   "execution_count": 5,
   "id": "ff331bd7-5c27-44b9-911a-93f7e0bb28cd",
   "metadata": {},
   "outputs": [
    {
     "data": {
      "text/plain": [
       "10"
      ]
     },
     "execution_count": 5,
     "metadata": {},
     "output_type": "execute_result"
    }
   ],
   "source": [
    "k = size(placement_rates_raw)[2]\n",
    "K = size(placement_rates_raw)[1]"
   ]
  },
  {
   "cell_type": "markdown",
   "id": "d6454f94-557d-47be-ae2a-83441835c64d",
   "metadata": {},
   "source": [
    "## 2. Rescale placements (successes and failures) using registrations"
   ]
  },
  {
   "cell_type": "code",
   "execution_count": 6,
   "id": "1a2e2a37-cc30-45d5-89d2-bf284ffb9c7f",
   "metadata": {},
   "outputs": [
    {
     "data": {
      "text/plain": [
       "5-element Vector{Any}:\n",
       " 2664\n",
       " 3635\n",
       " 4481\n",
       " 2284\n",
       " 1347"
      ]
     },
     "execution_count": 6,
     "metadata": {},
     "output_type": "execute_result"
    }
   ],
   "source": [
    "# conduct adjustment using the relative m_t values\n",
    "adjustment_matrix = load(\"adjustment_matrix.jld\")\n",
    "m_t_values = adjustment_matrix[\"data\"][:, 1]"
   ]
  },
  {
   "cell_type": "code",
   "execution_count": 7,
   "id": "e00665ff-dce3-4798-8adf-d50d19fcab00",
   "metadata": {},
   "outputs": [
    {
     "data": {
      "text/plain": [
       "5-element Vector{Int64}:\n",
       " 5299\n",
       " 4973\n",
       " 3321\n",
       " 1331\n",
       "  627"
      ]
     },
     "execution_count": 7,
     "metadata": {},
     "output_type": "execute_result"
    }
   ],
   "source": [
    "m_t_placements = zeros(Int, k)\n",
    "for t in 1:k\n",
    "    m_t_placements[t] = sum(placement_rates_raw[:, t]) + unmatched_raw[t]\n",
    "end\n",
    "m_t_placements"
   ]
  },
  {
   "cell_type": "code",
   "execution_count": 8,
   "id": "382cc3cf-8759-483c-9415-0ff3ecba95c4",
   "metadata": {},
   "outputs": [
    {
     "data": {
      "text/plain": [
       "10×5 Matrix{Int64}:\n",
       " 383   84    55   14    0\n",
       " 442  416   200   82    9\n",
       " 422  726   598  103   30\n",
       "  88  224   293  240   24\n",
       "   2   10    22   26   99\n",
       " 293  436   406  136   41\n",
       " 352  320   329  117   52\n",
       " 110  137   154   67   19\n",
       "  83  178   425  345  223\n",
       " 340  707  1100  530  264"
      ]
     },
     "execution_count": 8,
     "metadata": {},
     "output_type": "execute_result"
    }
   ],
   "source": [
    "placement_rates_rescaled = zeros(Int, K, k)\n",
    "unmatched_rescaled = zeros(Int, k)\n",
    "\n",
    "for i in 1:K\n",
    "    for t in 1:k\n",
    "        placement_rates_rescaled[i, t] = round(m_t_values[t] * (placement_rates_raw[i, t] / m_t_placements[t]))\n",
    "    end\n",
    "end\n",
    "\n",
    "for t in 1:k\n",
    "    unmatched_rescaled[t] = round(m_t_values[t] * (unmatched_raw[t] / m_t_placements[t]))\n",
    "end\n",
    "\n",
    "placement_rates_rescaled"
   ]
  },
  {
   "cell_type": "code",
   "execution_count": 9,
   "id": "014bea2a-dba0-4afe-a26c-5294a91eb24f",
   "metadata": {},
   "outputs": [
    {
     "data": {
      "text/plain": [
       "5-element Vector{Int64}:\n",
       " 151\n",
       " 398\n",
       " 900\n",
       " 625\n",
       " 586"
      ]
     },
     "execution_count": 9,
     "metadata": {},
     "output_type": "execute_result"
    }
   ],
   "source": [
    "unmatched_rescaled"
   ]
  },
  {
   "cell_type": "markdown",
   "id": "b58c06f9-5569-4fe8-9038-f631293b278c",
   "metadata": {},
   "source": [
    "## 3. Collapse sinks and delete graduating tier 5 (tier 5 becomes part of the sinks)"
   ]
  },
  {
   "cell_type": "code",
   "execution_count": 10,
   "id": "13ce6f01-f5c1-4713-a9cb-2dda4947fdbd",
   "metadata": {},
   "outputs": [
    {
     "name": "stdout",
     "output_type": "stream",
     "text": [
      "original dimensions: 10 by 5\n"
     ]
    }
   ],
   "source": [
    "println(\"original dimensions: \", K, \" by \", k)"
   ]
  },
  {
   "cell_type": "code",
   "execution_count": 11,
   "id": "efa9ae51-7c3a-4682-a297-4739926642dd",
   "metadata": {},
   "outputs": [
    {
     "data": {
      "text/plain": [
       "7"
      ]
     },
     "execution_count": 11,
     "metadata": {},
     "output_type": "execute_result"
    }
   ],
   "source": [
    "k -= 1\n",
    "K = k + 3"
   ]
  },
  {
   "cell_type": "code",
   "execution_count": 12,
   "id": "4fbe3972-0375-4510-8de7-bde7ba2e3637",
   "metadata": {},
   "outputs": [
    {
     "name": "stdout",
     "output_type": "stream",
     "text": [
      "new dimensions: 7 by 4\n"
     ]
    }
   ],
   "source": [
    "println(\"new dimensions: \", K, \" by \", k)"
   ]
  },
  {
   "cell_type": "code",
   "execution_count": 13,
   "id": "3d5e9e4d-1081-48bb-817d-e98a66294ec0",
   "metadata": {},
   "outputs": [
    {
     "data": {
      "text/plain": [
       "7×4 Matrix{Int64}:\n",
       " 383    84    55   14\n",
       " 442   416   200   82\n",
       " 422   726   598  103\n",
       "  88   224   293  240\n",
       " 293   436   406  136\n",
       " 352   320   329  117\n",
       " 535  1032  1701  968"
      ]
     },
     "execution_count": 13,
     "metadata": {},
     "output_type": "execute_result"
    }
   ],
   "source": [
    "placement_rates = zeros(Int, K, k)\n",
    "for i in 1:4 # NOTE: hardcoded\n",
    "    for t in 1:k\n",
    "        placement_rates[i, t] = placement_rates_rescaled[i, t]\n",
    "    end\n",
    "end\n",
    "\n",
    "for i in 5:6 # NOTE: hardcoded\n",
    "    for t in 1:k\n",
    "        placement_rates[i, t] = placement_rates_rescaled[i+1, t]\n",
    "    end\n",
    "end\n",
    "\n",
    "for t in 1:k\n",
    "    # NOTE: hardcoded\n",
    "    for original_sink_tier in [5, 8, 9, 10]\n",
    "        placement_rates[K, t] += placement_rates_rescaled[original_sink_tier, t] \n",
    "    end\n",
    "end\n",
    "\n",
    "unmatched = zeros(Int, k)\n",
    "for t in 1:k\n",
    "    unmatched[t] = unmatched_rescaled[t]\n",
    "end\n",
    "\n",
    "placement_rates"
   ]
  },
  {
   "cell_type": "code",
   "execution_count": 14,
   "id": "f6d26159-43a7-4ae3-a112-153bc654fb01",
   "metadata": {},
   "outputs": [
    {
     "data": {
      "text/plain": [
       "4-element Vector{Int64}:\n",
       " 151\n",
       " 398\n",
       " 900\n",
       " 625"
      ]
     },
     "execution_count": 14,
     "metadata": {},
     "output_type": "execute_result"
    }
   ],
   "source": [
    "unmatched"
   ]
  },
  {
   "cell_type": "markdown",
   "id": "54dcbc22-a2c6-4ac9-93ff-f92f1d189356",
   "metadata": {},
   "source": [
    "## 3a. Latex version of the new table"
   ]
  },
  {
   "cell_type": "code",
   "execution_count": 15,
   "id": "ff89bc28-bd0a-4f4a-8e4e-9cdfc95970c1",
   "metadata": {},
   "outputs": [],
   "source": [
    "presentation_table = zeros(Int, K+1, k)\n",
    "for i in 1:K, t in 1:k\n",
    "    presentation_table[i, t] = placement_rates[i, t]\n",
    "end\n",
    "\n",
    "for t in 1:k\n",
    "    presentation_table[K+1, t] = unmatched[t]\n",
    "end"
   ]
  },
  {
   "cell_type": "code",
   "execution_count": 16,
   "id": "2f7cdb62-a262-4f42-9a25-e6148569a4a8",
   "metadata": {},
   "outputs": [
    {
     "data": {
      "text/plain": [
       "Main.SBM"
      ]
     },
     "execution_count": 16,
     "metadata": {},
     "output_type": "execute_result"
    }
   ],
   "source": [
    "include(\"type_allocation_base_by_applicant.jl\")"
   ]
  },
  {
   "cell_type": "code",
   "execution_count": 17,
   "id": "44b281ba-3c06-4e96-a425-c26143e6f851",
   "metadata": {},
   "outputs": [
    {
     "data": {
      "text/plain": [
       "8×4 Matrix{Int64}:\n",
       " 383    84    55   14\n",
       " 442   416   200   82\n",
       " 422   726   598  103\n",
       "  88   224   293  240\n",
       " 293   436   406  136\n",
       " 352   320   329  117\n",
       " 535  1032  1701  968\n",
       " 151   398   900  625"
      ]
     },
     "execution_count": 17,
     "metadata": {},
     "output_type": "execute_result"
    }
   ],
   "source": [
    "presentation_table"
   ]
  },
  {
   "cell_type": "code",
   "execution_count": 18,
   "id": "2ef3fa5e-0884-45cc-8580-10cae2337626",
   "metadata": {},
   "outputs": [
    {
     "name": "stdout",
     "output_type": "stream",
     "text": [
      "┌────────────────┬────────┬────────┬────────┬────────┬────────────┐\n",
      "│\u001b[1m                \u001b[0m│\u001b[1m Tier 1 \u001b[0m│\u001b[1m Tier 2 \u001b[0m│\u001b[1m Tier 3 \u001b[0m│\u001b[1m Tier 4 \u001b[0m│\u001b[1m Row Totals \u001b[0m│\n",
      "├────────────────┼────────┼────────┼────────┼────────┼────────────┤\n",
      "│         Tier 1 │    383 │     84 │     55 │     14 │        536 │\n",
      "│         Tier 2 │    442 │    416 │    200 │     82 │       1140 │\n",
      "│         Tier 3 │    422 │    726 │    598 │    103 │       1849 │\n",
      "│         Tier 4 │     88 │    224 │    293 │    240 │        845 │\n",
      "│  Public Sector │    293 │    436 │    406 │    136 │       1271 │\n",
      "│ Private Sector │    352 │    320 │    329 │    117 │       1118 │\n",
      "│          Other │    535 │   1032 │   1701 │    968 │       4236 │\n",
      "│      Unmatched │    151 │    398 │    900 │    625 │       2074 │\n",
      "│  Column Totals │   2666 │   3636 │   4482 │   2285 │      13069 │\n",
      "└────────────────┴────────┴────────┴────────┴────────┴────────────┘\n",
      "\\begin{tabular}{rrrrrr}\n",
      "  \\hline\n",
      "   & \\textbf{Tier 1} & \\textbf{Tier 2} & \\textbf{Tier 3} & \\textbf{Tier 4} & \\textbf{Row Totals} \\\\\\hline\n",
      "  Tier 1 & 383 & 84 & 55 & 14 & 536 \\\\\n",
      "  Tier 2 & 442 & 416 & 200 & 82 & 1140 \\\\\n",
      "  Tier 3 & 422 & 726 & 598 & 103 & 1849 \\\\\n",
      "  Tier 4 & 88 & 224 & 293 & 240 & 845 \\\\\n",
      "  Public Sector & 293 & 436 & 406 & 136 & 1271 \\\\\n",
      "  Private Sector & 352 & 320 & 329 & 117 & 1118 \\\\\n",
      "  Other & 535 & 1032 & 1701 & 968 & 4236 \\\\\n",
      "  Unmatched & 151 & 398 & 900 & 625 & 2074 \\\\\n",
      "  Column Totals & 2666 & 3636 & 4482 & 2285 & 13069 \\\\\\hline\n",
      "\\end{tabular}\n"
     ]
    }
   ],
   "source": [
    "sink_names_to_present = [\n",
    "    \"Public Sector\",\n",
    "    \"Private Sector\",\n",
    "    \"Other\",\n",
    "    \"Unmatched\"\n",
    "]\n",
    "SBM.nice_table(presentation_table, k, (K - k) + 1, sink_names_to_present)"
   ]
  },
  {
   "cell_type": "markdown",
   "id": "be7b0f52-5cbb-475b-ba2c-4be5c940b6eb",
   "metadata": {},
   "source": [
    "## 4. Compute $m$ and $\\gamma_t$"
   ]
  },
  {
   "cell_type": "code",
   "execution_count": 19,
   "id": "28d3a3e0-afc8-4ba1-b637-1c657ac888fc",
   "metadata": {},
   "outputs": [
    {
     "name": "stdout",
     "output_type": "stream",
     "text": [
      "successful graduates: 10995\n",
      "[2515, 3238, 3582, 1660]\n",
      "\n"
     ]
    },
    {
     "data": {
      "text/plain": [
       "14411"
      ]
     },
     "execution_count": 19,
     "metadata": {},
     "output_type": "execute_result"
    }
   ],
   "source": [
    "res = (; placements = placement_rates) \n",
    "\n",
    "M = sum(res.placements)\n",
    "\n",
    "successful_graduates = [sum(res.placements[:, t]) for t in 1:k]\n",
    "println(\"successful graduates: \", M)\n",
    "println(successful_graduates)\n",
    "println()\n",
    "\n",
    "estimated_m_val = sum(m_t_values)"
   ]
  },
  {
   "cell_type": "code",
   "execution_count": 20,
   "id": "0dff8e9b-f0c6-496f-bd57-5fcaa24e834d",
   "metadata": {},
   "outputs": [
    {
     "data": {
      "text/plain": [
       "5-element Vector{Float64}:\n",
       " 0.1848587884255083\n",
       " 0.25223787384636737\n",
       " 0.31094302963014364\n",
       " 0.15849004232877664\n",
       " 0.09347026576920409"
      ]
     },
     "execution_count": 20,
     "metadata": {},
     "output_type": "execute_result"
    }
   ],
   "source": [
    "estimated_γ = m_t_values / estimated_m_val"
   ]
  },
  {
   "cell_type": "markdown",
   "id": "9982c6a2-3ded-4e07-b06c-77bccf3160ab",
   "metadata": {},
   "source": [
    "## 5. Estimate $\\frac{v_{t+1}}{v_t}$ and $\\tau$ simultaneously"
   ]
  },
  {
   "cell_type": "code",
   "execution_count": 21,
   "id": "8f0ffc66-8a4b-4b7c-97ab-0dd850eec9ad",
   "metadata": {},
   "outputs": [
    {
     "data": {
      "text/plain": [
       "ρ_q (generic function with 1 method)"
      ]
     },
     "execution_count": 21,
     "metadata": {},
     "output_type": "execute_result"
    }
   ],
   "source": [
    "# define p_vec as e.g.\n",
    "# [v2/v1 v3/v2 v4/v3 α1 α2 α3 α4 mu1 mu2 mu3 mu4 mus sg1 sg2 sg3 sg4 sgs]\n",
    "\n",
    "function q_prob(t, v_rel, mkt_balance_ratio, gamma, k)\n",
    "    numerator = prod([v_rel[s] for s in t:k-1])\n",
    "    denominator = exp(1 / mkt_balance_ratio) * prod([((v_rel[s])^(sum(gamma[1:s]))) for s in 1:k-1])\n",
    "    return numerator / denominator\n",
    "end\n",
    "\n",
    "function F(x, ρ, normals, K)\n",
    "    sum_base = 0.0\n",
    "    for i in 1:K\n",
    "        sum_base += ρ[i] * cdf(normals[i], x)\n",
    "    end\n",
    "    return sum_base\n",
    "end\n",
    "\n",
    "function f_integrand(integrals, x, p) \n",
    "    base_exp = exp(F(x, p.ρ, p.normals, p.K) / sum(p.α[1:p.s]))\n",
    "    for i in 1:p.K\n",
    "        integrals[i] = base_exp * pdf(p.normals[i], x)\n",
    "    end\n",
    "end\n",
    "\n",
    "function get_integrals(x_vec, ρ, normals, α, k, K)\n",
    "    # Fx_vec = [F(x0)=1, F(x1), F(x2), F(x3), ..., F(xk-1)]\n",
    "    # x_vec = [x0 = 1, x1, x2, x3, ..., xk = 0]\n",
    "    # x_vec[s] = x_{s-1}, so the limits of integration are and must be offset by 1 below\n",
    "    all_integrals = zeros(K, k)\n",
    "    for s in 1:k\n",
    "        # https://docs.sciml.ai/Integrals/stable/basics/SampledIntegralProblem/ might be faster\n",
    "        # if f_integrand(x) can be vectorized/sped up\n",
    "        prob = IntegralProblem(IntegralFunction(f_integrand, zeros(K)), (x_vec[s+1], x_vec[s]), (; s, ρ, normals, α, K))\n",
    "        sol = solve(prob, CubatureJLh(); reltol = 1e-3, abstol = 1e-3)\n",
    "        integrals_result = sol.u\n",
    "        # NOTE: result may be inf if alpha_1 is too small\n",
    "        # NOTE: some parameter values for μ and σ may cause the cdf F_i to be NaN\n",
    "        for i in 1:K \n",
    "            all_integrals[i, s] = integrals_result[i]\n",
    "        end\n",
    "    end\n",
    "    return all_integrals\n",
    "end      \n",
    "\n",
    "function q(i, t, all_integrals, Fx_vec, α, v_rel, k)\n",
    "    return α[t] * sum([(1/sum(α[1:s])) * prod([v_rel[j] for j in t:(s-1)]) * exp(-Fx_vec[s] / sum(α[1:s])) * all_integrals[i, s] for s in t:k])\n",
    "end\n",
    "\n",
    "function Fx(t, α, v_rel)\n",
    "    return 1 - sum([-log(v_rel[j])*sum(α[1:j]) for j in 1:t])\n",
    "end\n",
    "\n",
    "function pi(t, α)\n",
    "    return α[t] / sum(α[1:t])\n",
    "end\n",
    "\n",
    "function ρ_q(t, α, v_rel, k)\n",
    "    Fx_km1 = Fx(k-1, α, v_rel)\n",
    "    if Fx_km1 <= 0\n",
    "        return -1\n",
    "    end\n",
    "    last_term = prod([v_rel[j] for j in t:(k-1)]) * (1 - exp((0 - Fx_km1) / sum(α[1:k])))\n",
    "    return α[t] * (sum([prod([v_rel[j] for j in t:(s-1)]) * (1 - v_rel[s]) for s in t:(k-1)]) + last_term)\n",
    "end"
   ]
  },
  {
   "cell_type": "code",
   "execution_count": 22,
   "id": "5600d6c7-0c07-45f3-9eea-0c5c64db0f83",
   "metadata": {},
   "outputs": [
    {
     "data": {
      "text/plain": [
       "estimate_parameters_stage_1 (generic function with 1 method)"
      ]
     },
     "execution_count": 22,
     "metadata": {},
     "output_type": "execute_result"
    }
   ],
   "source": [
    "function estimate_parameters_stage_1(p_vec, placements, γ, m_val, k)\n",
    "    v_rel = p_vec[1:k-1]\n",
    "    τ = p_vec[k]\n",
    "    α = τ * γ\n",
    "\n",
    "    n_val = (m_val / τ) + 1\n",
    "\n",
    "    objective = 0.0\n",
    "\n",
    "    ρ_q_t = zeros(k)\n",
    "    for t in 1:k\n",
    "        prob = ρ_q(t, α, v_rel, k)\n",
    "        if prob < 0\n",
    "            return Inf\n",
    "        end\n",
    "        ρ_q_t[t] = prob\n",
    "    end\n",
    "\n",
    "    for t in 1:k\n",
    "        prob = ρ_q_t[t]\n",
    "        expectation = n_val * prob\n",
    "        objective += ((sum(placements[:, t]) - expectation) ^ 2) / expectation\n",
    "    end\n",
    "    \n",
    "    return objective\n",
    "end"
   ]
  },
  {
   "cell_type": "code",
   "execution_count": 23,
   "id": "d6608381-4af8-407d-932c-c1524dbbb4bc",
   "metadata": {},
   "outputs": [
    {
     "name": "stdout",
     "output_type": "stream",
     "text": [
      "Starting optimization with optimizer DiffEvoOpt{FitPopulation{Float64}, RadiusLimitedSelector, BlackBoxOptim.AdaptiveDiffEvoRandBin{3}, RandomBound{ContinuousRectSearchSpace}}\n",
      "0.00 secs, 0 evals, 0 steps\n",
      "\n",
      "Optimization stopped after 1099017 steps and 1.82 seconds\n",
      "Termination reason: Max number of function evaluations (1000000) reached\n",
      "Steps per second = 602531.21\n",
      "Function evals per second = 548246.13\n",
      "Improvements/step = Inf\n",
      "Total function evaluations = 1000001\n",
      "\n",
      "\n",
      "Best candidate found: [0.512286, 0.544467, 0.734376, 0.556643]\n",
      "\n",
      "Fitness: 0.000000000\n",
      "\n"
     ]
    },
    {
     "data": {
      "text/plain": [
       "4-element Vector{Float64}:\n",
       " 0.5122856729316837\n",
       " 0.5444666789677739\n",
       " 0.7343759862308326\n",
       " 0.5566428717441424"
      ]
     },
     "execution_count": 23,
     "metadata": {},
     "output_type": "execute_result"
    }
   ],
   "source": [
    "Random.seed!(0)\n",
    "\n",
    "# upper/lower bound on v_rel\n",
    "upper_1 = [1.0 for _ in 1:k-1]\n",
    "lower_1 = [0.0 for _ in 1:k-1]\n",
    "\n",
    "# upper/lower bound on τ\n",
    "append!(upper_1, [10.0 for _ in 1:1])\n",
    "append!(lower_1, [0.25 for _ in 1:1])\n",
    "\n",
    "search_range_1 = [(lower_1[i], upper_1[i]) for i in eachindex(upper_1)]\n",
    "sol_res_1 = bboptimize(p -> estimate_parameters_stage_1(p, res.placements, estimated_γ, estimated_m_val, k), SearchRange = search_range_1, MaxFuncEvals = 1000000, TraceInterval = 5) \n",
    "# MaxTime = 60.0, MaxFuncEvals = 500000,\n",
    "sol_1 = best_candidate(sol_res_1)"
   ]
  },
  {
   "cell_type": "code",
   "execution_count": 24,
   "id": "81211f92-4ca5-46b2-b0b3-232aaa3181c9",
   "metadata": {},
   "outputs": [
    {
     "data": {
      "text/plain": [
       "0.5566428717441424"
      ]
     },
     "execution_count": 24,
     "metadata": {},
     "output_type": "execute_result"
    }
   ],
   "source": [
    "estimated_v_rel = sol_1[1:k-1]\n",
    "estimated_τ = sol_1[k]"
   ]
  },
  {
   "cell_type": "code",
   "execution_count": 25,
   "id": "a5e8f3b8-06fe-4474-b1dc-472e74860f4c",
   "metadata": {},
   "outputs": [
    {
     "name": "stdout",
     "output_type": "stream",
     "text": [
      "estimated value ratios:\n"
     ]
    },
    {
     "data": {
      "text/plain": [
       "3-element Vector{Float64}:\n",
       " 0.5122856729316837\n",
       " 0.5444666789677739\n",
       " 0.7343759862308326"
      ]
     },
     "metadata": {},
     "output_type": "display_data"
    },
    {
     "name": "stdout",
     "output_type": "stream",
     "text": [
      "\n",
      "v1: 1\n",
      "v2: 0.5122856729316837\n",
      "v3: 0.27892247902388506\n",
      "v4: 0.2048339706151143\n",
      "\n",
      "estimated market balance ratio (m / (n-1)): 0.5566428717441424\n",
      "estimated total departments: 25890.130592556892\n",
      "estimated α_t: [0.10290032685631777, 0.14040641446047863, 0.17308422096214712, 0.08822235230474092, 0.05202955716045797]\n"
     ]
    }
   ],
   "source": [
    "println(\"estimated value ratios:\")\n",
    "display(estimated_v_rel)\n",
    "println()\n",
    "estimated_v_base = 1\n",
    "for i in 1:k\n",
    "    println(\"v\", i, \": \", estimated_v_base)\n",
    "    if i != k\n",
    "        estimated_v_base = estimated_v_rel[i] * estimated_v_base\n",
    "    end\n",
    "end\n",
    "println()\n",
    "\n",
    "println(\"estimated market balance ratio (m / (n-1)): \", estimated_τ)\n",
    "\n",
    "estimated_n_val = (estimated_m_val / estimated_τ) + 1\n",
    "println(\"estimated total departments: \", estimated_n_val)\n",
    "estimated_α = estimated_τ * estimated_γ\n",
    "println(\"estimated α_t: \", estimated_α)"
   ]
  },
  {
   "cell_type": "markdown",
   "id": "66d3f5bf-410e-40b9-9e28-13c81aeb7cef",
   "metadata": {},
   "source": [
    "## 6. Estimate $\\rho_i$, $\\mu_i$ and $\\sigma_i$"
   ]
  },
  {
   "cell_type": "code",
   "execution_count": 26,
   "id": "2e2bfa5a-e401-4115-96eb-9db8c318782c",
   "metadata": {},
   "outputs": [
    {
     "data": {
      "text/plain": [
       "estimate_likelihood_2 (generic function with 1 method)"
      ]
     },
     "execution_count": 26,
     "metadata": {},
     "output_type": "execute_result"
    }
   ],
   "source": [
    "function estimate_likelihood_2(p_vec, v_rel, α, placements, k, K, counter)   \n",
    "    μ = p_vec[1:K]\n",
    "    σ = p_vec[K+1:2K]\n",
    "    ρ_vec = p_vec[2K+1:3K]\n",
    "    ρ = ρ_vec / sum(ρ_vec)\n",
    "\n",
    "    ## compute the cutoffs x and the CDF values F(x)\n",
    "    normals = [truncated(Normal(μ[i], σ[i]), 0, 1) for i in 1:K]\n",
    "\n",
    "    Fx_vec = ones(k) # sets F(x0) = 1 by default; Fx_vec = [F(x0)=1, F(x1), F(x2), F(x3), ..., F(xk-1)]\n",
    "    x_vec = ones(k+1) # x_vec = [x0 = 1, x1, x2, x3, ..., xk = 0]\n",
    "    x_vec[k+1] = 0.0\n",
    "    for t in 1:k-1\n",
    "        Fx_vec_candidate = Fx(t, α, v_rel)\n",
    "        if Fx_vec_candidate <= 0.0 # TODO: if this case occurs, can we speed up q()?\n",
    "            Fx_vec[t+1:k] .= 0.0\n",
    "            x_vec[t+1:k] .= 0.0\n",
    "            break\n",
    "        end\n",
    "        Fx_vec[t+1] = Fx_vec_candidate\n",
    "        # there is no simple closed-form for F^{-1}(x) so this numerically computes x1, x2, x3\n",
    "        x_vec[t+1] = find_zero(x -> F(x, ρ, normals, K) - Fx_vec[t+1], 0.5) \n",
    "    end \n",
    "\n",
    "    ρ_q_it = zeros(K, k)\n",
    "    all_integrals = get_integrals(x_vec, ρ, normals, α, k, K)\n",
    "    for i in 1:K, t in 1:k\n",
    "        prob = q(i, t, all_integrals, Fx_vec, α, v_rel, k)\n",
    "        ρ_q_it[i, t] = ρ[i] * prob\n",
    "    end\n",
    "\n",
    "    normalizer = sum(ρ_q_it)\n",
    "    likelihood = 0.0\n",
    "    for i in 1:K, t in 1:k\n",
    "        likelihood += placements[i, t] * log(ρ_q_it[i, t] / normalizer)\n",
    "    end\n",
    "\n",
    "    counter[1] += 1\n",
    "    if isnan(-likelihood) || isinf(-likelihood)\n",
    "        println(all_integrals)\n",
    "    end\n",
    "    return -likelihood\n",
    "end"
   ]
  },
  {
   "cell_type": "code",
   "execution_count": 27,
   "id": "c21373e9-e468-4f02-9b7a-d31afe54ad54",
   "metadata": {},
   "outputs": [
    {
     "name": "stdout",
     "output_type": "stream",
     "text": [
      "Starting optimization with optimizer DiffEvoOpt{FitPopulation{Float64}, RadiusLimitedSelector, BlackBoxOptim.AdaptiveDiffEvoRandBin{3}, RandomBound{ContinuousRectSearchSpace}}\n",
      "0.00 secs, 0 evals, 0 steps\n",
      "5.00 secs, 76932 evals, 76848 steps, improv/step: 0.152 (last = 0.1520), fitness=32958.020164765\n",
      "\n",
      "Optimization stopped after 99920 steps and 6.46 seconds\n",
      "Termination reason: Max number of function evaluations (100000) reached\n",
      "Steps per second = 15474.68\n",
      "Function evals per second = 15487.22\n",
      "Improvements/step = Inf\n",
      "Total function evaluations = 100001\n",
      "\n",
      "\n",
      "Best candidate found: [2.48187, 0.476956, 0.429753, -3.75801, 0.358705, 0.259537, -1.9431, 1.12772, 0.204324, 0.129073, 0.781558, 0.193066, 0.317809, 0.626995, 0.0598635, 0.150327, 0.253075, 0.201793, 0.189327, 0.171214, 0.951925]\n",
      "\n",
      "Fitness: 32957.641938295\n",
      "\n"
     ]
    },
    {
     "data": {
      "text/plain": [
       "21-element Vector{Float64}:\n",
       "  2.4818710527218975\n",
       "  0.4769560887214227\n",
       "  0.42975270854979014\n",
       " -3.7580123862225494\n",
       "  0.3587047301872907\n",
       "  0.25953737991481907\n",
       " -1.9430982461295008\n",
       "  1.127724685979468\n",
       "  0.20432380588551424\n",
       "  0.12907254182249672\n",
       "  0.7815575056380789\n",
       "  0.19306584290756887\n",
       "  0.31780910716226135\n",
       "  0.6269948878326131\n",
       "  0.05986349312906927\n",
       "  0.15032694156861626\n",
       "  0.25307530916916493\n",
       "  0.20179295993429938\n",
       "  0.18932745094154657\n",
       "  0.17121354984965304\n",
       "  0.9519247758700972"
      ]
     },
     "execution_count": 27,
     "metadata": {},
     "output_type": "execute_result"
    }
   ],
   "source": [
    "Random.seed!(0)\n",
    "\n",
    "# upper/lower bound on the mu parameter of truncated normal\n",
    "upper_2 = [4.0 for _ in 1:K]\n",
    "lower_2 = [-4.0 for _ in 1:K]\n",
    "\n",
    "# upper/lower bound on the sigma parameter of truncated normal\n",
    "append!(upper_2, [10.0 for _ in 1:K])\n",
    "append!(lower_2, [0.12 for _ in 1:K])\n",
    "\n",
    "# upper/lower bound on values proportional to ρ_i\n",
    "append!(upper_2, [1.0 for _ in 1:K])\n",
    "append!(lower_2, [0.0 for _ in 1:K])\n",
    "\n",
    "counter = [0]\n",
    "\n",
    "search_range_2 = [(lower_2[i], upper_2[i]) for i in eachindex(upper_2)]\n",
    "sol_res_2 = bboptimize(p -> estimate_likelihood_2(p, estimated_v_rel, estimated_α, res.placements, k, K, counter), SearchRange = search_range_2, MaxFuncEvals = 100000, TraceInterval = 5) \n",
    "# MaxTime = 60.0, MaxFuncEvals = 500000,\n",
    "sol_2 = best_candidate(sol_res_2)"
   ]
  },
  {
   "cell_type": "code",
   "execution_count": 28,
   "id": "ff418063-81d6-465d-a31d-bd3a52be5380",
   "metadata": {},
   "outputs": [
    {
     "data": {
      "image/png": "[encoded data removed]",
      "text/plain": [
       "Figure(<py Figure size 640x480 with 1 Axes>)"
      ]
     },
     "metadata": {},
     "output_type": "display_data"
    }
   ],
   "source": [
    "point_grid = [i for i in range(0, 1; length = 10001)]\n",
    "for select_type in 1:K\n",
    "    plot(point_grid, [cdf(truncated(Normal(sol_2[select_type], sol_2[select_type+K]), 0, 1), x) for x in point_grid], label = string(\"Type \", select_type))\n",
    "end\n",
    "\n",
    "title(\"Estimated CDFs of Types\")\n",
    "xlabel(\"offer value\")\n",
    "ylabel(\"\\$F_i\\$(offer value\\$)\\$\")\n",
    "legend();"
   ]
  },
  {
   "cell_type": "code",
   "execution_count": 29,
   "id": "ff49528d-7a32-4fbc-97c0-c89a103f0d67",
   "metadata": {},
   "outputs": [
    {
     "data": {
      "image/png": "[encoded data removed]",
      "text/plain": [
       "Figure(<py Figure size 640x480 with 1 Axes>)"
      ]
     },
     "metadata": {},
     "output_type": "display_data"
    }
   ],
   "source": [
    "for select_type in 1:K\n",
    "    plot(point_grid, [pdf(truncated(Normal(sol_2[select_type], sol_2[select_type+K]), 0, 1), x) for x in point_grid], label = string(\"Type \", select_type))\n",
    "end\n",
    "title(\"Estimated PDFs of Types\")\n",
    "xlabel(\"offer value\")\n",
    "ylabel(\"\\$f_i\\$(offer value\\$)\\$\")\n",
    "legend();"
   ]
  },
  {
   "cell_type": "code",
   "execution_count": 30,
   "id": "34d2a0de-82d2-4e95-9ff7-9946afef0cda",
   "metadata": {},
   "outputs": [
    {
     "name": "stdout",
     "output_type": "stream",
     "text": [
      "Type 1:\n",
      "  est. mean:   0.6218731109376237\n",
      "  est. stddev: 0.26941936271681677\n",
      "\n",
      "Type 2:\n",
      "  est. mean:   0.47925817202255716\n",
      "  est. stddev: 0.1937007212849477\n",
      "\n",
      "Type 3:\n",
      "  est. mean:   0.4299514174743576\n",
      "  est. stddev: 0.12872960530650412\n",
      "\n",
      "Type 4:\n",
      "  est. mean:   0.15008981318397652\n",
      "  est. stddev: 0.14350323051369798\n",
      "\n",
      "Type 5:\n",
      "  est. mean:   0.3725486190702214\n",
      "  est. stddev: 0.17831734889909354\n",
      "\n",
      "Type 6:\n",
      "  est. mean:   0.36481522548131606\n",
      "  est. stddev: 0.2277440317418155\n",
      "\n",
      "Type 7:\n",
      "  est. mean:   0.1719001720496114\n",
      "  est. stddev: 0.15910837225118346\n",
      "\n"
     ]
    }
   ],
   "source": [
    "for select_type in 1:K\n",
    "    println(\"Type $(select_type):\")\n",
    "    println(\"  est. mean:   \", mean(truncated(Normal(sol_2[select_type], sol_2[select_type+K]), 0, 1)))\n",
    "    println(\"  est. stddev: \", std(truncated(Normal(sol_2[select_type], sol_2[select_type+K]), 0, 1)))\n",
    "    println()\n",
    "end"
   ]
  },
  {
   "cell_type": "code",
   "execution_count": 31,
   "id": "86034d7f-fa8a-49c7-ba75-7eb1083adacf",
   "metadata": {},
   "outputs": [
    {
     "data": {
      "text/plain": [
       "print_metrics (generic function with 1 method)"
      ]
     },
     "execution_count": 31,
     "metadata": {},
     "output_type": "execute_result"
    }
   ],
   "source": [
    "function print_metrics(p_vec, v_rel, gamma, mkt_balance_ratio, placements, k, K, M, m_val)\n",
    "    α = mkt_balance_ratio * gamma\n",
    "    n_val = (m_val / mkt_balance_ratio) + 1\n",
    "    \n",
    "    μ = p_vec[1:K]\n",
    "    σ = p_vec[K+1:2K]\n",
    "    ρ_vec = p_vec[2K+1:3K]\n",
    "    ρ = ρ_vec / sum(ρ_vec)\n",
    "    normals = [truncated(Normal(μ[i], σ[i]), 0, 1) for i in 1:K]\n",
    "    \n",
    "    n = n_val * ρ\n",
    "\n",
    "    ρ_q_it_true = placements / n_val\n",
    "    \n",
    "    Fx_vec = ones(k)\n",
    "    x_vec = ones(k+1)\n",
    "    x_vec[k+1] = 0.0\n",
    "    for t in 1:k-1\n",
    "        Fx_vec_candidate = Fx(t, α, v_rel)\n",
    "        if Fx_vec_candidate <= 0.0\n",
    "            Fx_vec[t+1:k] .= 0.0\n",
    "            x_vec[t+1:k] .= 0.0\n",
    "            break\n",
    "        end\n",
    "        Fx_vec[t+1] = Fx_vec_candidate\n",
    "        x_vec[t+1] = find_zero(x -> F(x, ρ, normals, K) - Fx_vec[t+1], 0.5) \n",
    "    end\n",
    "\n",
    "    objective_chisquare = 0.0\n",
    "    objective_likelihood = 0.0\n",
    "    objective_likelihood_simple = 0.0\n",
    "    normalizer = 0.0\n",
    "    \n",
    "    q_it = zeros(K, k)\n",
    "    ρ_i_q_it = zeros(K, k)\n",
    "    all_integrals = get_integrals(x_vec, ρ, normals, α, k, K)\n",
    "    for i in 1:K, t in 1:k\n",
    "        prob = q(i, t, all_integrals, Fx_vec, α, v_rel, k)\n",
    "        q_it[i, t] = prob\n",
    "        ρ_i_q_it[i, t] = ρ[i] * prob\n",
    "        normalizer += ρ[i] * prob\n",
    "    end\n",
    "\n",
    "    round_1_failure = zeros(K)\n",
    "    for i in 1:K\n",
    "        round_1_failure[i] = (1 - sum([q_it[i, s] for s in 1:k]))\n",
    "    end\n",
    "    \n",
    "    # TODO: div by zero and negative floating point in mean\n",
    "    exp_placements = zeros(K, k)\n",
    "    for i in 1:K, t in 1:k \n",
    "        expectation = M * ρ_i_q_it[i, t] / normalizer\n",
    "        exp_placements[i, t] = expectation\n",
    "        objective_chisquare += (placements[i, t] - expectation) ^ 2 / expectation\n",
    "        objective_likelihood_simple += placements[i, t] * log(ρ_i_q_it[i, t] / normalizer)\n",
    "    end \n",
    "\n",
    "    println(\"chi-square objective value (successful placements) = \", objective_chisquare)\n",
    "\n",
    "    likelihood_probability_vector = zeros(k * K)\n",
    "    total_placements_vector = zeros(k * K)\n",
    "    vector_counter = 1\n",
    "    for i in 1:K\n",
    "        for t in 1:k\n",
    "            likelihood_probability_vector[vector_counter] = (ρ_i_q_it[i, t] / normalizer)\n",
    "            total_placements_vector[vector_counter] = placements[i, t]\n",
    "            vector_counter += 1\n",
    "        end\n",
    "    end\n",
    "    println(\"probability vector sum = \", sum(likelihood_probability_vector))\n",
    "    println(\"actual likelihood = \", loglikelihood(Multinomial(M, likelihood_probability_vector), total_placements_vector))\n",
    "    println(\"value proportional to fitness likelihood = \", -objective_likelihood_simple)\n",
    "    println()\n",
    "    println(\"estimated total departments = \", n_val)\n",
    "    println(\"successful departments in sample = \", M)\n",
    "    println(\"estimated unsuccessful departments = \", n_val - M)\n",
    "    println(\"estimated probability of department success: \", M / n_val)\n",
    "    println(\"predicted probability of department success: \", normalizer)\n",
    "    println(\"estimated probability of department failure: \", 1 - (M / n_val))\n",
    "    println()\n",
    "    println(\"estimated beliefs of proportion of departments in each tier:\")\n",
    "    for i in 1:K\n",
    "        println(\"ρ_\", i, \" = \", ρ[i])\n",
    "    end\n",
    "    println()\n",
    "    println(\"estimated departments in each tier:\")\n",
    "    for i in 1:K\n",
    "        println(\"n_\", i, \" = \", n[i])\n",
    "        println(\"  Successful (data): \", sum(placements[i, :]))\n",
    "        println(\"  Est. unsuccessful: \", n[i] - sum(placements[i, :]))\n",
    "        println(\"  Estimated success probability: \", sum(placements[i, :]) / n[i])\n",
    "        println(\"  Estimated failure probability: \", 1 - (sum(placements[i, :]) / n[i]))\n",
    "    end\n",
    "    println()\n",
    "\n",
    "    println(\"rational expectations condition:\")\n",
    "    total_sum = sum(placements) + sum([n_val * ρ[i] * (1 - sum([q_it[i, t] for t in 1:k])) for i in 1:K])\n",
    "    for i in 1:K\n",
    "        predicted_ρ_output = (sum(placements[i, :]) + n_val * ρ[i] * (1 - sum([q_it[i, t] for t in 1:k]))) / total_sum\n",
    "        println(\"tier \", i)\n",
    "        println(\"  Input rho: \", ρ[i])\n",
    "        println(\"  Predicted rho: \", predicted_ρ_output)\n",
    "        println(\"  Predicted - Input: \", predicted_ρ_output - ρ[i])\n",
    "        println(\"  Squared Difference: \", (predicted_ρ_output - ρ[i])^2)\n",
    "    end\n",
    "    println()\n",
    "\n",
    "    println(\"expected number of tier i departments making offers to tier t graduates:\")\n",
    "    tier_selection_matrix = zeros(K, k)\n",
    "    for i in 1:K, t in 1:k \n",
    "        tier_selection_matrix[i, t] = n_val * ρ[i] * sum([((cdf(normals[i], x_vec[s]) - cdf(normals[i], x_vec[s+1])) * α[t] / sum(α[1:s])) for s in t:k])\n",
    "    end\n",
    "    display(tier_selection_matrix)\n",
    "    println()\n",
    "\n",
    "    println(\"expected number of unsuccessful departments given above matrix:\")\n",
    "    display(tier_selection_matrix - placements)\n",
    "    println()\n",
    "\n",
    "    for i in 1:k\n",
    "        println(\"pi_\", i, \" = \", pi(i, α))\n",
    "    end\n",
    "    println()\n",
    "\n",
    "    offer_targets = zeros(k, k)\n",
    "    for t in 1:k, j in 1:t\n",
    "        offer_targets[t, j] = pi(j, α) * prod([1 - pi(i, α) for i in j+1:t])\n",
    "    end\n",
    "    println(\"Tier selection probabilities for making offers:\")\n",
    "    display(offer_targets)\n",
    "    println()\n",
    "\n",
    "    println(\"Hiring probabilities (q_i^t):\")\n",
    "    display(q_it)\n",
    "    println()\n",
    "\n",
    "    println(\"Probabilities of failing (1 - sum_t q_i^t):\")\n",
    "    display(round_1_failure)\n",
    "    println()\n",
    "\n",
    "    for i in 1:k+1\n",
    "        println(\"x_\", i - 1, \" = \", x_vec[i])\n",
    "    end\n",
    "    println()\n",
    "    for i in 1:k\n",
    "        println(\"F(x_\", i - 1, \") = \", Fx_vec[i])\n",
    "    end\n",
    "    println()\n",
    "    for i in 1:k\n",
    "        println(\"α_\", i, \" = \", α[i])\n",
    "        println(\"  Est. graduates: \", α[i] * (sum(n) - 1))\n",
    "        println(\"  Successful (data): \", sum(placements[:, i]))\n",
    "        println(\"  Est. unsuccessful: \", (α[i] * (sum(n) - 1)) - sum(placements[:, i]))\n",
    "        println(\"  Exp. unsuccessful: \", (α[i] * (sum(n) - 1)) - sum(exp_placements[:, i]))\n",
    "        println(\"  Est. success probability: \", sum(placements[:, i]) / (α[i] * (sum(n) - 1)))\n",
    "        println(\"  Est. failure probability: \", 1 - (sum(placements[:, i]) / (α[i] * (sum(n) - 1))))\n",
    "        println(\"  Exp. success probability: \", sum(exp_placements[:, i]) / (α[i] * (sum(n) - 1)))\n",
    "        println(\"  Exp. failure probability: \", 1 - (sum(exp_placements[:, i]) / (α[i] * (sum(n) - 1))))\n",
    "    end\n",
    "    println()\n",
    "    println(\"estimated total graduates: \", m_val)\n",
    "    println(\"successful graduates in sample: \", M)\n",
    "    println(\"estimated unsuccessful graduates: \", m_val - M)\n",
    "    println()\n",
    "    println(\"estimated placement rates:\")\n",
    "    display(exp_placements)\n",
    "    println()\n",
    "    println(\"actual placement rates:\")\n",
    "    display(placements)\n",
    "    println()\n",
    "    println(\"difference between estimated and actual placement rates:\")\n",
    "    display(exp_placements - placements)\n",
    "    println()\n",
    "    println(\"chi-square p-value, successful placements\")\n",
    "    println(1 - cdf(Chisq((size(placements)[1] - 1) * (size(placements)[2] - 1)), objective_chisquare))\n",
    "    println()\n",
    "    println(\"estimated successful departments in each tier:\")\n",
    "    display([sum(exp_placements[i, :]) for i in 1:K])\n",
    "    println()\n",
    "    println(\"actual successful departments in each tier:\")\n",
    "    display([sum(placements[i, :]) for i in 1:K])\n",
    "    println()\n",
    "    println(\"estimated successful graduates in each tier:\")\n",
    "    display([sum(exp_placements[:, t]) for t in 1:k])\n",
    "    println()\n",
    "    println(\"actual successful graduates in each tier:\")\n",
    "    display([sum(placements[:, t]) for t in 1:k])\n",
    "    println()\n",
    "    println(\"μ parameter values\")\n",
    "    println(μ)\n",
    "    println()\n",
    "    println(\"σ parameter values\")\n",
    "    println(σ)\n",
    "    println()\n",
    "    \n",
    "    successful_department_counts = [sum(placements[i, :]) for i in 1:K]\n",
    "    successful_department_proportions = successful_department_counts / sum(successful_department_counts)\n",
    "    fraction_res = hcat(1:K, ρ, successful_department_proportions)\n",
    "    return pretty_table(fraction_res; header = [\"Tier\", \"Estimated ρ beliefs\", \"Proportion of successful depts among tiers\"])\n",
    "end"
   ]
  },
  {
   "cell_type": "code",
   "execution_count": 32,
   "id": "a1223959-2b5f-4d01-bf42-79fb50b81fbc",
   "metadata": {},
   "outputs": [
    {
     "name": "stdout",
     "output_type": "stream",
     "text": [
      "chi-square objective value (successful placements) = 45.87899483108026\n",
      "probability vector sum = 0.9999999999999999\n",
      "actual likelihood = -121.12160663432951\n",
      "value proportional to fitness likelihood = 32957.64193829472\n",
      "\n",
      "estimated total departments = 25890.130592556892\n",
      "successful departments in sample = 10995\n",
      "estimated unsuccessful departments = 14895.130592556892\n",
      "estimated probability of department success: 0.4246792020107049\n",
      "predicted probability of department success: 0.42467920200741066\n",
      "estimated probability of department failure: 0.5753207979892951\n",
      "\n",
      "estimated beliefs of proportion of departments in each tier:\n",
      "ρ_1 = 0.03027193530118531\n",
      "ρ_2 = 0.07601773988328181\n",
      "ρ_3 = 0.12797581606169697\n",
      "ρ_4 = 0.10204321712725894\n",
      "ρ_5 = 0.09573962436979395\n",
      "ρ_6 = 0.08657973721246401\n",
      "ρ_7 = 0.48137193004431905\n",
      "\n",
      "estimated departments in each tier:\n",
      "n_1 = 783.7443582371208\n",
      "  Successful (data): 536\n",
      "  Est. unsuccessful: 247.74435823712076\n",
      "  Estimated success probability: 0.6838964700245204\n",
      "  Estimated failure probability: 0.31610352997547964\n",
      "n_2 = 1968.1092129291865\n",
      "  Successful (data): 1140\n",
      "  Est. unsuccessful: 828.1092129291865\n",
      "  Estimated success probability: 0.579236148335137\n",
      "  Estimated failure probability: 0.42076385166486296\n",
      "n_3 = 3313.3105905263747\n",
      "  Successful (data): 1849\n",
      "  Est. unsuccessful: 1464.3105905263747\n",
      "  Estimated success probability: 0.5580521202228299\n",
      "  Estimated failure probability: 0.4419478797771701\n",
      "n_4 = 2641.912217509372\n",
      "  Successful (data): 845\n",
      "  Est. unsuccessful: 1796.912217509372\n",
      "  Estimated success probability: 0.3198440865671959\n",
      "  Estimated failure probability: 0.6801559134328041\n",
      "n_5 = 2478.711377816308\n",
      "  Successful (data): 1271\n",
      "  Est. unsuccessful: 1207.711377816308\n",
      "  Estimated success probability: 0.5127664363729689\n",
      "  Estimated failure probability: 0.4872335636270311\n",
      "n_6 = 2241.560703099951\n",
      "  Successful (data): 1118\n",
      "  Est. unsuccessful: 1123.5607030999508\n",
      "  Estimated success probability: 0.4987596358438429\n",
      "  Estimated failure probability: 0.5012403641561571\n",
      "n_7 = 12462.78213243858\n",
      "  Successful (data): 4236\n",
      "  Est. unsuccessful: 8226.78213243858\n",
      "  Estimated success probability: 0.3398920044485401\n",
      "  Estimated failure probability: 0.6601079955514599\n",
      "\n",
      "rational expectations condition:\n",
      "tier 1\n",
      "  Input rho: 0.03027193530118531\n",
      "  Predicted rho: 0.030263027446849784\n",
      "  Predicted - Input: -8.907854335524906e-6\n",
      "  Squared Difference: 7.934986886292986e-11\n",
      "tier 2\n",
      "  Input rho: 0.07601773988328181\n",
      "  Predicted rho: 0.07585233394729199\n",
      "  Predicted - Input: -0.00016540593598982078\n",
      "  Squared Difference: 2.7359123660668692e-8\n",
      "tier 3\n",
      "  Input rho: 0.12797581606169697\n",
      "  Predicted rho: 0.12802675410588724\n",
      "  Predicted - Input: 5.093804419026293e-5\n",
      "  Squared Difference: 2.5946843459291792e-9\n",
      "tier 4\n",
      "  Input rho: 0.10204321712725894\n",
      "  Predicted rho: 0.10207244855110592\n",
      "  Predicted - Input: 2.9231423846975968e-5\n",
      "  Squared Difference: 8.544761401215553e-10\n",
      "tier 5\n",
      "  Input rho: 0.09573962436979395\n",
      "  Predicted rho: 0.095725371326888\n",
      "  Predicted - Input: -1.4253042905948421e-5\n",
      "  Squared Difference: 2.031492320788066e-10\n",
      "tier 6\n",
      "  Input rho: 0.08657973721246401\n",
      "  Predicted rho: 0.08662010831821397\n",
      "  Predicted - Input: 4.037110574996172e-5\n",
      "  Squared Difference: 1.6298261794745923e-9\n",
      "tier 7\n",
      "  Input rho: 0.48137193004431905\n",
      "  Predicted rho: 0.481439956303763\n",
      "  Predicted - Input: 6.802625944396512e-5\n",
      "  Squared Difference: 4.627571973937653e-9\n",
      "\n",
      "expected number of tier i departments making offers to tier t graduates:\n"
     ]
    },
    {
     "data": {
      "text/plain": [
       "7×4 Matrix{Float64}:\n",
       "  531.418   148.052    78.3881    25.8863\n",
       "  899.152   651.462   330.032     87.4633\n",
       " 1137.07   1307.7     719.72     148.814\n",
       "  589.225   762.418   874.093    416.177\n",
       "  814.725   852.921   613.467    197.599\n",
       "  814.13    691.438   535.964    200.029\n",
       " 2894.85   3634.62   4045.84    1887.48"
      ]
     },
     "metadata": {},
     "output_type": "display_data"
    },
    {
     "name": "stdout",
     "output_type": "stream",
     "text": [
      "\n",
      "expected number of unsuccessful departments given above matrix:\n"
     ]
    },
    {
     "data": {
      "text/plain": [
       "7×4 Matrix{Float64}:\n",
       "  148.418    64.0515    23.3881   11.8863\n",
       "  457.152   235.462    130.032     5.4633\n",
       "  715.074   581.702    121.72     45.8145\n",
       "  501.225   538.418    581.093   176.177\n",
       "  521.725   416.921    207.467    61.5989\n",
       "  462.13    371.438    206.964    83.029\n",
       " 2359.85   2602.62    2344.84    919.477"
      ]
     },
     "metadata": {},
     "output_type": "display_data"
    },
    {
     "name": "stdout",
     "output_type": "stream",
     "text": [
      "\n",
      "pi_1 = 1.0\n",
      "pi_2 = 0.5770757263057628\n",
      "pi_3 = 0.4156771799628942\n",
      "pi_4 = 0.17483159828536435\n",
      "\n",
      "Tier selection probabilities for making offers:\n"
     ]
    },
    {
     "data": {
      "text/plain": [
       "4×4 Matrix{Float64}:\n",
       " 1.0       0.0       0.0       0.0\n",
       " 0.422924  0.577076  0.0       0.0\n",
       " 0.247124  0.337199  0.415677  0.0\n",
       " 0.203919  0.278246  0.343004  0.174832"
      ]
     },
     "metadata": {},
     "output_type": "display_data"
    },
    {
     "name": "stdout",
     "output_type": "stream",
     "text": [
      "\n",
      "Hiring probabilities (q_i^t):\n"
     ]
    },
    {
     "data": {
      "text/plain": [
       "7×4 Matrix{Float64}:\n",
       " 0.487698   0.112775   0.0619309  0.0217873\n",
       " 0.228032   0.202273   0.117816   0.0332911\n",
       " 0.121482   0.23393    0.165273   0.0369696\n",
       " 0.0355983  0.0731046  0.132035   0.0788193\n",
       " 0.118235   0.177851   0.16012    0.0567093\n",
       " 0.156159   0.147843   0.137251   0.0570392\n",
       " 0.043675   0.0811262  0.136455   0.0784942"
      ]
     },
     "metadata": {},
     "output_type": "display_data"
    },
    {
     "name": "stdout",
     "output_type": "stream",
     "text": [
      "\n",
      "Probabilities of failing (1 - sum_t q_i^t):\n"
     ]
    },
    {
     "data": {
      "text/plain": [
       "7-element Vector{Float64}:\n",
       " 0.31580926883402305\n",
       " 0.4185879656678064\n",
       " 0.44234590845305255\n",
       " 0.6804423746499841\n",
       " 0.48708469065322935\n",
       " 0.5017066523124292\n",
       " 0.6602493130167798"
      ]
     },
     "metadata": {},
     "output_type": "display_data"
    },
    {
     "name": "stdout",
     "output_type": "stream",
     "text": [
      "\n",
      "x_0 = 1.0\n",
      "x_1 = 0.6373070652984382\n",
      "x_2 = 0.45175269057132117\n",
      "x_3 = 0.3456057099979778\n",
      "x_4 = 0.0\n",
      "\n",
      "F(x_0) = 1.0\n",
      "F(x_1) = 0.9311727646366587\n",
      "F(x_2) = 0.7832547879084053\n",
      "F(x_3) = 0.6547006828076292\n",
      "\n",
      "α_1 = 0.10290032685631777\n",
      "  Est. graduates: 2664.0\n",
      "  Successful (data): 2515\n",
      "  Est. unsuccessful: 149.0\n",
      "  Exp. unsuccessful: 149.00000001472563\n",
      "  Est. success probability: 0.9440690690690691\n",
      "  Est. failure probability: 0.05593093093093093\n",
      "  Exp. success probability: 0.9440690690635414\n",
      "  Exp. failure probability: 0.05593093093645862\n",
      "α_2 = 0.14040641446047863\n",
      "  Est. graduates: 3635.0\n",
      "  Successful (data): 3238\n",
      "  Est. unsuccessful: 397.0\n",
      "  Exp. unsuccessful: 396.999999960894\n",
      "  Est. success probability: 0.8907840440165062\n",
      "  Est. failure probability: 0.10921595598349376\n",
      "  Exp. success probability: 0.8907840440272644\n",
      "  Exp. failure probability: 0.10921595597273559\n",
      "α_3 = 0.17308422096214712\n",
      "  Est. graduates: 4481.0\n",
      "  Successful (data): 3582\n",
      "  Est. unsuccessful: 899.0\n",
      "  Exp. unsuccessful: 899.0000000587829\n",
      "  Est. success probability: 0.7993751394777951\n",
      "  Est. failure probability: 0.20062486052220485\n",
      "  Exp. success probability: 0.7993751394646769\n",
      "  Exp. failure probability: 0.20062486053532314\n",
      "α_4 = 0.08822235230474092\n",
      "  Est. graduates: 2284.0\n",
      "  Successful (data): 1660\n",
      "  Est. unsuccessful: 624.0\n",
      "  Exp. unsuccessful: 623.9999999655979\n",
      "  Est. success probability: 0.7267950963222417\n",
      "  Est. failure probability: 0.2732049036777583\n",
      "  Exp. success probability: 0.7267950963373039\n",
      "  Exp. failure probability: 0.2732049036626961\n",
      "\n",
      "estimated total graduates: 14411\n",
      "successful graduates in sample: 10995\n",
      "estimated unsuccessful graduates: 3416\n",
      "\n",
      "estimated placement rates:\n"
     ]
    },
    {
     "data": {
      "text/plain": [
       "7×4 Matrix{Float64}:\n",
       " 382.231     88.3865    48.538   17.0756\n",
       " 448.791    398.096    231.875   65.5205\n",
       " 402.506    775.083    547.6    122.492\n",
       "  94.0477   193.136    348.826  208.234\n",
       " 293.071    440.841    396.891  140.566\n",
       " 350.041    331.4      307.657  127.857\n",
       " 544.313   1011.06    1700.61   978.256"
      ]
     },
     "metadata": {},
     "output_type": "display_data"
    },
    {
     "name": "stdout",
     "output_type": "stream",
     "text": [
      "\n",
      "actual placement rates:\n"
     ]
    },
    {
     "data": {
      "text/plain": [
       "7×4 Matrix{Int64}:\n",
       " 383    84    55   14\n",
       " 442   416   200   82\n",
       " 422   726   598  103\n",
       "  88   224   293  240\n",
       " 293   436   406  136\n",
       " 352   320   329  117\n",
       " 535  1032  1701  968"
      ]
     },
     "metadata": {},
     "output_type": "display_data"
    },
    {
     "name": "stdout",
     "output_type": "stream",
     "text": [
      "\n",
      "difference between estimated and actual placement rates:\n"
     ]
    },
    {
     "data": {
      "text/plain": [
       "7×4 Matrix{Float64}:\n",
       "  -0.769478    4.3865    -6.46204     3.07565\n",
       "   6.79115   -17.9041    31.8749    -16.4795\n",
       " -19.494      49.0832   -50.3997     19.4917\n",
       "   6.04769   -30.8639    55.8257    -31.7663\n",
       "   0.071364    4.84066   -9.10899     4.56598\n",
       "  -1.95928    11.3999   -21.3426     10.8568\n",
       "   9.31253   -20.9422    -0.387245   10.2557"
      ]
     },
     "metadata": {},
     "output_type": "display_data"
    },
    {
     "name": "stdout",
     "output_type": "stream",
     "text": [
      "\n",
      "chi-square p-value, successful placements\n",
      "0.0003089722354325808\n",
      "\n",
      "estimated successful departments in each tier:\n"
     ]
    },
    {
     "data": {
      "text/plain": [
       "7-element Vector{Float64}:\n",
       "  536.2306255136245\n",
       " 1144.2823812859667\n",
       " 1847.681207387198\n",
       "  844.2431946170385\n",
       " 1271.3690131438734\n",
       " 1116.9547868012437\n",
       " 4234.238791251055"
      ]
     },
     "metadata": {},
     "output_type": "display_data"
    },
    {
     "name": "stdout",
     "output_type": "stream",
     "text": [
      "\n",
      "actual successful departments in each tier:\n"
     ]
    },
    {
     "data": {
      "text/plain": [
       "7-element Vector{Int64}:\n",
       "  536\n",
       " 1140\n",
       " 1849\n",
       "  845\n",
       " 1271\n",
       " 1118\n",
       " 4236"
      ]
     },
     "metadata": {},
     "output_type": "display_data"
    },
    {
     "name": "stdout",
     "output_type": "stream",
     "text": [
      "\n",
      "estimated successful graduates in each tier:\n"
     ]
    },
    {
     "data": {
      "text/plain": [
       "4-element Vector{Float64}:\n",
       " 2514.9999999852744\n",
       " 3238.000000039106\n",
       " 3581.999999941217\n",
       " 1660.000000034402"
      ]
     },
     "metadata": {},
     "output_type": "display_data"
    },
    {
     "name": "stdout",
     "output_type": "stream",
     "text": [
      "\n",
      "actual successful graduates in each tier:\n"
     ]
    },
    {
     "data": {
      "text/plain": [
       "4-element Vector{Int64}:\n",
       " 2515\n",
       " 3238\n",
       " 3582\n",
       " 1660"
      ]
     },
     "metadata": {},
     "output_type": "display_data"
    },
    {
     "name": "stdout",
     "output_type": "stream",
     "text": [
      "\n",
      "μ parameter values\n",
      "[2.4818710527218975, 0.4769560887214227, 0.42975270854979014, -3.7580123862225494, 0.3587047301872907, 0.25953737991481907, -1.9430982461295008]\n",
      "\n",
      "σ parameter values\n",
      "[1.127724685979468, 0.20432380588551424, 0.12907254182249672, 0.7815575056380789, 0.19306584290756887, 0.31780910716226135, 0.6269948878326131]\n",
      "\n",
      "┌──────┬─────────────────────┬────────────────────────────────────────────┐\n",
      "│\u001b[1m Tier \u001b[0m│\u001b[1m Estimated ρ beliefs \u001b[0m│\u001b[1m Proportion of successful depts among tiers \u001b[0m│\n",
      "├──────┼─────────────────────┼────────────────────────────────────────────┤\n",
      "│  1.0 │           0.0302719 │                                  0.0487494 │\n",
      "│  2.0 │           0.0760177 │                                   0.103683 │\n",
      "│  3.0 │            0.127976 │                                   0.168167 │\n",
      "│  4.0 │            0.102043 │                                  0.0768531 │\n",
      "│  5.0 │           0.0957396 │                                   0.115598 │\n",
      "│  6.0 │           0.0865797 │                                   0.101683 │\n",
      "│  7.0 │            0.481372 │                                   0.385266 │\n",
      "└──────┴─────────────────────┴────────────────────────────────────────────┘\n"
     ]
    }
   ],
   "source": [
    "print_metrics(sol_2, estimated_v_rel, estimated_γ, estimated_τ, res.placements, k, K, M, estimated_m_val)"
   ]
  },
  {
   "cell_type": "markdown",
   "id": "abf96e06-5a06-40e9-9f3e-1f2e855bd2c3",
   "metadata": {},
   "source": [
    "## 7. Save results"
   ]
  },
  {
   "cell_type": "code",
   "execution_count": 33,
   "id": "4cb1651d-f552-4707-b586-5c6d13278c06",
   "metadata": {},
   "outputs": [],
   "source": [
    "save(\"estimated_parameters_collapse_sinks_new.jld\", \"sol_2\", sol_2, \"estimated_v_rel\", estimated_v_rel, \"estimated_γ\", estimated_γ, \"estimated_τ\", estimated_τ, \"estimated_α\", estimated_α, \"k\", k, \"K\", K, \"estimated_n_val\", estimated_n_val, \"m_t_values\", m_t_values) "
   ]
  }
 ],
 "metadata": {
  "kernelspec": {
   "display_name": "Julia 1.11.1",
   "language": "julia",
   "name": "julia-1.11"
  },
  "language_info": {
   "file_extension": ".jl",
   "mimetype": "application/julia",
   "name": "julia",
   "version": "1.11.1"
  }
 },
 "nbformat": 4,
 "nbformat_minor": 5
}
