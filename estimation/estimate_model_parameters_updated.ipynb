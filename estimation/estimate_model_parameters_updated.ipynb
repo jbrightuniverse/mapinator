{
 "cells": [
  {
   "cell_type": "code",
   "execution_count": 1,
   "metadata": {},
   "outputs": [
    {
     "name": "stderr",
     "output_type": "stream",
     "text": [
      "\u001b[32m\u001b[1m  Activating\u001b[22m\u001b[39m project at `C:\\Users\\jbrig\\Documents\\research\\mapinator_2024`\n"
     ]
    }
   ],
   "source": [
    "using Pkg\n",
    "Pkg.activate(\".\")\n",
    "# for pkg in [\"BlackBoxOptim\", \"ForwardDiff\", \"Integrals\", \"Roots\", \"StatsPlots\", \"DelimitedFiles\"]\n",
    "#     Pkg.add(pkg)\n",
    "# end\n",
    "# Pkg.instantiate()\n",
    "\n",
    "using BlackBoxOptim, Distributions, ForwardDiff, Integrals, Roots, DelimitedFiles, Random, StatProfilerHTML"
   ]
  },
  {
   "cell_type": "code",
   "execution_count": 2,
   "metadata": {},
   "outputs": [
    {
     "data": {
      "text/plain": [
       "(placements = [696 150 25 16; 1321 670 212 85; … ; 254 167 88 72; 838 1003 622 477],)"
      ]
     },
     "execution_count": 2,
     "metadata": {},
     "output_type": "execute_result"
    }
   ],
   "source": [
    "Random.seed!(0) # for reproducibility\n",
    "#res = (;placements = placement_rates)\n",
    "#res = (;placements = [496 66 33 3; 455 196 84 12; 725 618 363 43; 84 148 83 63; 126 66 41 29; 359 258 131 34; 447 206 94 18; 394 523 508 143]) # can also load an adjacency matrix directly\n",
    "\n",
    "res = (; placements = [696   150   25   16;\n",
    "1321   670  212   85;\n",
    " 847   829  499  165;\n",
    "  40    79   96  177;\n",
    " 725   530  236  125;\n",
    " 782   438  186  118;\n",
    " 254   167   88   72;\n",
    " 838  1003  622  477])"
   ]
  },
  {
   "cell_type": "markdown",
   "metadata": {},
   "source": [
    "Helper functions for the mathematics:"
   ]
  },
  {
   "cell_type": "code",
   "execution_count": 3,
   "metadata": {},
   "outputs": [
    {
     "data": {
      "text/plain": [
       "pi (generic function with 1 method)"
      ]
     },
     "execution_count": 3,
     "metadata": {},
     "output_type": "execute_result"
    }
   ],
   "source": [
    "# define p_vec as e.g.\n",
    "# [v2/v1 v3/v2 v4/v3 α1 α2 α3 α4 mu1 mu2 mu3 mu4 mus sg1 sg2 sg3 sg4 sgs]\n",
    "\n",
    "function F(x, ρ, normals, K)\n",
    "    return sum([ρ[i] * cdf(normals[i], x) for i in 1:K])\n",
    "end\n",
    "\n",
    "function G(Fim1, Fx, αsum)\n",
    "    return (Fim1 - Fx) / αsum\n",
    "end\n",
    "\n",
    "function κ(i, t, v_rel)\n",
    "    return sum([-log(v_rel[j]) for j in t:i-1])\n",
    "end\n",
    "\n",
    "function f_integrand(x, p)\n",
    "    integrals = zeros(p.s * p.K)\n",
    "    j = 1\n",
    "    pdfs = [pdf(p.normals[i], x) for i in 1:p.K]\n",
    "    base_G = G(p.Fx_vec[p.s], F(x, p.ρ, p.normals, p.K), sum(p.α[1:p.s]))\n",
    "    for t in 1:p.s\n",
    "        base_exp = exp(-(base_G + κ(p.s, t, p.v_rel)))\n",
    "        for i in 1:p.K\n",
    "            integrals[j] = base_exp * pdfs[i]\n",
    "            j += 1\n",
    "        end\n",
    "    end\n",
    "    return integrals\n",
    "end\n",
    "\n",
    "function get_integrals(Fx_vec, x_vec, ρ, normals, α, v_rel, k, K)\n",
    "    # Fx_vec = [F(x0)=1, F(x1), F(x2), F(x3), ..., F(xk-1)]\n",
    "    # x_vec = [x0 = 1, x1, x2, x3, ..., xk = 0]\n",
    "    # x_vec[s] = x_{s-1}, so the limits of integration are and must be offset by 1 below\n",
    "    all_integrals = zeros(K, k, k)\n",
    "    for s in 1:k\n",
    "        prob = IntegralProblem(f_integrand, x_vec[s+1], x_vec[s], (; s, Fx_vec, ρ, normals, α, v_rel, K))\n",
    "        sol = solve(prob, HCubatureJL(); reltol = 1e-3, abstol = 1e-3)\n",
    "        integrals_result = sol.u\n",
    "        j = 1\n",
    "        for t in 1:s\n",
    "            for i in 1:K\n",
    "                all_integrals[i, t, s] = integrals_result[j]\n",
    "                j += 1\n",
    "            end\n",
    "        end\n",
    "    end\n",
    "    return all_integrals\n",
    "end     \n",
    "\n",
    "function q(i, t, all_integrals, α, k)\n",
    "    return sum([(α[t]/sum(α[1:s])) * all_integrals[i, t, s] for s in t:k])\n",
    "end\n",
    "\n",
    "function Fx(t, α, v_rel)\n",
    "    return 1 - sum([-log(v_rel[j])*sum(α[1:j]) for j in 1:t])\n",
    "end\n",
    "\n",
    "function pi(t, α)\n",
    "    return α[t] / sum(α[1:t])\n",
    "end"
   ]
  },
  {
   "cell_type": "code",
   "execution_count": 4,
   "metadata": {},
   "outputs": [
    {
     "data": {
      "text/plain": [
       "chisquare (generic function with 1 method)"
      ]
     },
     "execution_count": 4,
     "metadata": {},
     "output_type": "execute_result"
    }
   ],
   "source": [
    "function chisquare(p_vec, placements, k, K, M)\n",
    "    v_rel = p_vec[1:k-1]\n",
    "    α = 1.0 * p_vec[k:2k-1] / sum(p_vec[k:2k-1]) # change 1.0 to scale number of graduates vs departments\n",
    "    μ = p_vec[2k:2k+K-1]\n",
    "    σ = p_vec[2k+K:2k+2K-1]\n",
    "    n = p_vec[2k+2K:2k+3K-1]\n",
    "    ρ = n / sum(n)\n",
    "    \n",
    "    ## compute the cutoffs x and the CDF values F(x)\n",
    "\n",
    "    normals = [truncated(Normal(μ[i], σ[i]), 0, 1) for i in 1:K]\n",
    "    \n",
    "    Fx_vec = ones(k) # sets F(x0) = 1 by default; Fx_vec = [F(x0)=1, F(x1), F(x2), F(x3), ..., F(xk-1)]\n",
    "    x_vec = ones(k+1) # x_vec = [x0 = 1, x1, x2, x3, ..., xk = 0]\n",
    "    x_vec[k+1] = 0.0\n",
    "    for t in 1:k-1\n",
    "        Fx_vec_candidate = Fx(t, α, v_rel)\n",
    "        if Fx_vec_candidate <= 0.0 # TODO: if this case occurs, can we speed up q()?\n",
    "            Fx_vec[t+1:k] .= 0.0\n",
    "            x_vec[t+1:k] .= 0.0\n",
    "            break\n",
    "        end\n",
    "        Fx_vec[t+1] = Fx_vec_candidate\n",
    "        # there is no simple closed-form for F^{-1}(x) so this numerically computes x1, x2, x3\n",
    "        x_vec[t+1] = find_zero(x -> F(x, ρ, normals, K) - Fx_vec[t+1], 0.5) \n",
    "    end\n",
    "    \n",
    "    objective = 0.0\n",
    "    \n",
    "    ## compute the q_i^t values: probability that a department, conditional on being in tier i, \n",
    "    ##     successfully hires an applicant from tier t.\n",
    "\n",
    "    # TODO: div by zero and negative floating point edge cases in mean\n",
    "    all_integrals = get_integrals(Fx_vec, x_vec, ρ, normals, α, v_rel, k, K)\n",
    "    for i in 1:K, t in 1:k\n",
    "        expectation = n[i] * q(i, t, all_integrals, α, k)\n",
    "        objective += (placements[i, t] - expectation) ^ 2 / expectation\n",
    "    end\n",
    "\n",
    "    return objective\n",
    "end"
   ]
  },
  {
   "cell_type": "code",
   "execution_count": 5,
   "metadata": {},
   "outputs": [
    {
     "name": "stdout",
     "output_type": "stream",
     "text": [
      "Starting optimization with optimizer DiffEvoOpt{FitPopulation{Float64}, RadiusLimitedSelector, BlackBoxOptim.AdaptiveDiffEvoRandBin{3}, RandomBound{ContinuousRectSearchSpace}}\n",
      "0.00 secs, 0 evals, 0 steps\n",
      "5.00 secs, 57012 evals, 56920 steps, improv/step: 0.161 (last = 0.1607), fitness=26.879170898\n",
      "10.00 secs, 91503 evals, 91419 steps, improv/step: 0.154 (last = 0.1428), fitness=21.415978833\n",
      "\n",
      "Optimization stopped after 99917 steps and 11.47 seconds\n",
      "Termination reason: Max number of function evaluations (100000) reached\n",
      "Steps per second = 8709.64\n",
      "Function evals per second = 8716.96\n",
      "Improvements/step = Inf\n",
      "Total function evaluations = 100001\n",
      "\n",
      "\n",
      "Best candidate found: [0.514154, 0.59031, 0.615137, 0.90581, 0.76886, 0.553001, 0.968584, 0.999803, 0.577634, 0.401146, 0.195121, 0.436056, 0.471932, 0.252498, 0.264101, 0.398673, 0.282766, 0.20521, 0.0111713, 0.284025, 0.374591, 0.465707, 0.259308, 1283.26, 3829.43, 4508.92, 800.476, 2927.3, 2652.33, 1060.02, 5864.53]\n",
      "\n",
      "Fitness: 20.595520225\n",
      "\n"
     ]
    },
    {
     "data": {
      "text/plain": [
       "31-element Vector{Float64}:\n",
       "    0.5141540346234011\n",
       "    0.5903096583937368\n",
       "    0.6151374449458451\n",
       "    0.9058099795551449\n",
       "    0.7688599636150314\n",
       "    0.5530011326186408\n",
       "    0.9685842035880219\n",
       "    0.9998030687524304\n",
       "    0.5776337189310451\n",
       "    0.40114646079216915\n",
       "    0.19512058120493728\n",
       "    0.43605631568770997\n",
       "    0.4719318312192995\n",
       "    ⋮\n",
       "    0.2840251855614333\n",
       "    0.3745911084008378\n",
       "    0.46570745496169785\n",
       "    0.25930832550030497\n",
       " 1283.2631203697513\n",
       " 3829.432523730666\n",
       " 4508.923744803454\n",
       "  800.476052796814\n",
       " 2927.3005393941235\n",
       " 2652.328187273871\n",
       " 1060.0190775517506\n",
       " 5864.526315673987"
      ]
     },
     "execution_count": 5,
     "metadata": {},
     "output_type": "execute_result"
    }
   ],
   "source": [
    "NUMBER_OF_TYPES = 4\n",
    "numtotal = 8\n",
    "\n",
    "k = NUMBER_OF_TYPES\n",
    "K = numtotal\n",
    "M = sum(res.placements)\n",
    "\n",
    "# upper/lower bound on the value ratios, which should all be less than 1\n",
    "# if any ratio turns out to be 1.0 or close to it at optimality, this could indicate that a lower tier has a higher value than a higher one\n",
    "upper = [1.0 for _ in 1:k-1] \n",
    "lower = [0.0 for _ in 1:k-1]\n",
    "\n",
    "# upper/lower bound on variables proportionate to alpha\n",
    "append!(upper, [1.0 for _ in 1:k])\n",
    "append!(lower, [0.0 for _ in 1:k])\n",
    "\n",
    "# upper/lower bound on the mu parameter of truncated normal, which is strictly within [0, 1] as the mean is greater than mu in truncated normal\n",
    "append!(upper, [1.0 for _ in 1:K])\n",
    "append!(lower, [0.0 for _ in 1:K])\n",
    "\n",
    "# upper/lower bound on the sigma parameter of truncated normal\n",
    "append!(upper, [5.0 for _ in 1:K])\n",
    "append!(lower, [0.0 for _ in 1:K])\n",
    "\n",
    "# upper/lower bound on n_i\n",
    "append!(upper, [30000.0 for _ in 1:K])\n",
    "append!(lower, [sum(res.placements[i, :]) for i in 1:K])\n",
    "\n",
    "# @profilehtml\n",
    "sol_res = bboptimize(p -> chisquare(p, res.placements, k, K, M), SearchRange = [(lower[i], upper[i]) for i in eachindex(upper)], MaxFuncEvals = 100000, TraceInterval = 5)\n",
    "sol = best_candidate(sol_res)\n",
    "\n",
    "# benchmark: 176.23s\n",
    "# with tol=1e-3: 149.40s\n",
    "# vector-valued integrand with no optimization: 175.10s\n",
    "# with variable caching: 42.05s\n",
    "# with distribution caching: 9.62s"
   ]
  },
  {
   "cell_type": "code",
   "execution_count": 6,
   "metadata": {},
   "outputs": [
    {
     "data": {
      "text/plain": [
       "print_metrics_chisquare (generic function with 1 method)"
      ]
     },
     "execution_count": 6,
     "metadata": {},
     "output_type": "execute_result"
    }
   ],
   "source": [
    "function print_metrics_chisquare(p_vec, placements, k, K, M)\n",
    "    v_rel = p_vec[1:k-1]\n",
    "    α = 1.0 * p_vec[k:2k-1] / sum(p_vec[k:2k-1]) # change 1.0 to scale number of graduates vs departments\n",
    "    μ = p_vec[2k:2k+K-1]\n",
    "    σ = p_vec[2k+K:2k+2K-1]\n",
    "    n = p_vec[2k+2K:2k+3K-1]\n",
    "    ρ = n / sum(n)\n",
    "\n",
    "    normals = [truncated(Normal(μ[i], σ[i]), 0, 1) for i in 1:K]\n",
    "    \n",
    "    Fx_vec = ones(k)\n",
    "    x_vec = ones(k+1)\n",
    "    x_vec[k+1] = 0.0\n",
    "    for t in 1:k-1\n",
    "        Fx_vec_candidate = Fx(t, α, v_rel)\n",
    "        if Fx_vec_candidate <= 0.0\n",
    "            Fx_vec[t+1:k] .= 0.0\n",
    "            x_vec[t+1:k] .= 0.0\n",
    "            break\n",
    "        end\n",
    "        Fx_vec[t+1] = Fx_vec_candidate\n",
    "        x_vec[t+1] = find_zero(x -> F(x, ρ, normals, K) - Fx_vec[t+1], 0.5) \n",
    "    end\n",
    "\n",
    "    objective = 0.0\n",
    "    normalizer = 0.0\n",
    "    \n",
    "    q_it = zeros(K, k)\n",
    "    all_integrals = get_integrals(Fx_vec, x_vec, ρ, normals, α, v_rel, k, K)\n",
    "    for i in 1:K, t in 1:k\n",
    "        prob = q(i, t, all_integrals, α, k)\n",
    "        q_it[i, t] = prob\n",
    "        normalizer += ρ[i] * prob\n",
    "    end\n",
    "\n",
    "    round_1_failure = zeros(K)\n",
    "    for i in 1:K\n",
    "        round_1_failure[i] = (1 - sum([q_it[i, s] for s in 1:k]))\n",
    "    end\n",
    "    \n",
    "    # TODO: div by zero and negative floating point in mean\n",
    "    exp_placements = zeros(K, k)\n",
    "    for i in 1:K, t in 1:k \n",
    "        expectation = n[i] * q_it[i, t]\n",
    "        exp_placements[i, t] = expectation\n",
    "        objective += (placements[i, t] - expectation) ^ 2 / expectation\n",
    "    end\n",
    "    \n",
    "    println(\"objective value = \", objective)\n",
    "    println(\"success sample size (departments) = \", M)\n",
    "    println(\"estimated total samples (departments) = \", sum(n))\n",
    "    println(\"estimated unmatched departments = \", sum(n) - M)\n",
    "    println(\"estimated probability of any success: \", M / sum(n))\n",
    "    println(\"estimated probability of no success: \", 1 - (M / sum(n)))\n",
    "    println()\n",
    "    println(\"estimated fraction of departments of each tier:\")\n",
    "    for i in 1:K\n",
    "        println(\"ρ_\", i, \" = \", ρ[i])\n",
    "    end\n",
    "    println()\n",
    "    println(\"estimated departments of each tier:\")\n",
    "    for i in 1:K\n",
    "        println(\"n_\", i, \" = \", n[i])\n",
    "        println(\"  Successful: \", sum(placements[i, :]))\n",
    "        println(\"  Unsuccessful: \", n[i] - sum(placements[i, :]))\n",
    "    end\n",
    "    println()\n",
    "    #println(\"fractions observed among successful departments in data:\")\n",
    "    #display(sum(placements, dims = 2) ./ M)\n",
    "    #println()\n",
    "\n",
    "    for i in 1:k\n",
    "        println(\"pi_\", i, \" = \", pi(i, α))\n",
    "    end\n",
    "    println()\n",
    "\n",
    "    offer_targets = zeros(k, k)\n",
    "    for t in 1:k, j in 1:t\n",
    "        offer_targets[t, j] = pi(j, α) * prod([1 - pi(i, α) for i in j+1:t])\n",
    "    end\n",
    "    println(\"Tier selection probabilities for making offers:\")\n",
    "    display(offer_targets)\n",
    "    println()\n",
    "\n",
    "    println(\"Hiring probabilities (q_i^t):\")\n",
    "    display(q_it)\n",
    "    println()\n",
    "\n",
    "    println(\"Probabilities of failing (1 - sum_t q_i^t):\")\n",
    "    display(round_1_failure)\n",
    "    println()\n",
    "\n",
    "    for i in 1:k+1\n",
    "        println(\"x_\", i - 1, \" = \", x_vec[i])\n",
    "    end\n",
    "    println()\n",
    "    for i in 1:k\n",
    "        println(\"F(x_\", i - 1, \") = \", Fx_vec[i])\n",
    "    end\n",
    "    println()\n",
    "    for i in 1:k\n",
    "        println(\"α_\", i, \" = \", α[i])\n",
    "        println(\"  Est. graduates: \", α[i] * (sum(n) - 1))\n",
    "        println(\"  Successful: \", sum(placements[:, i]))\n",
    "        println(\"  Unsuccessful: \", (α[i] * (sum(n) - 1)) - sum(placements[:, i]))\n",
    "    end\n",
    "    println()\n",
    "    println(\"Total estimated graduates: \", sum(α) * (sum(n) - 1))\n",
    "    println(\"Total successful graduates: \", M)\n",
    "    println(\"Total estimated unsuccessful graduates: \", (sum(α) * (sum(n) - 1)) - M)\n",
    "    println()\n",
    "    println(\"estimated placement rates:\")\n",
    "    display(exp_placements)\n",
    "    println()\n",
    "    println(\"actual placement rates:\")\n",
    "    display(placements)\n",
    "    println()\n",
    "    println(\"difference between estimated and actual placement rates:\")\n",
    "    display(exp_placements - placements)\n",
    "    println()\n",
    "    println(\"chi-square p-value\")\n",
    "    println(1 - cdf(Chisq((size(placements)[1] - 1) * (size(placements)[2] - 1)), objective))\n",
    "    println()\n",
    "end"
   ]
  },
  {
   "cell_type": "code",
   "execution_count": 7,
   "metadata": {},
   "outputs": [
    {
     "name": "stdout",
     "output_type": "stream",
     "text": [
      "objective value = 20.595520225470928\n",
      "success sample size (departments) = 12568\n",
      "estimated total samples (departments) = 22926.269561594418\n",
      "estimated unmatched departments = 10358.269561594418\n",
      "estimated probability of any success: 0.5481921062750496\n",
      "estimated probability of no success: 0.45180789372495045\n",
      "\n",
      "estimated fraction of departments of each tier:\n",
      "ρ_1 = 0.055973481290625904\n",
      "ρ_2 = 0.16703251758609902\n",
      "ρ_3 = 0.19667062418025058\n",
      "ρ_4 = 0.03491523340272304\n",
      "ρ_5 = 0.12768324700752332\n",
      "ρ_6 = 0.11568947927389779\n",
      "ρ_7 = 0.04623600340665414\n",
      "ρ_8 = 0.2557994138522262\n",
      "\n",
      "estimated departments of each tier:\n",
      "n_1 = 1283.2631203697513\n",
      "  Successful: 887\n",
      "  Unsuccessful: 396.2631203697513\n",
      "n_2 = 3829.432523730666\n",
      "  Successful: 2288\n",
      "  Unsuccessful: 1541.4325237306662\n",
      "n_3 = 4508.923744803454\n",
      "  Successful: 2340\n",
      "  Unsuccessful: 2168.9237448034537\n",
      "n_4 = 800.476052796814\n",
      "  Successful: 392\n",
      "  Unsuccessful: 408.476052796814\n",
      "n_5 = 2927.3005393941235\n",
      "  Successful: 1616\n",
      "  Unsuccessful: 1311.3005393941235\n",
      "n_6 = 2652.328187273871\n",
      "  Successful: 1524\n",
      "  Unsuccessful: 1128.3281872738712\n",
      "n_7 = 1060.0190775517506\n",
      "  Successful: 581\n",
      "  Unsuccessful: 479.01907755175057\n",
      "n_8 = 5864.526315673987\n",
      "  Successful: 2940\n",
      "  Unsuccessful: 2924.5263156739866\n",
      "\n",
      "pi_1 = 1.0\n",
      "pi_2 = 0.45911134116348173\n",
      "pi_3 = 0.24824182467010908\n",
      "pi_4 = 0.3030371853705199\n",
      "\n",
      "Tier selection probabilities for making offers:\n"
     ]
    },
    {
     "data": {
      "text/plain": [
       "4×4 Matrix{Float64}:\n",
       " 1.0       0.0       0.0       0.0\n",
       " 0.540889  0.459111  0.0       0.0\n",
       " 0.406617  0.345141  0.248242  0.0\n",
       " 0.283397  0.24055   0.173015  0.303037"
      ]
     },
     "metadata": {},
     "output_type": "display_data"
    },
    {
     "name": "stdout",
     "output_type": "stream",
     "text": [
      "\n",
      "Hiring probabilities (q_i^t):\n"
     ]
    },
    {
     "data": {
      "text/plain": [
       "8×4 Matrix{Float64}:\n",
       " 0.54013    0.116327   0.0277185  0.00925432\n",
       " 0.346526   0.172122   0.0578898  0.0215909\n",
       " 0.182001   0.197936   0.0996499  0.0399291\n",
       " 0.0579468  0.0956635  0.116559   0.221357\n",
       " 0.247861   0.178654   0.0817063  0.0427034\n",
       " 0.295068   0.162305   0.0724696  0.0439292\n",
       " 0.240752   0.155273   0.0846148  0.0676648\n",
       " 0.144977   0.166135   0.109336   0.0810258"
      ]
     },
     "metadata": {},
     "output_type": "display_data"
    },
    {
     "name": "stdout",
     "output_type": "stream",
     "text": [
      "\n",
      "Probabilities of failing (1 - sum_t q_i^t):\n"
     ]
    },
    {
     "data": {
      "text/plain": [
       "8-element Vector{Float64}:\n",
       " 0.30657000971465964\n",
       " 0.40187131563044387\n",
       " 0.48048450954439126\n",
       " 0.5084735539840186\n",
       " 0.44907563908294534\n",
       " 0.4262279842202772\n",
       " 0.4516950237863232\n",
       " 0.4985254641426784"
      ]
     },
     "metadata": {},
     "output_type": "display_data"
    },
    {
     "name": "stdout",
     "output_type": "stream",
     "text": [
      "\n",
      "x_0 = 1.0\n",
      "x_1 = 0.6725980061595509\n",
      "x_2 = 0.4451007668644862\n",
      "x_3 = 0.20266183831789475\n",
      "x_4 = 0.0\n",
      "\n",
      "F(x_0) = 1.0\n",
      "F(x_1) = 0.8114749680460555\n",
      "F(x_2) = 0.5352980341309334\n",
      "F(x_3) = 0.19663714760289586\n",
      "\n",
      "α_1 = 0.283397257221503\n",
      "  Est. graduates: 6496.9585148194665\n",
      "  Successful: 5503\n",
      "  Unsuccessful: 993.9585148194665\n",
      "α_2 = 0.24055023657714003\n",
      "  Est. graduates: 5514.679016636244\n",
      "  Successful: 3866\n",
      "  Unsuccessful: 1648.6790166362443\n",
      "α_3 = 0.17301532083083715\n",
      "  Est. graduates: 3966.4228683326833\n",
      "  Successful: 1964\n",
      "  Unsuccessful: 2002.4228683326833\n",
      "α_4 = 0.3030371853705199\n",
      "  Est. graduates: 6947.209161806025\n",
      "  Successful: 1235\n",
      "  Unsuccessful: 5712.209161806025\n",
      "\n",
      "Total estimated graduates: 22925.269561594418\n",
      "Total successful graduates: 12568\n",
      "Total estimated unsuccessful graduates: 10357.269561594418\n",
      "\n",
      "estimated placement rates:\n"
     ]
    },
    {
     "data": {
      "text/plain": [
       "8×4 Matrix{Float64}:\n",
       "  693.129  149.278    35.5702   11.8757\n",
       " 1327.0    659.13    221.685    82.6809\n",
       "  820.627  892.478   449.314   180.037\n",
       "   46.385   76.5763   93.3025  177.191\n",
       "  725.563  522.973   239.179   125.006\n",
       "  782.617  430.487   192.213   116.515\n",
       "  255.202  164.593    89.6933   71.7259\n",
       "  850.224  974.303   641.205   475.178"
      ]
     },
     "metadata": {},
     "output_type": "display_data"
    },
    {
     "name": "stdout",
     "output_type": "stream",
     "text": [
      "\n",
      "actual placement rates:\n"
     ]
    },
    {
     "data": {
      "text/plain": [
       "8×4 Matrix{Int64}:\n",
       "  696   150   25   16\n",
       " 1321   670  212   85\n",
       "  847   829  499  165\n",
       "   40    79   96  177\n",
       "  725   530  236  125\n",
       "  782   438  186  118\n",
       "  254   167   88   72\n",
       "  838  1003  622  477"
      ]
     },
     "metadata": {},
     "output_type": "display_data"
    },
    {
     "name": "stdout",
     "output_type": "stream",
     "text": [
      "\n",
      "difference between estimated and actual placement rates:\n"
     ]
    },
    {
     "data": {
      "text/plain": [
       "8×4 Matrix{Float64}:\n",
       "  -2.87069    -0.722055   10.5702   -4.12428\n",
       "   5.99784   -10.8702      9.6849   -2.31905\n",
       " -26.3733     63.4779    -49.6861   15.0373\n",
       "   6.38501    -2.42367    -2.69747   0.191275\n",
       "   0.562939   -7.02656     3.17899   0.00580697\n",
       "   0.617204   -7.51326     6.21313  -1.48538\n",
       "   1.20199    -2.40748     1.6933   -0.27407\n",
       "  12.2241    -28.697      19.2053   -1.82185"
      ]
     },
     "metadata": {},
     "output_type": "display_data"
    },
    {
     "name": "stdout",
     "output_type": "stream",
     "text": [
      "\n",
      "chi-square p-value\n",
      "0.48387102982785446\n",
      "\n",
      "v_2/v_1 = 0.5141540346234011\n",
      "v_3/v_2 = 0.5903096583937368\n",
      "v_4/v_3 = 0.6151374449458451\n",
      "v1: 1\n",
      "v2: 0.5141540346234011\n",
      "v3: 0.3035100925403015\n",
      "v4: 0.18670042284051805\n",
      "\n",
      "mean for type 1: 0.6917928364836161\n",
      "stddev for type 1: 0.22392245431369764\n",
      "\n",
      "mean for type 2: 0.5524440119250077\n",
      "stddev for type 2: 0.23092747594049745\n",
      "\n",
      "mean for type 3: 0.4124079597512885\n",
      "stddev for type 3: 0.19046305573527805\n",
      "\n",
      "mean for type 4: 0.19512058120493728\n",
      "stddev for type 4: 0.011171308259030512\n",
      "\n",
      "mean for sink 1: 0.45693557813302466\n",
      "stddev for sink 1: 0.2320852921330966\n",
      "\n",
      "mean for sink 2: 0.4869306713453784\n",
      "stddev for sink 2: 0.25550422597238753\n",
      "\n",
      "mean for sink 3: 0.41993954859567845\n",
      "stddev for sink 3: 0.2607174656974663\n",
      "\n",
      "mean for sink 4: 0.3349255141016291\n",
      "stddev for sink 4: 0.20330555976385428\n",
      "\n"
     ]
    }
   ],
   "source": [
    "# ensure the correct metrics function is used based on the selected optimizer\n",
    "print_metrics_chisquare(sol, res.placements, k, K, M)\n",
    "\n",
    "for i in 1:k-1\n",
    "    println(\"v_\", i + 1, \"/v_\", i, \" = \", sol[i])\n",
    "end\n",
    "\n",
    "v_base = 1\n",
    "for i in 1:k\n",
    "    println(\"v\", i, \": \", v_base)\n",
    "    if i != k\n",
    "        v_base = sol[i] * v_base\n",
    "    end\n",
    "end\n",
    "\n",
    "println()\n",
    "\n",
    "for select_type in 1:k\n",
    "    println(\"mean for type \", select_type, \": \", mean(truncated(Normal(sol[2k-1+select_type], sol[2k-1+select_type+K]), 0, 1)))\n",
    "    println(\"stddev for type \", select_type, \": \", std(truncated(Normal(sol[2k-1+select_type], sol[2k-1+select_type+K]), 0, 1)))\n",
    "    println()\n",
    "end\n",
    "for select_type in k+1:K\n",
    "    println(\"mean for sink \", select_type - k, \": \", mean(truncated(Normal(sol[2k-1+select_type], sol[2k-1+select_type+K]), 0, 1)))\n",
    "    println(\"stddev for sink \", select_type - k, \": \", std(truncated(Normal(sol[2k-1+select_type], sol[2k-1+select_type+K]), 0, 1)))\n",
    "    println()\n",
    "end"
   ]
  }
 ],
 "metadata": {
  "kernelspec": {
   "display_name": "Julia 1.8.5",
   "language": "julia",
   "name": "julia-1.8"
  },
  "language_info": {
   "file_extension": ".jl",
   "mimetype": "application/julia",
   "name": "julia",
   "version": "1.8.5"
  },
  "widgets": {
   "application/vnd.jupyter.widget-state+json": {
    "state": {},
    "version_major": 2,
    "version_minor": 0
   }
  }
 },
 "nbformat": 4,
 "nbformat_minor": 4
}
